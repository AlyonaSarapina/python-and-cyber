{
  "nbformat": 4,
  "nbformat_minor": 0,
  "metadata": {
    "colab": {
      "provenance": [],
      "include_colab_link": true
    },
    "kernelspec": {
      "name": "python3",
      "display_name": "Python 3"
    },
    "language_info": {
      "name": "python"
    }
  },
  "cells": [
    {
      "cell_type": "markdown",
      "metadata": {
        "id": "view-in-github",
        "colab_type": "text"
      },
      "source": [
        "<a href=\"https://colab.research.google.com/github/AlyonaSarapina/python-and-cyber/blob/main/Copy_%2201_Cryptography_Caesar_cipher_ipynb%22.ipynb\" target=\"_parent\"><img src=\"https://colab.research.google.com/assets/colab-badge.svg\" alt=\"Open In Colab\"/></a>"
      ]
    },
    {
      "cell_type": "markdown",
      "source": [
        "# Cryptography with Python\n",
        "---\n",
        "\n",
        "## Getting started\n",
        "### Encrypting and decrypting data\n",
        "\n",
        "Useful for safe storage of passwords, encrypting smaller amounts of data before transfer\n",
        "\n",
        "Use **keys** and can be **symmetric** or **asymmetric**\n",
        "\n",
        "Let's start by looking at one of the simpler symmetric methods - the Caesar Cipher."
      ],
      "metadata": {
        "id": "T7jeG0_-XcOH"
      }
    },
    {
      "cell_type": "markdown",
      "source": [
        "### Symmetric cryptography\n",
        "---\n",
        "When the technique is symmetric the same key is used to encrypt and decrypt the data.\n",
        "\n",
        "The simplest example is the caesar cipher.\n",
        "\n",
        "#### Caesar cipher methodology\n",
        "\n",
        "A set of data is encrypted by taking each byte and adding a numerical value (the key) to produce an encrypted version of that byte data.  To return to the original data (decrypt) the same numerical value (key) is subtracted.\n",
        "\n",
        "**What would you expect the output of the following code to be?**"
      ],
      "metadata": {
        "id": "TcIS8uJRYpGU"
      }
    },
    {
      "cell_type": "code",
      "execution_count": 1,
      "metadata": {
        "id": "fEzpaikuXX7o",
        "colab": {
          "base_uri": "https://localhost:8080/"
        },
        "outputId": "b1f5cd58-0cb7-444f-9a28-82d3e9eb519d"
      },
      "outputs": [
        {
          "output_type": "stream",
          "name": "stdout",
          "text": [
            "[6, 7, 8, 9, 10]\n"
          ]
        }
      ],
      "source": [
        "# Caesar cipher code example - encrypt the data\n",
        "###############################################\n",
        "\n",
        "def encrypt(data_block):\n",
        "  key = 5\n",
        "  encrypted_block = []\n",
        "  for byte in data_block:\n",
        "    encrypted_block.append(byte + key)\n",
        "  return encrypted_block\n",
        "\n",
        "\n",
        "data = [1,2,3,4,5]\n",
        "encrypted_data = encrypt(data)\n",
        "print(encrypted_data)"
      ]
    },
    {
      "cell_type": "markdown",
      "source": [
        "#### Run the code above to get the output and check that it is what you expected.\n",
        "\n",
        "The caesar cipher methodology is:\n",
        "*  determine the key\n",
        "*  read the first byte of data from the input data array\n",
        "*  **add** the key to it\n",
        "*  add the result to the output data array  \n",
        "\n",
        "Repeat with the next byte until end of array reached\n",
        "\n",
        "**What would you expect the output of the following code to be?**"
      ],
      "metadata": {
        "id": "flUNGgpymYby"
      }
    },
    {
      "cell_type": "code",
      "source": [
        "# Caesar cipher code example - decrypt the data\n",
        "###############################################\n",
        "\n",
        "def decrypt(encrypted_block):\n",
        "  key = 5\n",
        "  data_block = []\n",
        "  for byte in encrypted_block:\n",
        "    data_block.append(byte - key)\n",
        "  return data_block\n",
        "\n",
        "\n",
        "processed_data = decrypt(encrypted_data)\n",
        "print(processed_data)"
      ],
      "metadata": {
        "id": "0rKp6KR_aob1",
        "colab": {
          "base_uri": "https://localhost:8080/"
        },
        "outputId": "88455173-0971-4905-8c6a-cfb553ca120a"
      },
      "execution_count": 4,
      "outputs": [
        {
          "output_type": "stream",
          "name": "stdout",
          "text": [
            "[1, 2, 3, 4, 5]\n"
          ]
        }
      ]
    },
    {
      "cell_type": "markdown",
      "source": [
        "#### Run the code above to get the output and check that it is what you expected.\n",
        "\n",
        "The caesar cipher methodology for decrypting is:\n",
        "*  determine the key\n",
        "*  read the first byte of data from the input data array\n",
        "*  **subtract** the key from it\n",
        "*  add the result to the output data array  \n",
        "\n",
        "Repeat with the next byte until end of array reached"
      ],
      "metadata": {
        "id": "UpGn4GP1npkR"
      }
    },
    {
      "cell_type": "markdown",
      "source": [
        "## Exercise 1 - encrypt some text using the ASCII values for each letter\n",
        "---\n",
        "Use a caesar cipher technique to encrypt this short message:\n",
        "\n",
        "\"Keep this a secret\"\n",
        "\n",
        "Use a key of 10 and write an encrypt and a decrypt function.\n",
        "\n",
        "**Remember**:  you are encrypting a string and not a list, start with an empty string rather than an empty list and convert each letter to its ASCII code ready for conversion\n",
        "\n",
        "Write the encrypt function ```def encrypt(message)```\n",
        "\n",
        "Run it with message = \"Keep this a secret\"\n",
        "\n",
        "Expected encrypted version: Uooz*~rs}*k*}om|o~"
      ],
      "metadata": {
        "id": "8fE08tsiXcHS"
      }
    },
    {
      "cell_type": "code",
      "source": [
        "# Caesar cipher code example - encrypt the data\n",
        "###############################################\n",
        "\n",
        "def encrypt(message):\n",
        "  key = 10\n",
        "  data = ''\n",
        "\n",
        "  for letter in message:\n",
        "    data += chr(ord(letter) + key)\n",
        "\n",
        "  return data\n",
        "\n",
        "encrypt(\"Keep this a secret\")\n",
        "\n"
      ],
      "metadata": {
        "id": "IVmYFZcYcCXX",
        "colab": {
          "base_uri": "https://localhost:8080/",
          "height": 35
        },
        "outputId": "6f4d9081-12b8-42fc-fefe-a60e13e3e991"
      },
      "execution_count": 5,
      "outputs": [
        {
          "output_type": "execute_result",
          "data": {
            "text/plain": [
              "'Uooz*~rs}*k*}om|o~'"
            ],
            "application/vnd.google.colaboratory.intrinsic+json": {
              "type": "string"
            }
          },
          "metadata": {},
          "execution_count": 5
        }
      ]
    },
    {
      "cell_type": "markdown",
      "source": [
        "Now write the code to decrypt, expecting to get the original message back"
      ],
      "metadata": {
        "id": "6l8xy4dueMYm"
      }
    },
    {
      "cell_type": "code",
      "source": [
        "# Caesar cipher code example - decrypt the data\n",
        "###############################################\n",
        "\n",
        "def decrypt(message):\n",
        "  key = 10\n",
        "  data = ''\n",
        "\n",
        "  for letter in message:\n",
        "    data += chr(ord(letter) - key)\n",
        "\n",
        "  return data\n",
        "\n",
        "decrypt('Uooz*~rs}*k*}om|o~')\n"
      ],
      "metadata": {
        "id": "Z_PXbFGLeR-b",
        "colab": {
          "base_uri": "https://localhost:8080/",
          "height": 35
        },
        "outputId": "11141d1c-be26-4776-fdea-4c0c6675aed2"
      },
      "execution_count": 6,
      "outputs": [
        {
          "output_type": "execute_result",
          "data": {
            "text/plain": [
              "'Keep this a secret'"
            ],
            "application/vnd.google.colaboratory.intrinsic+json": {
              "type": "string"
            }
          },
          "metadata": {},
          "execution_count": 6
        }
      ]
    },
    {
      "cell_type": "markdown",
      "source": [
        "### Challenge - what is the key needed to decrypt this message?\n",
        "\n",
        "Znk&loxyz&x{rk&ul&ixvzumxgvn&ir{h&oy@&tk|kx&ot|ktz&g&ixvzumxgvn&yyzks&u{xykrl4&Znk&ykiutj&x{rk&ul&ixvzumxgvn&ir{h&oy@&tk|kx&osvrksktz&g&ixvzumxgvn&yyzks&u{xykrl@&sgt&xkgr3}uxrj&nurky&gxk&lu{tj&ot&znk&osvrksktzgzout&vngyk&ul&g&ixvzuyyzks&gy&}krr&gy&ot&znk&jkyomt4\n",
        "\n"
      ],
      "metadata": {
        "id": "aOyfSUfWe4xR"
      }
    },
    {
      "cell_type": "code",
      "source": [
        "def decrypt(message):\n",
        "  key = 6\n",
        "  data = ''\n",
        "\n",
        "  for letter in message:\n",
        "    data += chr(ord(letter) - key)\n",
        "\n",
        "  return data\n",
        "\n",
        "decrypt('Znk&loxyz&x{rk&ul&ixvzumxgvn&ir{h&oy@&tk|kx&ot|ktz&g&ixvzumxgvn&yyzks&u{xykrl4&Znk&ykiutj&x{rk&ul&ixvzumxgvn&ir{h&oy@&tk|kx&osvrksktz&g&ixvzumxgvn&yyzks&u{xykrl@&sgt&xkgr3}uxrj&nurky&gxk&lu{tj&ot&znk&osvrksktzgzout&vngyk&ul&g&ixvzuyyzks&gy&}krr&gy&ot&znk&jkyomt4')"
      ],
      "metadata": {
        "id": "LaGMXVrCfhX0",
        "colab": {
          "base_uri": "https://localhost:8080/",
          "height": 53
        },
        "outputId": "e5ac42f0-8bef-41c7-a215-384ffe894876"
      },
      "execution_count": 24,
      "outputs": [
        {
          "output_type": "execute_result",
          "data": {
            "text/plain": [
              "'The first rule of cryptography club is: never invent a cryptography system yourself. The second rule of cryptography club is: never implement a cryptography system yourself: many real-world holes are found in the implementation phase of a cryptosystem as well as in the design.'"
            ],
            "application/vnd.google.colaboratory.intrinsic+json": {
              "type": "string"
            }
          },
          "metadata": {},
          "execution_count": 24
        }
      ]
    },
    {
      "cell_type": "markdown",
      "source": [
        "### Keeping secret keys secret\n",
        "---\n",
        "Python is an interpreted language and the code exists in its text form while it is running.  It can be relatively easily stopped and viewed during execution.  This means that setting the key in the code is not really secure.\n",
        "\n",
        "Most development environments provide the facility to store 'environment variables'.  These are kept separate from the code and so can be kept private.\n",
        "\n",
        "####Setting an environment variable in a colab notebook\n",
        "\n",
        "The main thing is to not store the key in the notebook (as these can be shared).  You can avoid this by making sure that all who will run the code in the notebook know the key and can copy it in just for when they are working in the notebook.  The notebook will delete all data on closing the session and so the notebook can be shared without sharing the key.\n",
        "\n",
        "Here is a way to store data in the notebook environment when it is opened so that it is then available for the session.\n",
        "\n",
        "First:  install a library into the notebook to manage the environment:"
      ],
      "metadata": {
        "id": "1IihkMlrlq0d"
      }
    },
    {
      "cell_type": "code",
      "source": [
        "!pip install python-dotenv"
      ],
      "metadata": {
        "id": "UqapTDtVoR-P",
        "colab": {
          "base_uri": "https://localhost:8080/"
        },
        "outputId": "b176accc-3329-44f3-c6ce-42df0ae576cb"
      },
      "execution_count": 25,
      "outputs": [
        {
          "output_type": "stream",
          "name": "stdout",
          "text": [
            "Collecting python-dotenv\n",
            "  Downloading python_dotenv-1.0.0-py3-none-any.whl (19 kB)\n",
            "Installing collected packages: python-dotenv\n",
            "Successfully installed python-dotenv-1.0.0\n"
          ]
        }
      ]
    },
    {
      "cell_type": "markdown",
      "source": [
        "Then:  use some code to get the user to input the key, and store it in the notebook's environment.  Immediately clear the output so that the key is not visible.  If the notebook is shared, each user will need to input the key on starting the notebook."
      ],
      "metadata": {
        "id": "W7hmdOekotk-"
      }
    },
    {
      "cell_type": "code",
      "source": [
        "import dotenv\n",
        "import os\n",
        "from google.colab import output\n",
        "\n",
        "key = input(\"Enter the secret key: \")\n",
        "os.environ['SECRET_KEY'] = key\n",
        "output.clear()"
      ],
      "metadata": {
        "id": "6jrZMGF5pdwD"
      },
      "execution_count": 30,
      "outputs": []
    },
    {
      "cell_type": "markdown",
      "source": [
        "## Mini-project\n",
        "---\n",
        "\n",
        "Create a caesar cipher algorithm that will encrypt only alphabet letters.  The algorithm will shift capital letters left or right by the key and will loop round so that an 'X' with a shift key of 5 will be encoded to 'C' and a 'D' with a shift key of -8 will be decoded to 'U'.  The same strategy will be used with the lower case letters.\n",
        "\n",
        "To solve this problem:\n",
        "*  set a key in the environment (practice with a key of 1)\n",
        "*  call the function with some text (practice with 'aBc')\n",
        "*  define 2 lists - one of all the uppercase letters and one of all the lowercase letters\n",
        "*  use the key to shift the letters to the right and store in a new string called encoded (remembering to loop round if you get to the end of the alphabet).  Check each letter and use the appropriate list to encode (ie uppercase or lowercase)\n",
        "*  if a letter is not in either uppercase or lowercase list, do not change it\n",
        "*  test that encoded has the expected value of 'bCd'\n",
        "\n",
        "Test the program with each of the following texts:\n",
        "\n",
        "'Xyz'  \n",
        "'Zara'  \n",
        "'lazy'\n",
        "'Hello!'\n",
        "\n",
        "Write a second function caesar_decrypt(encoded, shift) to decrypt given text.\n",
        "Use the encoded text from the original inputs to check that you can get back to the originals.\n",
        "\n",
        "Use your functions to encode, print, decode and print again, the following text:  \n",
        "\n",
        "'The secret key is still secret, hidden in this notebook!'\n",
        "\n",
        "Can you modify the functions to also encode these punctuation characters ',' '.' '!' '?'   again, loop round to ensure that punctuation is only encoded as punctuation\n"
      ],
      "metadata": {
        "id": "w51VyqZkBsKd"
      }
    },
    {
      "cell_type": "code",
      "source": [
        "case = {\n",
        "  \"upper\": [65, 90],\n",
        "  \"lower\": [97, 122],\n",
        "}\n",
        "\n",
        "def encrypt(message):\n",
        "  key = int(os.environ['SECRET_KEY'])\n",
        "  data = ''\n",
        "\n",
        "  for letter in message:\n",
        "    order = ord(letter)\n",
        "    letter_case = ''\n",
        "    new_letter_ord = ord(letter) - key\n",
        "    if 65 <= order <= 90:\n",
        "      letter_case = 'upper'\n",
        "    elif 97 <= order <= 122:\n",
        "      letter_case = 'lower'\n",
        "\n",
        "    if letter_case != '':\n",
        "      if case[letter_case][0] <= new_letter_ord <= case[letter_case][1]:\n",
        "        data += chr(new_letter_ord)\n",
        "      elif new_letter_ord < case[letter_case][0]:\n",
        "        new_letter_ord = case[letter_case][1] - (case[letter_case][0] - new_letter_ord)\n",
        "        data += chr(new_letter_ord)\n",
        "      elif new_letter_ord > case[letter_case][1]:\n",
        "        new_letter_ord = case[letter_case][0] + (new_letter_ord - case[letter_case][1])\n",
        "        data += chr(new_letter_ord)\n",
        "    else:\n",
        "      data += letter\n",
        "\n",
        "  return data\n",
        "\n",
        "def decrypt(message):\n",
        "  key = int(os.environ['SECRET_KEY'])\n",
        "  symbols = [',', '!', '?', '.', ' ']\n",
        "  data = ''\n",
        "\n",
        "  for letter in message:\n",
        "    if letter in symbols:\n",
        "      data += letter\n",
        "    else:\n",
        "      order = ord(letter)\n",
        "      letter_case = ''\n",
        "      new_letter_ord = ord(letter) + key\n",
        "      if 65 <= order <= 90:\n",
        "        letter_case = 'upper'\n",
        "      elif 97 <= order <= 122:\n",
        "        letter_case = 'lower'\n",
        "\n",
        "      if case[letter_case][0] <= new_letter_ord <= case[letter_case][1]:\n",
        "        data += chr(new_letter_ord)\n",
        "      elif new_letter_ord < case[letter_case][0]:\n",
        "        new_letter_ord = case[letter_case][1] - (case[letter_case][0] - new_letter_ord)\n",
        "        data += chr(new_letter_ord)\n",
        "      else:\n",
        "        new_letter_ord = case[letter_case][0] + (new_letter_ord - case[letter_case][1])\n",
        "        data += chr(new_letter_ord)\n",
        "\n",
        "  return data\n",
        "\n",
        "print(encrypt(\"The secret key is still secret, hidden in this notebook!\"))\n",
        "\n",
        "print(decrypt('Lyv kvtjvl cvq ak kladd kvtjvl, yauuvf af lyak fglvsggc!'))\n",
        ""
      ],
      "metadata": {
        "id": "qPB8_A2WCQw-",
        "colab": {
          "base_uri": "https://localhost:8080/"
        },
        "outputId": "d17d1124-67c1-4f37-8770-2f57d6da8182"
      },
      "execution_count": 68,
      "outputs": [
        {
          "output_type": "stream",
          "name": "stdout",
          "text": [
            "Lyv kvtjvl cvq ak kladd kvtjvl, yauuvf af lyak fglvsggc!\n",
            "The secret key is still secret, hidden in this notebook!\n"
          ]
        }
      ]
    }
  ]
}