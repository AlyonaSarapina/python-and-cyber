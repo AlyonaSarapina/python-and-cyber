{
  "nbformat": 4,
  "nbformat_minor": 0,
  "metadata": {
    "colab": {
      "provenance": [],
      "include_colab_link": true
    },
    "kernelspec": {
      "name": "python3",
      "display_name": "Python 3"
    },
    "language_info": {
      "name": "python"
    }
  },
  "cells": [
    {
      "cell_type": "markdown",
      "metadata": {
        "id": "view-in-github",
        "colab_type": "text"
      },
      "source": [
        "<a href=\"https://colab.research.google.com/github/AlyonaSarapina/python-and-cyber/blob/main/CDProject.ipynb\" target=\"_parent\"><img src=\"https://colab.research.google.com/assets/colab-badge.svg\" alt=\"Open In Colab\"/></a>"
      ]
    },
    {
      "cell_type": "markdown",
      "source": [
        "As a part of the final project we were creating a solution for when people need to relocate to a new area and need to find schools within a reasonable distance of where they would live. This might determine their choice of location."
      ],
      "metadata": {
        "id": "yGi7Qqw2SzWy"
      }
    },
    {
      "cell_type": "code",
      "source": [
        "#aditional functions for Googgle maps API\n",
        "!pip install googlemaps"
      ],
      "metadata": {
        "id": "0TJphfI-VZae",
        "outputId": "5d69ea5d-e3fe-4ab8-8356-3f54455f7ea3",
        "colab": {
          "base_uri": "https://localhost:8080/"
        }
      },
      "execution_count": 14,
      "outputs": [
        {
          "output_type": "stream",
          "name": "stdout",
          "text": [
            "Requirement already satisfied: googlemaps in /usr/local/lib/python3.10/dist-packages (4.10.0)\n",
            "Requirement already satisfied: requests<3.0,>=2.20.0 in /usr/local/lib/python3.10/dist-packages (from googlemaps) (2.31.0)\n",
            "Requirement already satisfied: charset-normalizer<4,>=2 in /usr/local/lib/python3.10/dist-packages (from requests<3.0,>=2.20.0->googlemaps) (3.3.2)\n",
            "Requirement already satisfied: idna<4,>=2.5 in /usr/local/lib/python3.10/dist-packages (from requests<3.0,>=2.20.0->googlemaps) (3.6)\n",
            "Requirement already satisfied: urllib3<3,>=1.21.1 in /usr/local/lib/python3.10/dist-packages (from requests<3.0,>=2.20.0->googlemaps) (2.0.7)\n",
            "Requirement already satisfied: certifi>=2017.4.17 in /usr/local/lib/python3.10/dist-packages (from requests<3.0,>=2.20.0->googlemaps) (2024.2.2)\n"
          ]
        }
      ]
    },
    {
      "cell_type": "code",
      "execution_count": 1,
      "metadata": {
        "id": "cvIEaLPhRGLX"
      },
      "outputs": [],
      "source": [
        "import os\n",
        "from google.colab import output\n",
        "\n",
        "google_api_key = input(\"Enter Google API key: \")\n",
        "aws_api_key = input(\"Enter AWS API key: \")\n",
        "os.environ['AWS_API_KEY'] = aws_api_key\n",
        "os.environ['GOOGLE_API_KEY'] = google_api_key\n",
        "output.clear()"
      ]
    },
    {
      "cell_type": "markdown",
      "source": [
        "AS a user WHEN I want to find the nearest schools to a given location THEN I will be able to run a function in a Google Colab that will ask Google maps to send a list of nearby schools AND I will be shown a list of schools in that area AND this information can also be sent to a serverless function on AWS and saved in a schools file on S3"
      ],
      "metadata": {
        "id": "D4OH4udyS2yW"
      }
    },
    {
      "cell_type": "code",
      "source": [
        "import googlemaps\n",
        "\n",
        "gmaps = googlemaps.Client(os.environ.get('GOOGLE_API_KEY'))\n",
        "\n",
        "def get_schools(lat, lon, rad = 1):\n",
        "  school_list=[]\n",
        "  try:\n",
        "    places_result  = gmaps.places_nearby(location= f\"{lat},{lon}\", radius = rad, type = \"school\")\n",
        "    for place in places_result['results']:\n",
        "      school_name= place['name']\n",
        "      school_location_lat= place['geometry']['location']['lat']\n",
        "      school_location_lng= place['geometry']['location']['lng']\n",
        "      school_list.append([school_name, school_location_lat,school_location_lng])\n",
        "    if len(school_list) == 0:\n",
        "      return \"No schools in this area\"\n",
        "    else:\n",
        "      return school_list\n",
        "  except googlemaps.exceptions.ApiError as e:\n",
        "    if e.status==\"INVALID_REQUEST\":\n",
        "      return \"coordinates are invalid\"\n",
        "  except Exception as e:\n",
        "    return \"Error: \" + str(e)"
      ],
      "metadata": {
        "id": "9PhprQYOVatk"
      },
      "execution_count": 29,
      "outputs": []
    },
    {
      "cell_type": "code",
      "source": [
        "#Function that will save the list as txt.file ans send it to the bucket (aws)"
      ],
      "metadata": {
        "id": "1QmDJshRVsjI"
      },
      "execution_count": null,
      "outputs": []
    },
    {
      "cell_type": "code",
      "source": [
        "import requests\n",
        "import json\n",
        "\n",
        "def send_post_request(array):\n",
        "  try:\n",
        "      url = \"https://3ucizs3hm4.execute-api.eu-west-2.amazonaws.com/default/myThirdLambdaFunction\"\n",
        "\n",
        "      payload = json.dumps({\n",
        "        \"data\": array\n",
        "      })\n",
        "\n",
        "      headers = {\n",
        "        'Content-Type': 'application/json',\n",
        "        'X-Api-Key': os.environ.get('AWS_API_KEY')\n",
        "      }\n",
        "\n",
        "      response = requests.post(url, headers=headers, data=payload)\n",
        "\n",
        "      print(response.text)\n",
        "  except Exception as e:\n",
        "    return \"Error: \" + str(e)\n",
        "\n",
        "result = get_schools(51.5072, 0.1276, 100000)\n",
        "send_post_request(result)"
      ],
      "metadata": {
        "colab": {
          "base_uri": "https://localhost:8080/"
        },
        "id": "2WdGYoIYHo2E",
        "outputId": "107e53e0-fd8d-477b-8cbc-9fec15e0018f"
      },
      "execution_count": null,
      "outputs": [
        {
          "output_type": "stream",
          "name": "stdout",
          "text": [
            "{\"message\": \"New file been successfully created\", \"data\": [[\"Haling Manor High School\", 51.3533553, -0.1092771], [\"Lambeth School of Art\", 51.4871005, -0.1185023], [\"University of Roehampton London\", 51.4563401, -0.2446496], [\"Nuffield Health City Fitness & Wellbeing Gym\", 51.5099867, -0.09127799999999998], [\"IOE, UCL's Faculty of Education and Society\", 51.5229371, -0.1279417], [\"Newham Sixth Form College\", 51.5224054, 0.03081829999999999], [\"Richmond upon Thames College\", 51.4517137, -0.3425717], [\"Whitgift School\", 51.36002, -0.1022125], [\"City of Westminster College, Paddington Green Campus\", 51.52104159999999, -0.1746649], [\"South Hampstead High School\", 51.5461891, -0.1769548], [\"Eltham College\", 51.43804009999999, 0.038777], [\"Kingston Grammar School\", 51.41025389999999, -0.2964765], [\"Harrow School\", 51.5725237, -0.3334223000000001], [\"St Dominic's Sixth Form College\", 51.5663649, -0.3415743000000001], [\"Queen Mother Sports Centre\", 51.493354, -0.1405451], [\"Paddington Academy\", 51.52524969999999, -0.1937846], [\"Highgate School\", 51.5721393, -0.1492358000000001], [\"London Aquatics Centre\", 51.54018749999999, -0.0105507], [\"The Circle Gym and Spa\", 51.5015677, -0.07457449999999999], [\"Notre Dame Roman Catholic Girls' School\", 51.4971483, -0.1061253]]}\n"
          ]
        }
      ]
    },
    {
      "cell_type": "code",
      "source": [
        "#function that will send the list to the bucket"
      ],
      "metadata": {
        "id": "widgRi_7WXxL"
      },
      "execution_count": null,
      "outputs": []
    },
    {
      "cell_type": "markdown",
      "source": [
        "AS a user WHEN I want to see all the schools in the file on AWS S3 THEN I will be able to run a function in a Google Colab that will send a request to get the full list, AND I will see the list printed in my output"
      ],
      "metadata": {
        "id": "VRliFsQcTJ87"
      }
    },
    {
      "cell_type": "code",
      "source": [
        "import requests\n",
        "\n",
        "def send_get_request():\n",
        "  url = \"https://3ucizs3hm4.execute-api.eu-west-2.amazonaws.com/default/myThirdLambdaFunction\"\n",
        "  payload = {}\n",
        "  headers = {\n",
        "    'x-api-key': os.environ.get('AWS_API_KEY')\n",
        "  }\n",
        "\n",
        "  response = requests.request(\"GET\", url, headers=headers, data=payload)\n",
        "\n",
        "  print(response.text)\n",
        "\n",
        "send_get_request()\n"
      ],
      "metadata": {
        "id": "8tQNDdT6lg1B",
        "colab": {
          "base_uri": "https://localhost:8080/"
        },
        "outputId": "5c2e7c34-272e-480d-f6f0-bc34426e1a52"
      },
      "execution_count": 25,
      "outputs": [
        {
          "output_type": "stream",
          "name": "stdout",
          "text": [
            "{\"message\": \"The data has been found\", \"data\": [[\"0\", \"1\", \"2\"], [\"Bannockburn Primary School & Nursery\", \"51.4869172\", \"0.1015561\"], [\"St Margaret Clitherow Primary School\", \"51.50103289999999\", \"0.1132992\"]]}\n"
          ]
        }
      ]
    },
    {
      "cell_type": "markdown",
      "source": [
        "ACCEPTANCE CRITERIA - USER STORIES\n",
        "\n",
        "WHEN I send latitude 55.816555 and longitude -4.309890 and a radius of 4km THEN the following list is added to the file:"
      ],
      "metadata": {
        "id": "9imup130TOBT"
      }
    },
    {
      "cell_type": "code",
      "source": [
        "result= get_schools(55.816555, -4.309890,4000)\n",
        "print(result)"
      ],
      "metadata": {
        "id": "OFqJxBOOTOpr",
        "outputId": "a579b200-bb50-4067-a626-8779ffbc3488",
        "colab": {
          "base_uri": "https://localhost:8080/"
        }
      },
      "execution_count": 26,
      "outputs": [
        {
          "output_type": "stream",
          "name": "stdout",
          "text": [
            "[[\"Hutchesons' Grammar School\", 55.83644289999999, -4.282187], ['Eastwood High School', 55.78701009999999, -4.327643299999999], ['Glasgow Club Bellahouston', 55.8459204, -4.3239934], ['Bellahouston Academy', 55.8481055, -4.3005388], ['Pro-Soccer', 55.7979717, -4.3199578], ['St Vincent’s Primary School', 55.8102127, -4.3248058], ['Cleeves Primary School', 55.81444250000001, -4.355818899999999], ['Thornliebank Primary School', 55.8093009, -4.3143177], ['Our Lady of the Mission Primary School', 55.8017274, -4.307100999999999], ['Hillpark Autism Unit', 55.8155973, -4.297950300000001], ['Fotheringay Centre', 55.8371502, -4.2833944], ['Animal Man Parties', 55.8158912, -4.295114700000001], ['Woodland Outdoor Kindergartens', 55.8179202, -4.301552699999999], ['Kumon Maths & English', 55.80408809999999, -4.2935565], ['Carmichael Nursery School', 55.8245123, -4.272025], ['Wendy King', 55.8293055, -4.2910509], [\"Burnbrae Children's Centre\", 55.81449809999999, -4.3556976], ['Zippytotz', 55.8099591, -4.300966], ['Tinto Primary School', 55.8175789, -4.292833600000001], [\"St Vincent's Autism Unit Co St Vincent's Primary\", 55.8099194, -4.323872199999999]]\n"
          ]
        }
      ]
    },
    {
      "cell_type": "markdown",
      "source": [
        "WHEN I have entered a latitude of 87.543255 and longitude of 0, and a radius of 10km THEN I will receive an empty list and nothing will be saved"
      ],
      "metadata": {
        "id": "SNfhgoEBTjb4"
      }
    },
    {
      "cell_type": "code",
      "source": [
        "result= get_schools(87.543255, 0,10000)\n",
        "print(result)"
      ],
      "metadata": {
        "id": "RBuwxC7VT6Iv",
        "outputId": "6b374b0c-a413-4adc-e41e-4b5b74557109",
        "colab": {
          "base_uri": "https://localhost:8080/"
        }
      },
      "execution_count": 27,
      "outputs": [
        {
          "output_type": "stream",
          "name": "stdout",
          "text": [
            "No schools in this area\n"
          ]
        }
      ]
    },
    {
      "cell_type": "markdown",
      "source": [
        "WHEN I have entered a latitude of 99.999995 and longitude of 0, and a radius of 5km THEN I will receive and error message telling me that the latitude is invalid (too big)"
      ],
      "metadata": {
        "id": "84mEwu0NVRmK"
      }
    },
    {
      "cell_type": "code",
      "source": [
        "result= get_schools(99.999995, 0,50000)\n",
        "print(result)"
      ],
      "metadata": {
        "id": "gIaEDbYyVSuC",
        "outputId": "8fca5614-b07e-4183-f7c8-501114a0b37d",
        "colab": {
          "base_uri": "https://localhost:8080/"
        }
      },
      "execution_count": 30,
      "outputs": [
        {
          "output_type": "stream",
          "name": "stdout",
          "text": [
            "coordinates are invalid\n"
          ]
        }
      ]
    }
  ]
}