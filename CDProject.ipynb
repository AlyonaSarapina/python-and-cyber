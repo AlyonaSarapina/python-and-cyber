{
  "nbformat": 4,
  "nbformat_minor": 0,
  "metadata": {
    "colab": {
      "provenance": [],
      "include_colab_link": true
    },
    "kernelspec": {
      "name": "python3",
      "display_name": "Python 3"
    },
    "language_info": {
      "name": "python"
    }
  },
  "cells": [
    {
      "cell_type": "markdown",
      "metadata": {
        "id": "view-in-github",
        "colab_type": "text"
      },
      "source": [
        "<a href=\"https://colab.research.google.com/github/AlyonaSarapina/python-and-cyber/blob/main/CDProject.ipynb\" target=\"_parent\"><img src=\"https://colab.research.google.com/assets/colab-badge.svg\" alt=\"Open In Colab\"/></a>"
      ]
    },
    {
      "cell_type": "code",
      "source": [
        "#aditional functions for Googgle maps API\n"
      ],
      "metadata": {
        "id": "0TJphfI-VZae"
      },
      "execution_count": null,
      "outputs": []
    },
    {
      "cell_type": "code",
      "execution_count": 1,
      "metadata": {
        "id": "cvIEaLPhRGLX"
      },
      "outputs": [],
      "source": [
        "import os\n",
        "from google.colab import output\n",
        "\n",
        "google_api_key = input(\"Enter Google API key: \")\n",
        "aws_api_key = input(\"Enter AWS API key: \")\n",
        "os.environ['AWS_API_KEY'] = aws_api_key\n",
        "os.environ['GOOGLE_API_KEY'] = google_api_key\n",
        "output.clear()"
      ]
    },
    {
      "cell_type": "code",
      "source": [
        "!pip install googlemaps\n",
        "import googlemaps\n",
        "\n",
        "gmaps = googlemaps.Client(os.environ.get('GOOGLE_API_KEY'))\n",
        "\n",
        "def get_schools(lat, lon, rad = 1):\n",
        "  school_list=[]\n",
        "  try:\n",
        "    places_result  = gmaps.places_nearby(location= f\"{lat},{lon}\", radius = rad, type = \"school\")\n",
        "    for place in places_result['results']:\n",
        "      school_name= place['name']\n",
        "      school_location_lat= place['geometry']['location']['lat']\n",
        "      school_location_lng= place['geometry']['location']['lng']\n",
        "      print(f\"{school_name}, {school_location_lat},{school_location_lng}\")\n",
        "      school_list.append([school_name, school_location_lat,school_location_lng])\n",
        "    return school_list\n",
        "  except Exception as e:\n",
        "    print(\"Error: \" + str(e))\n",
        "\n",
        "result= get_schools(51.5072, 0.1276, 100000)"
      ],
      "metadata": {
        "colab": {
          "base_uri": "https://localhost:8080/"
        },
        "id": "9PhprQYOVatk",
        "outputId": "0af1642d-3238-4cbc-faf3-7c35f8b5b5bb"
      },
      "execution_count": 2,
      "outputs": [
        {
          "output_type": "stream",
          "name": "stdout",
          "text": [
            "Collecting googlemaps\n",
            "  Downloading googlemaps-4.10.0.tar.gz (33 kB)\n",
            "  Preparing metadata (setup.py) ... \u001b[?25l\u001b[?25hdone\n",
            "Requirement already satisfied: requests<3.0,>=2.20.0 in /usr/local/lib/python3.10/dist-packages (from googlemaps) (2.31.0)\n",
            "Requirement already satisfied: charset-normalizer<4,>=2 in /usr/local/lib/python3.10/dist-packages (from requests<3.0,>=2.20.0->googlemaps) (3.3.2)\n",
            "Requirement already satisfied: idna<4,>=2.5 in /usr/local/lib/python3.10/dist-packages (from requests<3.0,>=2.20.0->googlemaps) (3.6)\n",
            "Requirement already satisfied: urllib3<3,>=1.21.1 in /usr/local/lib/python3.10/dist-packages (from requests<3.0,>=2.20.0->googlemaps) (2.0.7)\n",
            "Requirement already satisfied: certifi>=2017.4.17 in /usr/local/lib/python3.10/dist-packages (from requests<3.0,>=2.20.0->googlemaps) (2024.2.2)\n",
            "Building wheels for collected packages: googlemaps\n",
            "  Building wheel for googlemaps (setup.py) ... \u001b[?25l\u001b[?25hdone\n",
            "  Created wheel for googlemaps: filename=googlemaps-4.10.0-py3-none-any.whl size=40712 sha256=0e5764b8416fb38b5f35655c3c530465d601a94df81adafac554fb7407ec87e0\n",
            "  Stored in directory: /root/.cache/pip/wheels/17/f8/79/999d5d37118fd35d7219ef57933eb9d09886c4c4503a800f84\n",
            "Successfully built googlemaps\n",
            "Installing collected packages: googlemaps\n",
            "Successfully installed googlemaps-4.10.0\n",
            "Haling Manor High School, 51.3533553,-0.1092771\n",
            "Lambeth School of Art, 51.4871005,-0.1185023\n",
            "University of Roehampton London, 51.4563401,-0.2446496\n",
            "Nuffield Health City Fitness & Wellbeing Gym, 51.5099867,-0.09127799999999998\n",
            "IOE, UCL's Faculty of Education and Society, 51.5229371,-0.1279417\n",
            "Newham Sixth Form College, 51.5224054,0.03081829999999999\n",
            "Richmond upon Thames College, 51.4517137,-0.3425717\n",
            "Whitgift School, 51.36002,-0.1022125\n",
            "City of Westminster College, Paddington Green Campus, 51.52104159999999,-0.1746649\n",
            "South Hampstead High School, 51.5461891,-0.1769548\n",
            "Eltham College, 51.43804009999999,0.038777\n",
            "Kingston Grammar School, 51.41025389999999,-0.2964765\n",
            "Harrow School, 51.5725237,-0.3334223000000001\n",
            "St Dominic's Sixth Form College, 51.5663649,-0.3415743000000001\n",
            "Queen Mother Sports Centre, 51.493354,-0.1405451\n",
            "Paddington Academy, 51.52524969999999,-0.1937846\n",
            "Highgate School, 51.5721393,-0.1492358000000001\n",
            "London Aquatics Centre, 51.54018749999999,-0.0105507\n",
            "The Circle Gym and Spa, 51.5015677,-0.07457449999999999\n",
            "Notre Dame Roman Catholic Girls' School, 51.4971483,-0.1061253\n"
          ]
        }
      ]
    },
    {
      "cell_type": "code",
      "source": [
        "#Function that will save the list as txt.file ans send it to the bucket (aws)"
      ],
      "metadata": {
        "id": "1QmDJshRVsjI"
      },
      "execution_count": null,
      "outputs": []
    },
    {
      "cell_type": "code",
      "source": [
        "import requests\n",
        "import json\n",
        "\n",
        "def send_post_request(array):\n",
        "  try:\n",
        "      url = \"https://3ucizs3hm4.execute-api.eu-west-2.amazonaws.com/default/myThirdLambdaFunction\"\n",
        "\n",
        "      payload = json.dumps({\n",
        "        \"data\": array\n",
        "      })\n",
        "\n",
        "      headers = {\n",
        "        'Content-Type': 'application/json',\n",
        "        'X-Api-Key': os.environ.get('AWS_API_KEY')\n",
        "      }\n",
        "\n",
        "      response = requests.post(url, headers=headers, data=payload)\n",
        "\n",
        "      print(response.text)\n",
        "  except Exception as e:\n",
        "    return \"Error: \" + str(e)\n",
        "\n",
        "\n",
        "send_post_request(result)"
      ],
      "metadata": {
        "colab": {
          "base_uri": "https://localhost:8080/"
        },
        "id": "2WdGYoIYHo2E",
        "outputId": "107e53e0-fd8d-477b-8cbc-9fec15e0018f"
      },
      "execution_count": 4,
      "outputs": [
        {
          "output_type": "stream",
          "name": "stdout",
          "text": [
            "{\"message\": \"New file been successfully created\", \"data\": [[\"Haling Manor High School\", 51.3533553, -0.1092771], [\"Lambeth School of Art\", 51.4871005, -0.1185023], [\"University of Roehampton London\", 51.4563401, -0.2446496], [\"Nuffield Health City Fitness & Wellbeing Gym\", 51.5099867, -0.09127799999999998], [\"IOE, UCL's Faculty of Education and Society\", 51.5229371, -0.1279417], [\"Newham Sixth Form College\", 51.5224054, 0.03081829999999999], [\"Richmond upon Thames College\", 51.4517137, -0.3425717], [\"Whitgift School\", 51.36002, -0.1022125], [\"City of Westminster College, Paddington Green Campus\", 51.52104159999999, -0.1746649], [\"South Hampstead High School\", 51.5461891, -0.1769548], [\"Eltham College\", 51.43804009999999, 0.038777], [\"Kingston Grammar School\", 51.41025389999999, -0.2964765], [\"Harrow School\", 51.5725237, -0.3334223000000001], [\"St Dominic's Sixth Form College\", 51.5663649, -0.3415743000000001], [\"Queen Mother Sports Centre\", 51.493354, -0.1405451], [\"Paddington Academy\", 51.52524969999999, -0.1937846], [\"Highgate School\", 51.5721393, -0.1492358000000001], [\"London Aquatics Centre\", 51.54018749999999, -0.0105507], [\"The Circle Gym and Spa\", 51.5015677, -0.07457449999999999], [\"Notre Dame Roman Catholic Girls' School\", 51.4971483, -0.1061253]]}\n"
          ]
        }
      ]
    },
    {
      "cell_type": "code",
      "source": [
        "#function that will send the list to the bucket"
      ],
      "metadata": {
        "id": "widgRi_7WXxL"
      },
      "execution_count": null,
      "outputs": []
    },
    {
      "cell_type": "code",
      "source": [
        "def send_get_request():\n",
        "  url = \"https://3ucizs3hm4.execute-api.eu-west-2.amazonaws.com/default/myThirdLambdaFunction\"\n",
        "  payload = {}\n",
        "  headers = {\n",
        "    'x-api-key': os.environ.get('AWS_API_KEY')\n",
        "  }\n",
        "\n",
        "  response = requests.request(\"GET\", url, headers=headers, data=payload)\n",
        "\n",
        "  print(response.text)\n",
        "\n",
        "send_get_request()\n"
      ],
      "metadata": {
        "id": "8tQNDdT6lg1B",
        "colab": {
          "base_uri": "https://localhost:8080/"
        },
        "outputId": "10f6a150-3a6d-4ba8-df0d-315f385f5638"
      },
      "execution_count": 11,
      "outputs": [
        {
          "output_type": "stream",
          "name": "stdout",
          "text": [
            "{\"message\": \"The data has been found\", \"data\": [[\"Name\", \"Latitude\", \"Longitude\"], [\"Haling Manor High School\", \"51.3533553\", \"-0.1092771\"], [\"Lambeth School of Art\", \"51.4871005\", \"-0.1185023\"], [\"University of Roehampton London\", \"51.4563401\", \"-0.2446496\"], [\"Nuffield Health City Fitness & Wellbeing Gym\", \"51.5099867\", \"-0.09127799999999998\"], [\"IOE, UCL's Faculty of Education and Society\", \"51.5229371\", \"-0.1279417\"], [\"Newham Sixth Form College\", \"51.5224054\", \"0.03081829999999999\"], [\"Richmond upon Thames College\", \"51.4517137\", \"-0.3425717\"], [\"Whitgift School\", \"51.36002\", \"-0.1022125\"], [\"City of Westminster College, Paddington Green Campus\", \"51.52104159999999\", \"-0.1746649\"], [\"South Hampstead High School\", \"51.5461891\", \"-0.1769548\"], [\"Eltham College\", \"51.43804009999999\", \"0.038777\"], [\"Kingston Grammar School\", \"51.41025389999999\", \"-0.2964765\"], [\"Harrow School\", \"51.5725237\", \"-0.3334223000000001\"], [\"St Dominic's Sixth Form College\", \"51.5663649\", \"-0.3415743000000001\"], [\"Queen Mother Sports Centre\", \"51.493354\", \"-0.1405451\"], [\"Paddington Academy\", \"51.52524969999999\", \"-0.1937846\"], [\"Highgate School\", \"51.5721393\", \"-0.1492358000000001\"], [\"London Aquatics Centre\", \"51.54018749999999\", \"-0.0105507\"], [\"The Circle Gym and Spa\", \"51.5015677\", \"-0.07457449999999999\"], [\"Notre Dame Roman Catholic Girls' School\", \"51.4971483\", \"-0.1061253\"]]}\n"
          ]
        }
      ]
    }
  ]
}