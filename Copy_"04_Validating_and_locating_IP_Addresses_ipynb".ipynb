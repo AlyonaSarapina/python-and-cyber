{
  "nbformat": 4,
  "nbformat_minor": 0,
  "metadata": {
    "colab": {
      "provenance": [],
      "include_colab_link": true
    },
    "kernelspec": {
      "name": "python3",
      "display_name": "Python 3"
    },
    "language_info": {
      "name": "python"
    }
  },
  "cells": [
    {
      "cell_type": "markdown",
      "metadata": {
        "id": "view-in-github",
        "colab_type": "text"
      },
      "source": [
        "<a href=\"https://colab.research.google.com/github/AlyonaSarapina/python-and-cyber/blob/main/Copy_%2204_Validating_and_locating_IP_Addresses_ipynb%22.ipynb\" target=\"_parent\"><img src=\"https://colab.research.google.com/assets/colab-badge.svg\" alt=\"Open In Colab\"/></a>"
      ]
    },
    {
      "cell_type": "markdown",
      "source": [
        "# IP address validation and location checking\n",
        "---\n",
        "\n",
        "Checking the validity of an IP address will help to ensure that packets of data are going to a real address (not necessarily a safe address but a real one).\n",
        "\n",
        "Checking the location of the IP address will help to identify where packets might be coming from or going to.\n",
        "\n",
        "There are a number of Python libraries and services available to help with this.  Abstract API is one and will allow you to get an API key and make a small number of requests on a free account."
      ],
      "metadata": {
        "id": "iRv22j9XjTMO"
      }
    },
    {
      "cell_type": "markdown",
      "source": [
        "### Read the tutorial and have a go\n",
        "---\n",
        "\n",
        "Use this tutorial about checking IP addresses and using AbstractAPI to geolocate them https://www.abstractapi.com/guides/validate-ip-address-python to help you to complete the following exercises."
      ],
      "metadata": {
        "id": "2gwb2s9BkQv9"
      }
    },
    {
      "cell_type": "markdown",
      "source": [
        "### Exercise 1 - Check IP address is valid\n",
        "---\n",
        "\n",
        "Follow the information and write a function that will validate a given IP address.  \n",
        "\n",
        "Test 1:  Use the localhost address 127.0.0.1   \n",
        "Test 2:  Use 127.1000.0.1   \n",
        "Test 3: Use the IPv6 address in the tutorial \"2001:0db8:75a2:0000:0000:8a2e:0340:5625\"   \n",
        "Test 4: Use \"2001:0db8:75a2:00100:0000:8a2e:0340:5625\"\n",
        "Test 5:  Use the public facing IPv4 address of your device/network (you can get this https://whatismyipaddress.com/ )\n",
        "\n",
        "Your function WILL:  \n",
        "*  take the IP address string as a parameter\n",
        "*  deal with exceptions to prevent an error for a non-valid address\n",
        "*  your function will return True if the ip address is valid and False if there was an exception\n",
        "\n"
      ],
      "metadata": {
        "id": "MAIuLQmvXmoR"
      }
    },
    {
      "cell_type": "code",
      "source": [
        "import ipaddress\n",
        "\n",
        "def validate_ip_address(ip_string):\n",
        "   try:\n",
        "       ip_object = ipaddress.ip_address(ip_string)\n",
        "       print(\"The IP address '{}' is valid.\".format(ip_string))\n",
        "   except ValueError:\n",
        "       print(\"The IP address '{}' is not valid\".format(ip_string))\n",
        "\n",
        "validate_ip_address(\"127.0.0.1\")\n",
        "validate_ip_address(\"127.1000.0.1\")\n",
        "validate_ip_address(\"2001:0db8:75a2:0000:0000:8a2e:0340:5625\")\n",
        "validate_ip_address(\"2001:0db8:75a2:00100:0000:8a2e:0340:5625\")\n",
        "validate_ip_address(\"5.159.125.185\")\n"
      ],
      "metadata": {
        "id": "O2RsErjfbbpE",
        "colab": {
          "base_uri": "https://localhost:8080/"
        },
        "outputId": "e48d33f3-3bf4-4df1-df4a-03552b9fdb56"
      },
      "execution_count": 4,
      "outputs": [
        {
          "output_type": "stream",
          "name": "stdout",
          "text": [
            "The IP address '127.0.0.1' is valid.\n",
            "The IP address '127.1000.0.1' is not valid\n",
            "The IP address '2001:0db8:75a2:0000:0000:8a2e:0340:5625' is valid.\n",
            "The IP address '2001:0db8:75a2:00100:0000:8a2e:0340:5625' is not valid\n",
            "The IP address '5.159.125.185' is valid.\n"
          ]
        }
      ]
    },
    {
      "cell_type": "markdown",
      "source": [
        "impo### Exercise 2 - Check an IP address format using regular expressions\n",
        "---\n",
        "\n",
        "Regular expressions are used to check the format of a piece of data where there is a known format, such as an email address, a domain name, an IP address.\n",
        "\n",
        "Follow the tutorial to learn how to use regular expressions to check an IPv4 or an IPv6 address for its format.\n",
        "\n",
        "\n",
        "\n",
        "\n",
        "\n",
        "*   Write a function to check an IPv4 address and return True if valid or False if not.\n",
        "*   Write a function to check an IPv6 address and return True if valid or False is not.\n",
        "*  Combine the two functions into one that will be given an IP address and a standard (e.g. '127.0.0.1', 'IPv6') or (e.g.   '127.0.0.1', 6)\n",
        "\n",
        "\n",
        "\n"
      ],
      "metadata": {
        "id": "hQx--B5rzDql"
      }
    },
    {
      "cell_type": "code",
      "source": [
        "import re\n",
        "\n",
        "def validate_ipv4_regex(ip_address):\n",
        "   match = re.match(\n",
        "       r\"[0-9]{1,3}\\.[0-9]{1,3}\\.[0-9]{1,3}\\.[0-9]{1,3}\", ip_address)\n",
        "\n",
        "   if not bool(match):\n",
        "       print(f\"The IP address {ip_address} is not valid\")\n",
        "       return False\n",
        "\n",
        "   bytes = ip_address.split(\".\")\n",
        "\n",
        "   for ip_byte in bytes:\n",
        "       if int(ip_byte) < 0 or int(ip_byte) > 255:\n",
        "           print(f\"The IP address {ip_address} is not valid\")\n",
        "           return False\n",
        "   print(f\"The IP address {ip_address} is valid\")\n",
        "   return True\n",
        "\n",
        "def validate_ipv6_regex(ip_address):\n",
        "  match = re.match(r\"^([0-9a-fA-F]{1,4}:){7}[0-9a-fA-F]{1,4}$\", ip_address)\n",
        "\n",
        "  if not bool(match):\n",
        "    print(f\"The IP address {ip_address} is not valid\")\n",
        "    return False\n",
        "  else:\n",
        "    print(f\"The IP address {ip_address} is valid\")\n",
        "    return True\n",
        "\n",
        "def validate_ip(ip_address, format):\n",
        "  if int(format) == 4:\n",
        "    return validate_ipv4_regex(ip_address)\n",
        "  elif int(format) == 6:\n",
        "    return validate_ipv6_regex(ip_address)\n",
        "  else:\n",
        "    print(\"Please write the rigth format\")\n",
        "\n",
        "validate_ip('5.159.125.185', 4)\n",
        "validate_ip('2001:0db8:75a2:0000:0000:8a2e:0340:5625', 6)\n",
        "validate_ip(\"127.1000.0.1\", 4)\n",
        "validate_ip(\"2001:0db8:75a2:00100:0000:8a2e:0340:5625\", 6)\n",
        "\n"
      ],
      "metadata": {
        "id": "UIBZc7pRO2oy",
        "colab": {
          "base_uri": "https://localhost:8080/"
        },
        "outputId": "722fe5c1-f6b8-4724-f462-6fb8297637fc"
      },
      "execution_count": 18,
      "outputs": [
        {
          "output_type": "stream",
          "name": "stdout",
          "text": [
            "The IP address 5.159.125.185 is valid\n",
            "The IP address 2001:0db8:75a2:0000:0000:8a2e:0340:5625 is valid\n",
            "The IP address 127.1000.0.1 is not valid\n",
            "The IP address 2001:0db8:75a2:00100:0000:8a2e:0340:5625 is not valid\n"
          ]
        },
        {
          "output_type": "execute_result",
          "data": {
            "text/plain": [
              "False"
            ]
          },
          "metadata": {},
          "execution_count": 18
        }
      ]
    },
    {
      "cell_type": "markdown",
      "source": [
        "### Exercise 3 - Get and store an API key for IP geolocation\n",
        "---\n",
        "\n",
        "If you are happy to do so, **sign up for an API key from Abstract** https://www.abstractapi.com/.  This will allow you to request  a check on an IP address and to get the location of the network with that address.  \n",
        "\n",
        "Click on **Start for Free** to set up a free account.  \n",
        "\n",
        "Once you have created an account with Abstract you will have an **API key**, which you will be able to access as long as you are logged into the Abstract site.   \n",
        "\n",
        "\n",
        "Use the notebook's operating system and the `python-dotenv` library to set an environment variable called `API_KEY` and to store the key in that environment variable.  This will ensure that you do not upload the worksheet to your Github repository with the key on display.\n",
        "\n",
        "Refer to the [Caesar Cipher](https://github.com/futureCodersSE/python-cyber/blob/main/01_Cryptography_Caesar_cipher.ipynb) worksheet section **Keeping Secret Keys secret** for help with this."
      ],
      "metadata": {
        "id": "IAFnJZeSd647"
      }
    },
    {
      "cell_type": "code",
      "source": [
        "!pip install python-dotenv\n",
        "import dotenv\n",
        "import os\n",
        "from google.colab import output\n",
        "\n",
        "key = input(\"Enter the secret key: \")\n",
        "os.environ['SECRET_KEY'] = key\n",
        "output.clear()"
      ],
      "metadata": {
        "id": "y1bPMLSDen1E"
      },
      "execution_count": 21,
      "outputs": []
    },
    {
      "cell_type": "markdown",
      "source": [
        "### Exercise 4 - geolocate a network from its IP address\n",
        "---\n",
        "\n",
        "Follow the Abstract tutorial again to write a function that will geo-locate a network from its IP address.\n",
        "\n",
        "You will need to import the *requests* library and you will find it useful to import the *json* library and use *json.loads(response.content)* to turn the response into a dictionary object."
      ],
      "metadata": {
        "id": "Zj01LqvQtCZ6"
      }
    },
    {
      "cell_type": "code",
      "source": [
        "import requests\n",
        "import json\n",
        "\n",
        "def geolocate_ip(ip_address):\n",
        "  api_key = os.environ['SECRET_KEY']\n",
        "  response = requests.get(f\"https://ipgeolocation.abstractapi.com/v1/?api_key={api_key}&ip_address={ip_address}\")\n",
        "  print(response.status_code)\n",
        "  print(json.loads(response.content))\n",
        "\n",
        "\n",
        "geolocate_ip(\"5.159.125.185\")"
      ],
      "metadata": {
        "id": "ExHs8ET5fKmy",
        "colab": {
          "base_uri": "https://localhost:8080/"
        },
        "outputId": "ea1196e0-512c-4860-8ec3-807f8f543ecf"
      },
      "execution_count": 22,
      "outputs": [
        {
          "output_type": "stream",
          "name": "stdout",
          "text": [
            "200\n",
            "{'ip_address': '5.159.125.185', 'city': 'Exmouth', 'city_geoname_id': 2649800, 'region': 'England', 'region_iso_code': 'ENG', 'region_geoname_id': 6269131, 'postal_code': 'EX8', 'country': 'United Kingdom', 'country_code': 'GB', 'country_geoname_id': 2635167, 'country_is_eu': False, 'continent': 'Europe', 'continent_code': 'EU', 'continent_geoname_id': 6255148, 'longitude': -3.4037, 'latitude': 50.6138, 'security': {'is_vpn': False}, 'timezone': {'name': 'Europe/London', 'abbreviation': 'GMT', 'gmt_offset': 0, 'current_time': '12:51:48', 'is_dst': False}, 'flag': {'emoji': '🇬🇧', 'unicode': 'U+1F1EC U+1F1E7', 'png': 'https://static.abstractapi.com/country-flags/GB_flag.png', 'svg': 'https://static.abstractapi.com/country-flags/GB_flag.svg'}, 'currency': {'currency_name': 'Sterling', 'currency_code': 'GBP'}, 'connection': {'autonomous_system_number': 59659, 'autonomous_system_organization': 'Securus Communications Ltd.', 'connection_type': 'Corporate', 'isp_name': 'Securus Communications Ltd.', 'organization_name': 'Securus Communications Ltd'}}\n"
          ]
        }
      ]
    }
  ]
}