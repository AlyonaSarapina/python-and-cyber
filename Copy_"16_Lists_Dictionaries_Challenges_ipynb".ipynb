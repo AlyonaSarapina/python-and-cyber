{
  "nbformat": 4,
  "nbformat_minor": 0,
  "metadata": {
    "colab": {
      "provenance": [],
      "include_colab_link": true
    },
    "kernelspec": {
      "name": "python3",
      "display_name": "Python 3"
    },
    "language_info": {
      "name": "python"
    }
  },
  "cells": [
    {
      "cell_type": "markdown",
      "metadata": {
        "id": "view-in-github",
        "colab_type": "text"
      },
      "source": [
        "<a href=\"https://colab.research.google.com/github/AlyonaSarapina/python-and-cyber/blob/main/Copy_%2216_Lists_Dictionaries_Challenges_ipynb%22.ipynb\" target=\"_parent\"><img src=\"https://colab.research.google.com/assets/colab-badge.svg\" alt=\"Open In Colab\"/></a>"
      ]
    },
    {
      "cell_type": "markdown",
      "metadata": {
        "id": "nEJLJX3J9B2k"
      },
      "source": [
        "# Some challenges to help you become more confident with using Lists, Tuples and Dictionaries\n",
        "\n",
        "---\n",
        "\n"
      ]
    },
    {
      "cell_type": "markdown",
      "metadata": {
        "id": "JvV6htgh9Nc1"
      },
      "source": [
        "### Exercise 1 - extending a list\n",
        "\n",
        "There are three ways to extend a list in Python:  \n",
        "*  use `list_name.append(item)`, `list_name.insert(item)`\n",
        "*  concatenate two lists using the + operator (e.g. new_list = list1 + list2)\n",
        "*  use `list1_name.extend(list2_name)`\n",
        "\n",
        "The last method allows us to add all the `list2` items onto `list1` and for the new, extended list to now be `list1`.  `list2` will always be added to the end of `list1`.  \n",
        "\n",
        "If the objective is to add list2 before list1 then use `list2.extend(list1)`\n",
        "\n",
        "Write a function which will:  \n",
        "*  create a list of **years** containing the years 1960, 1970, 1980, 1990, 2000  \n",
        "*  print the list of years  \n",
        "*  calculate how long ago each year was and print the year and how long ago it was (e.g. 1990 was 30 years ago)  *(Hint:  use the datetime library to get the current year)*   \n",
        "*  create a second list, **years2** containing the years 2010 and 2020, extend `years` to include these later years\n",
        "*  create a third list, **years3** containing the years 1930, 1940 and 1950 and extend the list to include all the years between 1930 and 2020\n",
        "*  print the final list\n",
        "\n",
        "Expected output:  \n",
        "[1960, 1970, 1980, 1990]  \n",
        "1960 was 61 years ago  \n",
        "1970 was 51 years ago  \n",
        "1980 was 41 years ago  \n",
        "1990 was 31 years ago  \n",
        "2000 was 21 years ago  \n",
        "[1930, 1940, 1950, 1960, 1970, 1980, 1990, 2000, 2010, 2020]"
      ]
    },
    {
      "cell_type": "code",
      "metadata": {
        "id": "QAyTVqoO8-08",
        "colab": {
          "base_uri": "https://localhost:8080/"
        },
        "outputId": "d3ee1f32-e68d-4e20-d82d-17217f539b58"
      },
      "source": [
        "from datetime import date\n",
        "\n",
        "def calculate_years():\n",
        "  years = [1960, 1970, 1980, 1990, 2000]\n",
        "  years2 = [2010, 2020]\n",
        "  years3 = [1930, 1940, 1950]\n",
        "  print(years)\n",
        "\n",
        "  today = date.today().year\n",
        "\n",
        "  for year in years:\n",
        "    years_ago = today - year\n",
        "    print(\"{} was {} years ago\".format(year, years_ago))\n",
        "\n",
        "  years.extend(years2)\n",
        "\n",
        "  years3.extend(years)\n",
        "\n",
        "  return years3\n",
        "\n",
        "\n",
        "calculate_years()\n",
        "\n"
      ],
      "execution_count": 3,
      "outputs": [
        {
          "output_type": "stream",
          "name": "stdout",
          "text": [
            "[1960, 1970, 1980, 1990, 2000]\n",
            "1960 was 63 years ago\n",
            "1970 was 53 years ago\n",
            "1980 was 43 years ago\n",
            "1990 was 33 years ago\n",
            "2000 was 23 years ago\n"
          ]
        },
        {
          "output_type": "execute_result",
          "data": {
            "text/plain": [
              "[1930, 1940, 1950, 1960, 1970, 1980, 1990, 2000, 2010, 2020]"
            ]
          },
          "metadata": {},
          "execution_count": 3
        }
      ]
    },
    {
      "cell_type": "markdown",
      "metadata": {
        "id": "S5iPicFzBzOW"
      },
      "source": [
        "---\n",
        "### Exercise 2 - creating a dictionary from a tuple and three lists\n",
        "\n",
        "Write a function which will create a list of dictionary items using the values in a tuple as the dictionary keys and the values in three corresponding lists as the dictionary values.\n",
        "\n",
        "*  loop through the status items in the tuple called task_status\n",
        "*  for each status, loop through the list with the same name (*Hint:  you can use eval(status) to access the list with the matching name  e.g. for task in eval(status)* )\n",
        "*  each time round this second loop, create a dictionary object with the  key:value pair {status : task}\n",
        "*  add each new dictionary to a list called **project_board** that was created as an empty list before the loops  \n",
        "*  print the project_board list\n",
        "\n",
        "Expected output:  \n",
        "\n",
        "[{'assigned': 'task1'}, {'assigned': 'task2'}, {'assigned': 'task3'}, {'inprogress': 'task4'}, {'inprogress': 'task5'}, {'inprogress': 'task6'}, {'completed': 'task7'}, {'completed': 'task8'}, {'completed': 'task9'}]\n",
        "\n"
      ]
    },
    {
      "cell_type": "code",
      "metadata": {
        "id": "KXYOSHY-C7m4",
        "colab": {
          "base_uri": "https://localhost:8080/"
        },
        "outputId": "f24fe948-d6d6-4140-c903-ccee8d9b20d4"
      },
      "source": [
        "def create_project_board():\n",
        "  task_status = (\"assigned\", \"inprogress\", \"completed\")\n",
        "  assigned = ['task1','task2','task3']\n",
        "  inprogress = ['task4','task5','task6']\n",
        "  completed = ['task7','task8','task9']\n",
        "  #  add your code below here\n",
        "\n",
        "  project_board = []\n",
        "\n",
        "  for status in task_status:\n",
        "    for task in eval(status):\n",
        "      dict_item = {}\n",
        "      dict_item[status] = task\n",
        "      project_board.append(dict_item)\n",
        "\n",
        "  return project_board\n",
        "\n",
        "create_project_board()\n",
        "\n",
        "\n",
        "\n",
        "\n",
        "\n",
        "\n",
        "create_project_board()\n"
      ],
      "execution_count": 8,
      "outputs": [
        {
          "output_type": "execute_result",
          "data": {
            "text/plain": [
              "[{'assigned': 'task1'},\n",
              " {'assigned': 'task2'},\n",
              " {'assigned': 'task3'},\n",
              " {'inprogress': 'task4'},\n",
              " {'inprogress': 'task5'},\n",
              " {'inprogress': 'task6'},\n",
              " {'completed': 'task7'},\n",
              " {'completed': 'task8'},\n",
              " {'completed': 'task9'}]"
            ]
          },
          "metadata": {},
          "execution_count": 8
        }
      ]
    },
    {
      "cell_type": "markdown",
      "metadata": {
        "id": "M1BuTu9p19Ma"
      },
      "source": [
        "---\n",
        "### Exercise 3 - names and heights\n",
        "\n",
        "Write a function which will allow a user to enter the names and heights of a set of people and add each set of information as a record (dictionary) to a list. The function will stop collecting names and heights when the user enters \"STOP\" as the name.\n",
        "\n",
        "Then, the function will:  \n",
        "\n",
        "*   produce a list of names in order of the shortest person to the tallest\n",
        "*   calculate the name of the tallest person\n",
        "*   calculate the name of the shortest person\n",
        "*   calculate the average height\n",
        "*   calculate the name of the person who is closest to the average height\n",
        "\n",
        "\n",
        "\n",
        "\n"
      ]
    },
    {
      "cell_type": "code",
      "metadata": {
        "id": "reuyww3e18uv",
        "colab": {
          "base_uri": "https://localhost:8080/"
        },
        "outputId": "ac8cd2e8-0dfc-4972-966f-1c7aed1a9ded"
      },
      "source": [
        "def myFunc(e):\n",
        "  return e['height']\n",
        "\n",
        "def collect_info():\n",
        "  info_list = []\n",
        "  while True:\n",
        "    name = input(\"Enter a name: \")\n",
        "    if name.upper() == \"STOP\":\n",
        "      break\n",
        "    height = float(input(\"Enter a height: \"))\n",
        "    dict_item = {}\n",
        "    dict_item[\"name\"] = name\n",
        "    dict_item[\"height\"] = height\n",
        "    info_list.append(dict_item)\n",
        "\n",
        "  names_list = []\n",
        "  total = 0\n",
        "\n",
        "  info_list.sort(key=myFunc)\n",
        "\n",
        "  for person in info_list:\n",
        "    total += person['height']\n",
        "    names_list.append(person['name'])\n",
        "\n",
        "  average_height = round(total / len(names_list), 2)\n",
        "  tallest_person_name = names_list[-1]\n",
        "  shortest_person_name = names_list[0]\n",
        "  min_height_difference = 100\n",
        "  closest_to_average_height = ''\n",
        "\n",
        "  for person in info_list:\n",
        "    height_difference = +(average_height - person['height'])\n",
        "    if height_difference < 0:\n",
        "      height_difference *= -1\n",
        "    if height_difference < min_height_difference:\n",
        "      min_height_difference = height_difference\n",
        "      closest_to_average_height = person['name']\n",
        "\n",
        "\n",
        "  print(names_list)\n",
        "  print(\"The tallest person is\", tallest_person_name)\n",
        "  print(\"The shortest person is\", shortest_person_name)\n",
        "  print(\"Average height is\", average_height)\n",
        "  print(\"The person closest to the average height is\", closest_to_average_height)\n",
        "\n",
        "collect_info()\n",
        "\n",
        "\n",
        "\n"
      ],
      "execution_count": 21,
      "outputs": [
        {
          "output_type": "stream",
          "name": "stdout",
          "text": [
            "Enter a name: John\n",
            "Enter a height: 1.77\n",
            "Enter a name: Nick\n",
            "Enter a height: 1.64\n",
            "Enter a name: Alona\n",
            "Enter a height: 1.67\n",
            "Enter a name: Lucy\n",
            "Enter a height: 1.55\n",
            "Enter a name: Kate\n",
            "Enter a height: 1.73\n",
            "Enter a name: stop\n",
            "['Lucy', 'Nick', 'Alona', 'Kate', 'John']\n",
            "The tallest person is John\n",
            "The shortest person is Lucy\n",
            "Average height is 1.67\n",
            "The person closest to the average height is Alona\n"
          ]
        }
      ]
    }
  ]
}