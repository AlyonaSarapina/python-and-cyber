{
  "nbformat": 4,
  "nbformat_minor": 0,
  "metadata": {
    "colab": {
      "provenance": [],
      "include_colab_link": true
    },
    "kernelspec": {
      "name": "python3",
      "display_name": "Python 3"
    },
    "language_info": {
      "name": "python"
    }
  },
  "cells": [
    {
      "cell_type": "markdown",
      "metadata": {
        "id": "view-in-github",
        "colab_type": "text"
      },
      "source": [
        "<a href=\"https://colab.research.google.com/github/AlyonaSarapina/python-and-cyber/blob/main/Copy_%2202_Encoding_systems_ipynb%22.ipynb\" target=\"_parent\"><img src=\"https://colab.research.google.com/assets/colab-badge.svg\" alt=\"Open In Colab\"/></a>"
      ]
    },
    {
      "cell_type": "markdown",
      "source": [
        "# Encoding challenges inspired by https://cryptopals.com/\n",
        "---\n",
        "\n",
        "Have a go at the 5 challenges.  Each will need specific Python libraries and a basic understanding of the different encoding systems."
      ],
      "metadata": {
        "id": "95WVcP4unIP8"
      }
    },
    {
      "cell_type": "markdown",
      "source": [
        "## Challenge 1 - Hexadecimal, ASCII and base 64\n",
        "---\n",
        "\n",
        "**Topics:**\n",
        "* [Hexadecimal and numbering systems](https://learn.sparkfun.com/tutorials/hexadecimal/introduction)\n",
        "* [ASCII](https://www.ascii-code.com/articles/Beginners-Guide-to-ASCII)\n",
        "* [Base64](https://www.base64encoder.io/learn/)\n",
        "\n",
        "You can refer back to these topics as you work through the exercises below."
      ],
      "metadata": {
        "id": "vSv3HbB9ne8v"
      }
    },
    {
      "cell_type": "markdown",
      "source": [
        "### Exercise 1 - convert decimal number to a hexadecimal equivalent string\n",
        "---\n",
        "\n",
        "e.g.  \n",
        "Decimal 10 is Hexadecimal a   \n",
        "Decimal 45 is Hexadecimal 2d  \n",
        "Decimal 163 is Hexadecimal a3  \n",
        "Decimal 3482 is Hexadecimal d9a  \n",
        "\n",
        "Write a function that will return the hexadecimal number as a string (for printing)\n"
      ],
      "metadata": {
        "id": "F0fAtbFjw-7j"
      }
    },
    {
      "cell_type": "code",
      "execution_count": 5,
      "metadata": {
        "id": "TSur-LW7nE2K",
        "colab": {
          "base_uri": "https://localhost:8080/",
          "height": 35
        },
        "outputId": "123baf02-f3c8-46a0-85ae-5d4316594354"
      },
      "outputs": [
        {
          "output_type": "execute_result",
          "data": {
            "text/plain": [
              "'a3'"
            ],
            "application/vnd.google.colaboratory.intrinsic+json": {
              "type": "string"
            }
          },
          "metadata": {},
          "execution_count": 5
        }
      ],
      "source": [
        "def decimal_to_hexadecimal(number):\n",
        "  return hex(number)[2:]\n",
        "\n",
        "\n",
        "decimal_to_hexadecimal(163)"
      ]
    },
    {
      "cell_type": "markdown",
      "source": [
        "### Exercise 2 - convert a string into its hexadecimal ASCII values to form a new string\n",
        "---\n",
        "\n",
        "e.g. \"Hello World\" converts to \"48656c6c6f20576f726c64\""
      ],
      "metadata": {
        "id": "vJuPaMrqxOEQ"
      }
    },
    {
      "cell_type": "code",
      "source": [
        "def str_to_hex(str):\n",
        "  new_str = ''\n",
        "\n",
        "  for letter in str:\n",
        "    new_str += hex(ord(letter))[2:]\n",
        "\n",
        "  return new_str\n",
        "\n",
        "str_to_hex(\"Hello World\")"
      ],
      "metadata": {
        "id": "Siy9Vg0rNSKT",
        "colab": {
          "base_uri": "https://localhost:8080/",
          "height": 35
        },
        "outputId": "20d8ac4e-1222-4a1c-8713-1f4f899195ef"
      },
      "execution_count": 9,
      "outputs": [
        {
          "output_type": "execute_result",
          "data": {
            "text/plain": [
              "'48656c6c6f20576f726c64'"
            ],
            "application/vnd.google.colaboratory.intrinsic+json": {
              "type": "string"
            }
          },
          "metadata": {},
          "execution_count": 9
        }
      ]
    },
    {
      "cell_type": "markdown",
      "source": [
        "### Exercise 3 - convert a hexadecimal digit string to a four digit binary string\n",
        "---\n",
        "e.g.   \n",
        "Hexadecimal string \"4\" would convert to binary string \"0100\"   \n",
        "Hexadecimal string \"E\" would convert to binary string \"1110\"  \n",
        "Hexadecimal string \"0\" would convert to binary string \"0000\"   "
      ],
      "metadata": {
        "id": "JB1D1k1zdcii"
      }
    },
    {
      "cell_type": "code",
      "source": [
        "import math\n",
        "\n",
        "def hex_to_bin(str):\n",
        "  res = \"{0:08b}\".format(int(str, 16)) [4:]\n",
        "  return res\n",
        "\n",
        "print(hex_to_bin(\"4\"))\n",
        "print(hex_to_bin(\"E\"))\n",
        "print(hex_to_bin(\"0\"))"
      ],
      "metadata": {
        "id": "fFFHeVTH49so",
        "colab": {
          "base_uri": "https://localhost:8080/"
        },
        "outputId": "27653781-a999-40eb-f5d6-105f16a58f03"
      },
      "execution_count": 29,
      "outputs": [
        {
          "output_type": "stream",
          "name": "stdout",
          "text": [
            "0100\n",
            "1110\n",
            "0000\n"
          ]
        }
      ]
    },
    {
      "cell_type": "markdown",
      "source": [
        "### Exercise 4 - encode an image (binary format) in Base64 format\n",
        "---\n",
        "Python provides a library `base64` for encoding binary data as text for secure transmission over networks and the internet.\n",
        "\n",
        "The process for preparing an image file for transmission is:\n",
        "\n",
        "*   import the base64 library\n",
        "*   uplodad and open the image file as bytes\n",
        "*   read and ecnode the file contents (binary) into a base64 string\n",
        "*   print the first 128 characters and the last 128 characters of the base64 string\n",
        "\n"
      ],
      "metadata": {
        "id": "zMcevZaeeJkF"
      }
    },
    {
      "cell_type": "code",
      "source": [
        "import base64\n",
        "import requests\n",
        "\n",
        "def img_to_bin(url):\n",
        "  img = requests.get(url)\n",
        "  encoded_img = base64.b64encode(img.content)\n",
        "\n",
        "  first = encoded_img[::128]\n",
        "  last = encoded_img[-128:]\n",
        "  return first, last\n",
        "\n",
        "url = 'https://raw.githubusercontent.com/docker-library/docs/01c12653951b2fe592c1f93a13b4e289ada0e3a1/python/logo.png'\n",
        "img_to_bin(url)\n"
      ],
      "metadata": {
        "id": "8ev5F_P-46_0",
        "colab": {
          "base_uri": "https://localhost:8080/"
        },
        "outputId": "ed797c5f-948d-4eb8-fadc-73e527a21a0b"
      },
      "execution_count": 39,
      "outputs": [
        {
          "output_type": "execute_result",
          "data": {
            "text/plain": [
              "(b'i3Efm7WRIbNtC2UjpF7DFMsZ+YnB0jRX3y/uHkbk/ydJ9iuXerSPvF3vp491XmSJS9RIrTD0FNg9Bce0kULhOzoFCC9htOY/xoTv1e/2akgSaWlfe2+RucMal748VzKeuc3Y3IImlnzPw5Iwx4FcR40IgIm60ZWC+T04gO6k1v+',\n",
              " b'HKxHldOExQpUoQrlpVGlFIQmIlkAqZB2EWH4CLuIVdmDWduJVX+A5PJ2Ov5tkPJOD6umhLOgQPaKEsVdURWg9qN9jDmSCjLZ+P8DAFWjYCGOJn0zAAAAAElFTkSuQmCC')"
            ]
          },
          "metadata": {},
          "execution_count": 39
        }
      ]
    },
    {
      "cell_type": "markdown",
      "source": [
        "### Exdercise 5 -- challenge -- encode a zip file into Base64 format\n",
        "---\n",
        "Create a small zip file, upload and open it, convert to base64 format.  \n",
        "Print the first 128 characters and the last 128 characters of the bas64 string.  \n",
        "Decode back to the original file.  \n",
        "Try to unzip to get the original contents.\n",
        "\n"
      ],
      "metadata": {
        "id": "iBBVTLY74_r_"
      }
    },
    {
      "cell_type": "code",
      "source": [
        "import base64\n",
        "\n",
        "def encode_file():\n",
        "  with open(\"timetable.pdf.zip\", \"rb\") as f:\n",
        "    bytes = f.read()\n",
        "    encoded = base64.b64encode(bytes)\n",
        "    first = encoded[::128]\n",
        "    last = encoded[-128:]\n",
        "    print(first)\n",
        "    print(last)\n",
        "    return bytes\n",
        "\n",
        "\n",
        "def decode_file(bytes):\n",
        "    decoded = base64.b64decode(bytes)\n",
        "    filename = \"decoded.zip\"\n",
        "    with open(filename, \"wb\") as f:\n",
        "      f.write(encoded)\n",
        "\n",
        "encoded = encode_file()\n",
        "decode_file(encoded)"
      ],
      "metadata": {
        "id": "MJfUnAKz5VOx",
        "colab": {
          "base_uri": "https://localhost:8080/"
        },
        "outputId": "0cd4aec1-be37-495a-e614-86f4131e7762"
      },
      "execution_count": 54,
      "outputs": [
        {
          "output_type": "stream",
          "name": "stdout",
          "text": [
            "b'UnGNsO6/IHS5gyjdMDzgzDe5R7p+H6++2NokssbQ+t5q2vVYr+PW2s0ALzHxd1FcGfjTrJQZO6mnktyyzgGv3nS7HB03nXtm7FF9nnKT3a4nzCy1+wcfm1YNHbyCco6DvED7xd6KxipncRbwDcjRYjuPZ8xwRlK+g3DKw1v+C92l3l9b08jW4EzF7RKr2+39zSRl89TIgK6713doQn9qgeg5oTzMindjGxkxx5fwqJy8NDAriodsfwhUi5xDDe/Fq8R05rjBoGZhUzO7QtLjXzkDarI1K8dnuwDRTU8N4W91h/i4SEzS0pCBK60cGD8TX9RdU4xZUdxY4LvM9Op9f61Mj0TCbaCvJxBeOMIDWfNW8CIJnWHWv1ysycn+PHXlCBKueF1839Z9NmWL+apm16r4PNBvrHiyzmAx86cSsJzYfBHJaZ4EmxiOojLvxWq15An3kerqLPBqh6PD3xMPDfgQ3tK1+y5eex7zNmLV9EqOH1hAKrena4x4WP4FzHz7wOwi1vlZHaTEsQVtH7shxFMK5Pk8xJJW+CptaceEpmnKkZrDR2q9dIjV5gpI+RllwDgxivtqvxRF+OBuZP/IoX5YUa3scRhFk7kBBCAt4IrFznNfF5DudKum3mcpH/fblPerHA78ADq6V8S1P28YLsGDc7nIh7TLq+IUtYe03rfYmn9uvrNEKYJaV05mcOFduj8G0PC4LH/YtDZjNiEV64JmIXBWS1YFgzS39/eM+rvbsGAc81S7OYitS4dXrGtcMM5iT6DeejDWiKswjS8D80z9KNViopmqsI4dGALnmPrPFLkijWE7hGW7wIlRl7tZuz/wVnmbuxZMTYseVcNabgCRxawEoLzhdede4jHqW1fdA/3AfsVeZ'\n",
            "b'IAAAAAAAAAAAAKSBUUkBAF9fTUFDT1NYLy5fVGltZXRhYmxlLnBkZlVUDQAHS3hcZZkWZmUJSWdldXgLAAEE9QEAAAQUAAAAUEsFBgAAAAACAAIAwQAAANdKAQAAAA=='\n"
          ]
        }
      ]
    }
  ]
}