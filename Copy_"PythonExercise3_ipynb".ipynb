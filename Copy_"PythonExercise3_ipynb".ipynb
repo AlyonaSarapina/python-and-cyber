{
  "nbformat": 4,
  "nbformat_minor": 0,
  "metadata": {
    "colab": {
      "provenance": [],
      "include_colab_link": true
    },
    "kernelspec": {
      "name": "python3",
      "display_name": "Python 3"
    },
    "language_info": {
      "name": "python"
    }
  },
  "cells": [
    {
      "cell_type": "markdown",
      "metadata": {
        "id": "view-in-github",
        "colab_type": "text"
      },
      "source": [
        "<a href=\"https://colab.research.google.com/github/AlyonaSarapina/python-and-cyber/blob/main/Copy_%22PythonExercise3_ipynb%22.ipynb\" target=\"_parent\"><img src=\"https://colab.research.google.com/assets/colab-badge.svg\" alt=\"Open In Colab\"/></a>"
      ]
    },
    {
      "cell_type": "markdown",
      "source": [
        "1A. Write a Python program to sum all the items in a list."
      ],
      "metadata": {
        "id": "06HPv0TNKzcW"
      }
    },
    {
      "cell_type": "code",
      "execution_count": null,
      "metadata": {
        "id": "sHKUtK2dKukc",
        "outputId": "dde864c2-a49b-4e0e-d10d-f35161ab7c1b",
        "colab": {
          "base_uri": "https://localhost:8080/"
        }
      },
      "outputs": [
        {
          "output_type": "execute_result",
          "data": {
            "text/plain": [
              "28"
            ]
          },
          "metadata": {},
          "execution_count": 2
        }
      ],
      "source": [
        "def sumItems(list):\n",
        "  sum = 0\n",
        "\n",
        "  for item in list:\n",
        "    sum += item\n",
        "\n",
        "  return sum\n",
        "\n",
        "list = [1, 2, 3, 4, 5, 6, 7]\n",
        "sumItems(list)\n",
        "\n"
      ]
    },
    {
      "cell_type": "markdown",
      "source": [
        "1B. Write a Python program to count the number of strings where the string length is 2 or more and the first and last character are same from a given list of strings."
      ],
      "metadata": {
        "id": "mnY0V50-K0iF"
      }
    },
    {
      "cell_type": "code",
      "source": [
        "def countFirstLast(strings):\n",
        "    count = 0\n",
        "    for string in strings:\n",
        "        if len(string) >= 2 and string[0] == string[-1]:\n",
        "            count += 1\n",
        "    return count\n",
        "\n",
        "my_strings = ['level', 'python', 'radar', 'hello', 'madam']\n",
        "countFirstLast(my_strings)"
      ],
      "metadata": {
        "id": "Q-N0EiDzK0p0"
      },
      "execution_count": null,
      "outputs": []
    },
    {
      "cell_type": "markdown",
      "source": [
        "1C. Write a Python program to get a list, sorted in increasing order by the last element in each tuple from a given list of non-empty tuples."
      ],
      "metadata": {
        "id": "NEataweqK0xV"
      }
    },
    {
      "cell_type": "code",
      "source": [
        "def bubbleSort(tuples_list):\n",
        "  for i in range(len(tuples_list)):\n",
        "    for j in range(0, len(tuples_list ) - i - 1):\n",
        "      if tuples_list[j][-1] > tuples_list[j + 1][-1]:\n",
        "        temp = tuples_list[j]\n",
        "        tuples_list[j] = tuples_list[j+1]\n",
        "        tuples_list[j+1] = temp\n",
        "\n",
        "  print(tuples_list)\n",
        "\n",
        "tuples_list = [(1, 5), (3, 2), (8, 10), (6, 4)]\n",
        "\n",
        "bubbleSort(tuples_list)"
      ],
      "metadata": {
        "id": "CBw_nFtnK032",
        "outputId": "02e5c941-f2a5-4476-8a43-233733e5d847",
        "colab": {
          "base_uri": "https://localhost:8080/"
        }
      },
      "execution_count": null,
      "outputs": [
        {
          "output_type": "stream",
          "name": "stdout",
          "text": [
            "[(3, 2), (6, 4), (1, 5), (8, 10)]\n"
          ]
        }
      ]
    },
    {
      "cell_type": "markdown",
      "source": [
        "2A. Write a Python program to remove duplicates from a list."
      ],
      "metadata": {
        "id": "gCcuirvhK0-t"
      }
    },
    {
      "cell_type": "code",
      "source": [
        "def remove_dublicates(list):\n",
        "  result = []\n",
        "\n",
        "  for item in list:\n",
        "    if item not in result:\n",
        "      result.append(item)\n",
        "\n",
        "  return result\n",
        "\n",
        "remove_dublicates([1, 2, 3, 2, 4, 3, 5, 1])"
      ],
      "metadata": {
        "id": "Iqt5oNJwK1DV",
        "colab": {
          "base_uri": "https://localhost:8080/"
        },
        "outputId": "42d0646f-82e6-467f-f497-c3bec7b6a70a"
      },
      "execution_count": 2,
      "outputs": [
        {
          "output_type": "execute_result",
          "data": {
            "text/plain": [
              "[1, 2, 3, 4, 5]"
            ]
          },
          "metadata": {},
          "execution_count": 2
        }
      ]
    },
    {
      "cell_type": "markdown",
      "source": [
        "2B. Write a Python function that takes two lists and returns True if they have at least one common member."
      ],
      "metadata": {
        "id": "icLILXYUK1IF"
      }
    },
    {
      "cell_type": "code",
      "source": [
        "def compare_lists(list1, list2):\n",
        "  for item in list1:\n",
        "      if item in list2:\n",
        "          return True\n",
        "  return False\n",
        "\n",
        "my_list1 = [1, 2, 3, 4, 5]\n",
        "my_list2 = [5, 6, 7, 8, 9]\n",
        "compare_lists(my_list1, my_list2)\n"
      ],
      "metadata": {
        "id": "HhDboPZIK1MZ",
        "colab": {
          "base_uri": "https://localhost:8080/"
        },
        "outputId": "e4621ec3-40d8-4598-b8cf-73793af70414"
      },
      "execution_count": 3,
      "outputs": [
        {
          "output_type": "execute_result",
          "data": {
            "text/plain": [
              "True"
            ]
          },
          "metadata": {},
          "execution_count": 3
        }
      ]
    },
    {
      "cell_type": "markdown",
      "source": [
        "2C. Write a Python program to print the numbers of a specified list after removing even numbers from it."
      ],
      "metadata": {
        "id": "22atu-SmK1Rm"
      }
    },
    {
      "cell_type": "code",
      "source": [
        "def odd_list(list):\n",
        "  result = []\n",
        "\n",
        "  for item in list:\n",
        "    if item % 2 != 0:\n",
        "      result.append(item)\n",
        "\n",
        "  return result\n",
        "\n",
        "my_list = [1, 2, 3, 4, 5, 6, 7, 8, 9, 10]\n",
        "odd_list(my_list)"
      ],
      "metadata": {
        "id": "8Xnu2OBvK1V-",
        "colab": {
          "base_uri": "https://localhost:8080/"
        },
        "outputId": "e09fe165-2470-4a19-dce7-f7ba883ef7d4"
      },
      "execution_count": 4,
      "outputs": [
        {
          "output_type": "execute_result",
          "data": {
            "text/plain": [
              "[1, 3, 5, 7, 9]"
            ]
          },
          "metadata": {},
          "execution_count": 4
        }
      ]
    },
    {
      "cell_type": "markdown",
      "source": [
        "3A. Write a Python program to generate and print a list of first and last 5 elements where the values are square of numbers between 1 and 30 (both included)."
      ],
      "metadata": {
        "id": "YoKsC5HWK1ae"
      }
    },
    {
      "cell_type": "code",
      "source": [
        "def generate_list():\n",
        "  result = []\n",
        "  for item in range(1, 31):\n",
        "    result.append(item ** 2)\n",
        "\n",
        "  return result\n",
        "\n",
        "def get_values():\n",
        "  list = generate_list()\n",
        "  result = []\n",
        "  count = 1\n",
        "  length = len(list)\n",
        "\n",
        "  for item in list:\n",
        "    if list.index(item) < 5 or list.index(item) >= length - 5:\n",
        "      result.append(item)\n",
        "\n",
        "  return result\n",
        "\n",
        "get_values()\n",
        ""
      ],
      "metadata": {
        "id": "l5rPnietK1e4",
        "colab": {
          "base_uri": "https://localhost:8080/"
        },
        "outputId": "bee3a36b-9550-48b4-f828-b03498f89cfb"
      },
      "execution_count": 5,
      "outputs": [
        {
          "output_type": "execute_result",
          "data": {
            "text/plain": [
              "[1, 4, 9, 16, 25, 676, 729, 784, 841, 900]"
            ]
          },
          "metadata": {},
          "execution_count": 5
        }
      ]
    },
    {
      "cell_type": "markdown",
      "source": [
        "3B. Write a Python program to get the difference between the two lists."
      ],
      "metadata": {
        "id": "72sVaoAyK1jG"
      }
    },
    {
      "cell_type": "code",
      "source": [
        "def get_different_values(list1, list2):\n",
        "  result = []\n",
        "\n",
        "  for item in list1:\n",
        "    if item not in list2:\n",
        "      result.append(item)\n",
        "\n",
        "list1 = [1, 2, 3, 4, 5]\n",
        "list2 = [4, 5, 6, 7, 8]\n",
        "get_different_values(list1, list2)\n"
      ],
      "metadata": {
        "id": "RsqiGkbNK1oP"
      },
      "execution_count": null,
      "outputs": []
    },
    {
      "cell_type": "markdown",
      "source": [
        "3C. Write a Python program to convert a list of characters into a string."
      ],
      "metadata": {
        "id": "cwb0kd3sK1vt"
      }
    },
    {
      "cell_type": "code",
      "source": [
        "def convert_char(list):\n",
        "  str = ''\n",
        "\n",
        "  for item in list:\n",
        "    str += item\n",
        "\n",
        "  return str\n",
        "\n",
        "characters = ['H', 'e', 'l', 'l', 'o']\n",
        "convert_char(characters)"
      ],
      "metadata": {
        "id": "9oetbMLdK11N",
        "colab": {
          "base_uri": "https://localhost:8080/",
          "height": 35
        },
        "outputId": "f1c8b3ba-796a-4711-8646-70e4b34bc6a9"
      },
      "execution_count": 6,
      "outputs": [
        {
          "output_type": "execute_result",
          "data": {
            "text/plain": [
              "'Hello'"
            ],
            "application/vnd.google.colaboratory.intrinsic+json": {
              "type": "string"
            }
          },
          "metadata": {},
          "execution_count": 6
        }
      ]
    },
    {
      "cell_type": "markdown",
      "source": [
        "4A. Write a Python program to select an item randomly from a list."
      ],
      "metadata": {
        "id": "pRBFvYEJK17O"
      }
    },
    {
      "cell_type": "code",
      "source": [
        "import random\n",
        "\n",
        "def random_selector(list):\n",
        "  random_number = random.randint(0, len(list) - 1)\n",
        "\n",
        "  return list[random_number]\n",
        "\n",
        "my_list = [1, 2, 3, 4, 5]\n",
        "random_selector(my_list)"
      ],
      "metadata": {
        "id": "Z3mdz8x5K1_s",
        "colab": {
          "base_uri": "https://localhost:8080/"
        },
        "outputId": "b0662cbe-2d6b-4d46-879f-0a3af1131e93"
      },
      "execution_count": 7,
      "outputs": [
        {
          "output_type": "execute_result",
          "data": {
            "text/plain": [
              "1"
            ]
          },
          "metadata": {},
          "execution_count": 7
        }
      ]
    },
    {
      "cell_type": "markdown",
      "source": [
        "4B.Write a Python program to find the second largest number in a list."
      ],
      "metadata": {
        "id": "KZdXkW5MPjot"
      }
    },
    {
      "cell_type": "code",
      "source": [
        "def find_max(list):\n",
        "  first_max = 0\n",
        "  second_max = 0\n",
        "\n",
        "  for item in list:\n",
        "    if item > first_max:\n",
        "      first_max = item\n",
        "    if item > second_max and item != first_max:\n",
        "      second_max = item\n",
        "\n",
        "  return second_max\n",
        "\n",
        "my_list = [10, 5, 20, 15, 8]\n",
        "find_max(my_list)"
      ],
      "metadata": {
        "id": "4l3nkCRUK2KX",
        "colab": {
          "base_uri": "https://localhost:8080/"
        },
        "outputId": "67ed467a-d907-4f3a-99cf-f0e560226d21"
      },
      "execution_count": 9,
      "outputs": [
        {
          "output_type": "execute_result",
          "data": {
            "text/plain": [
              "15"
            ]
          },
          "metadata": {},
          "execution_count": 9
        }
      ]
    },
    {
      "cell_type": "markdown",
      "source": [
        "5A. Write a Python program to count the number of elements in a list within a specified range."
      ],
      "metadata": {
        "id": "gUKwS8kEPkM6"
      }
    },
    {
      "cell_type": "code",
      "source": [
        "def counter(list, min, max):\n",
        "  count = 0\n",
        "\n",
        "  for item in list:\n",
        "    if item < max and item > min:\n",
        "      count += 1\n",
        "\n",
        "  return count\n",
        "\n",
        "my_list = [1, 5, 10, 15, 20, 25, 30]\n",
        "min_value = 10\n",
        "max_value = 25\n",
        "counter(my_list, min_value, max_value)"
      ],
      "metadata": {
        "id": "DAnLmn_RPySc",
        "colab": {
          "base_uri": "https://localhost:8080/"
        },
        "outputId": "8c425c92-fdf7-40ee-df58-fb573f79c169"
      },
      "execution_count": 11,
      "outputs": [
        {
          "output_type": "execute_result",
          "data": {
            "text/plain": [
              "2"
            ]
          },
          "metadata": {},
          "execution_count": 11
        }
      ]
    },
    {
      "cell_type": "markdown",
      "source": [
        "5B. Write a Python program to split a list into different variables."
      ],
      "metadata": {
        "id": "3bOmmaEbK2E8"
      }
    },
    {
      "cell_type": "code",
      "source": [
        "def split_list(list):\n",
        "  var1 = list[0]\n",
        "  var2 = list[1]\n",
        "  other = []\n",
        "\n",
        "  for num in range(2, len(list)):\n",
        "    other.append(list[num])\n",
        "\n",
        "  return var1, var2, other\n",
        "\n",
        "my_list = [1, 2, 3, 4, 5]\n",
        "split_list(my_list)"
      ],
      "metadata": {
        "id": "lBYfMtFnRBsz",
        "colab": {
          "base_uri": "https://localhost:8080/"
        },
        "outputId": "c1ad60ef-838b-493e-e7f2-ed0cd72db657"
      },
      "execution_count": 12,
      "outputs": [
        {
          "output_type": "execute_result",
          "data": {
            "text/plain": [
              "(1, 2, [3, 4, 5])"
            ]
          },
          "metadata": {},
          "execution_count": 12
        }
      ]
    },
    {
      "cell_type": "markdown",
      "source": [
        "6A. Merge the following dictionaries into one"
      ],
      "metadata": {
        "id": "hH16U6KcRARD"
      }
    },
    {
      "cell_type": "code",
      "source": [
        "dict1 = {'Ten': 10, 'Twenty': 20, 'Thirty': 30}\n",
        "dict2 = {'Thirty': 30, 'Fourty': 40, 'Fifty': 50}\n",
        "\n",
        "merged_dict = dict(dict1)\n",
        "merged_dict.update(dict2)\n",
        "\n",
        "print(merged_dict)\n"
      ],
      "metadata": {
        "id": "z_ce9ZOHRAYr",
        "colab": {
          "base_uri": "https://localhost:8080/"
        },
        "outputId": "f7ad45bf-8856-4b83-c275-2718441e20f4"
      },
      "execution_count": 13,
      "outputs": [
        {
          "output_type": "stream",
          "name": "stdout",
          "text": [
            "{'Ten': 10, 'Twenty': 20, 'Thirty': 30, 'Fourty': 40, 'Fifty': 50}\n"
          ]
        }
      ]
    },
    {
      "cell_type": "markdown",
      "source": [
        "6B. Delete the set of keys from the following python dictionary"
      ],
      "metadata": {
        "id": "UOCvJRpvRAfq"
      }
    },
    {
      "cell_type": "code",
      "source": [
        "sampleDict = {\n",
        " \"name\": \"Kelly\",\n",
        " \"age\":25,\n",
        " \"salary\": 8000,\n",
        " \"city\": \"New york\"\n",
        "}\n",
        "\n",
        "\n",
        "keysToRemove = [\"name\", \"salary\"]\n",
        "\n",
        "for key in keysToRemove:\n",
        "    sampleDict.pop(key, None)\n",
        "\n",
        "print(sampleDict)\n"
      ],
      "metadata": {
        "id": "xJk1rTxKRAmV",
        "colab": {
          "base_uri": "https://localhost:8080/"
        },
        "outputId": "3621285a-32ac-42e0-8f49-88c1893779d0"
      },
      "execution_count": 15,
      "outputs": [
        {
          "output_type": "stream",
          "name": "stdout",
          "text": [
            "{'age': 25, 'city': 'New york'}\n"
          ]
        }
      ]
    }
  ]
}