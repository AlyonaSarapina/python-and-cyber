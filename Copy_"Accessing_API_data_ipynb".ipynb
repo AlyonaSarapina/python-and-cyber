{
  "nbformat": 4,
  "nbformat_minor": 0,
  "metadata": {
    "colab": {
      "provenance": [],
      "include_colab_link": true
    },
    "kernelspec": {
      "name": "python3",
      "display_name": "Python 3"
    },
    "language_info": {
      "name": "python"
    }
  },
  "cells": [
    {
      "cell_type": "markdown",
      "metadata": {
        "id": "view-in-github",
        "colab_type": "text"
      },
      "source": [
        "<a href=\"https://colab.research.google.com/github/AlyonaSarapina/python-and-cyber/blob/main/Copy_%22Accessing_API_data_ipynb%22.ipynb\" target=\"_parent\"><img src=\"https://colab.research.google.com/assets/colab-badge.svg\" alt=\"Open In Colab\"/></a>"
      ]
    },
    {
      "cell_type": "markdown",
      "source": [
        "# Accessing API data with Python\n",
        "---\n",
        "\n",
        "Now that you have accessed an API with Postman, which makes the process a little easier.  Have a go at calling the API using Python, again a reasonably easy process.\n",
        "\n",
        "### The requests library\n",
        "Python has a requests library which has the instructions to make the request.\n",
        "\n",
        "Import the requests library  \n",
        "Create the payload (same as in postman)\n",
        "Create a request header (containing the API key)   \n",
        "Create a request body  \n",
        "Send the request  \n",
        "Print the response\n"
      ],
      "metadata": {
        "id": "jUn5To-yFXXn"
      }
    },
    {
      "cell_type": "code",
      "execution_count": 11,
      "metadata": {
        "id": "L4DvY-VfFTfR",
        "colab": {
          "base_uri": "https://localhost:8080/"
        },
        "outputId": "8fe21d7f-1018-419d-b861-9bbd2bd0cbdf"
      },
      "outputs": [
        {
          "output_type": "stream",
          "name": "stdout",
          "text": [
            "API key: ··········\n",
            "\"Database connected and savings table created. Test data added\"\n"
          ]
        }
      ],
      "source": [
        "import requests\n",
        "import json\n",
        "import getpass\n",
        "\n",
        "url = \"https://32614btzed.execute-api.eu-west-2.amazonaws.com/testing/savings-app\"\n",
        "\n",
        "pswd = getpass.getpass('API key: ')\n",
        "\n",
        "headers = {\n",
        "    \"Content-Type\":\"application/json\",\n",
        "    \"x-api-key\": pswd\n",
        "}\n",
        "\n",
        "body = {\n",
        "    \"instruction\":\"setup_for_testing\",\n",
        "    \"data\":{},\n",
        "    \"admin_name\":\"alyona\"\n",
        "}\n",
        "\n",
        "response = requests.post(url, headers=headers, data=json.dumps(body))\n",
        "print(response.text)"
      ]
    },
    {
      "cell_type": "markdown",
      "source": [
        "### Create a new request for the get_columns function\n",
        "---\n",
        "Again, ensure that you ask for input of the API key.  This is only so that if you upload this worksheet to Github, you won't expose the key as long as you haven't saved it in the worksheet.\n",
        "\n",
        "Add the request code in the code cell below."
      ],
      "metadata": {
        "id": "CvkXSyBrKkA-"
      }
    },
    {
      "cell_type": "code",
      "source": [
        "import requests\n",
        "import json\n",
        "import getpass\n",
        "\n",
        "url = \"https://32614btzed.execute-api.eu-west-2.amazonaws.com/testing/savings-app\"\n",
        "\n",
        "pswd = getpass.getpass('API key: ')\n",
        "\n",
        "headers = {\n",
        "    \"Content-Type\":\"application/json\",\n",
        "    \"x-api-key\": pswd\n",
        "}\n",
        "\n",
        "body = {\n",
        "    \"instruction\":\"get_columns\",\n",
        "    \"data\":{},\n",
        "    \"admin_name\":\"alyona\"\n",
        "}\n",
        "\n",
        "response = requests.post(url, headers=headers, data=json.dumps(body))\n",
        "print(response.text)"
      ],
      "metadata": {
        "id": "kDobki_6K84Q",
        "colab": {
          "base_uri": "https://localhost:8080/"
        },
        "outputId": "17318622-4582-4ffa-a764-bafe33093d32"
      },
      "execution_count": 12,
      "outputs": [
        {
          "output_type": "stream",
          "name": "stdout",
          "text": [
            "API key: ··········\n",
            "[\"user_id\", \"balance\"]\n"
          ]
        }
      ]
    },
    {
      "cell_type": "markdown",
      "source": [
        "### Now add the other two requests (get_data, add_funds)"
      ],
      "metadata": {
        "id": "o_P9sRM1Kki9"
      }
    },
    {
      "cell_type": "code",
      "source": [
        "import requests\n",
        "import json\n",
        "import getpass\n",
        "\n",
        "url = \"https://32614btzed.execute-api.eu-west-2.amazonaws.com/testing/savings-app\"\n",
        "\n",
        "pswd = getpass.getpass('API key: ')\n",
        "\n",
        "headers = {\n",
        "    \"Content-Type\":\"application/json\",\n",
        "    \"x-api-key\": pswd\n",
        "}\n",
        "\n",
        "body = {\n",
        "    \"instruction\":\"get_data\",\n",
        "    \"data\":{},\n",
        "    \"admin_name\":\"alyona\"\n",
        "}\n",
        "\n",
        "response = requests.post(url, headers=headers, data=json.dumps(body))\n",
        "print(response.text)"
      ],
      "metadata": {
        "id": "YMpWG4G0LQbF",
        "colab": {
          "base_uri": "https://localhost:8080/"
        },
        "outputId": "473a978d-edf0-4960-bcef-8bf3b40411bf"
      },
      "execution_count": 13,
      "outputs": [
        {
          "output_type": "stream",
          "name": "stdout",
          "text": [
            "API key: ··········\n",
            "[[1, 44.0], [2, 5.0], [3, 42.0], [4, 32.0], [5, 25.0], [6, 5.0], [7, 26.0], [8, 39.0], [9, 45.0], [10, 29.0]]\n"
          ]
        }
      ]
    },
    {
      "cell_type": "code",
      "source": [
        "import requests\n",
        "import json\n",
        "import getpass\n",
        "\n",
        "url = \"https://32614btzed.execute-api.eu-west-2.amazonaws.com/testing/savings-app\"\n",
        "\n",
        "pswd = getpass.getpass('API key: ')\n",
        "\n",
        "headers = {\n",
        "    \"Content-Type\":\"application/json\",\n",
        "    \"x-api-key\": pswd\n",
        "}\n",
        "\n",
        "body = {\n",
        "    \"instruction\":\"add_funds\",\n",
        "    \"data\":{\n",
        "        \"user_id\":2,\n",
        "        \"amount\":15\n",
        "    },\n",
        "    \"admin_name\":\"alyona\"\n",
        "}\n",
        "\n",
        "response = requests.post(url, headers=headers, data=json.dumps(body))\n",
        "print(response.text)"
      ],
      "metadata": {
        "id": "VK8Xr3i5LQvi",
        "colab": {
          "base_uri": "https://localhost:8080/"
        },
        "outputId": "0b6465c5-5dda-483f-98f4-f5b61fd6dddf"
      },
      "execution_count": 14,
      "outputs": [
        {
          "output_type": "stream",
          "name": "stdout",
          "text": [
            "API key: ··········\n",
            "\"Record for user: 2 updated - 15 added\"\n"
          ]
        }
      ]
    },
    {
      "cell_type": "markdown",
      "source": [
        "### And finally - add your own request to remove funds of 5 from user_id 2"
      ],
      "metadata": {
        "id": "CRtP8WiVLRSQ"
      }
    },
    {
      "cell_type": "code",
      "source": [
        "import requests\n",
        "import json\n",
        "import getpass\n",
        "\n",
        "url = \"https://32614btzed.execute-api.eu-west-2.amazonaws.com/testing/savings-app\"\n",
        "\n",
        "pswd = getpass.getpass('API key: ')\n",
        "\n",
        "headers = {\n",
        "    \"Content-Type\":\"application/json\",\n",
        "    \"x-api-key\": pswd\n",
        "}\n",
        "\n",
        "body = {\n",
        "    \"instruction\":\"remove_funds\",\n",
        "    \"data\":{\n",
        "        \"user_id\":2,\n",
        "        \"amount\":5\n",
        "    },\n",
        "    \"admin_name\":\"alyona\"\n",
        "}\n",
        "\n",
        "response = requests.post(url, headers=headers, data=json.dumps(body))\n",
        "print(response.text)"
      ],
      "metadata": {
        "id": "vmYpPs0FL1mp",
        "colab": {
          "base_uri": "https://localhost:8080/"
        },
        "outputId": "f823027d-e319-4f68-9f26-3bc72d0bc2e9"
      },
      "execution_count": 16,
      "outputs": [
        {
          "output_type": "stream",
          "name": "stdout",
          "text": [
            "API key: ··········\n",
            "\"Record for user: 2 updated - 5 removed\"\n"
          ]
        }
      ]
    },
    {
      "cell_type": "markdown",
      "source": [
        "### Upload the worksheet to Github but only if the API key is not anywhere in the worksheet."
      ],
      "metadata": {
        "id": "D0xtviPgL2F8"
      }
    }
  ]
}