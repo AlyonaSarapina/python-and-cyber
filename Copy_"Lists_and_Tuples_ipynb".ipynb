{
  "nbformat": 4,
  "nbformat_minor": 0,
  "metadata": {
    "colab": {
      "provenance": [],
      "include_colab_link": true
    },
    "kernelspec": {
      "name": "python3",
      "display_name": "Python 3"
    },
    "language_info": {
      "name": "python"
    }
  },
  "cells": [
    {
      "cell_type": "markdown",
      "metadata": {
        "id": "view-in-github",
        "colab_type": "text"
      },
      "source": [
        "<a href=\"https://colab.research.google.com/github/AlyonaSarapina/python-and-cyber/blob/main/Copy_%22Lists_and_Tuples_ipynb%22.ipynb\" target=\"_parent\"><img src=\"https://colab.research.google.com/assets/colab-badge.svg\" alt=\"Open In Colab\"/></a>"
      ]
    },
    {
      "cell_type": "markdown",
      "metadata": {
        "id": "Z-M-RCWATK71"
      },
      "source": [
        "# Lists and tuples\n",
        "\n",
        "Often we need to store a number of single items of data together so that they can be processed together. This might be because all the data refers to one person (e.g. name, age, gender, etc) OR it might be because we have a set of data (e.g. all the items that should be displayed in a drop down list, such as all the years from this year back to 100 years ago so that someone can select their year of birth)\n",
        "\n",
        "Python has a range of data structures available including:\n",
        "*   lists  \n",
        "*   tuples  \n",
        "*   dictionaries  \n",
        "*   sets\n",
        "\n",
        "This worksheet looks at lists and tuples.\n",
        "\n",
        "## List\n",
        "A list is a set of related, individual data objects, that are indexed and can be processed as a whole, as subsets or as individual items.  Lists are stored, essentially, as contiguous items in memory so that access can be as quick as possible.  However, they are mutable (they can be changed after they are created and stored) and so those mechanisms need to include extra functionality to deal with changing list sizes.\n",
        "\n",
        "## Tuple\n",
        "Essentially the same as a list but it is immutable.  Once it has been created it can't be changed.  It is stored in memory as contiguous items, with the size required being fixed right from the start.  This makes it faster to access.\n",
        "\n",
        "The code below will create two lists and a tuple.\n",
        "*   the first list contains 1000 random numbers between 1 and 100\n",
        "*   the second list is of random length (up to 5000) and each item is one of the 9 characteristics that are protected under the Equality Act in the UK.\n",
        "*   the tuple contains the 9 protected characteristics\n",
        "\n",
        "Before you start the exercises, run the code below.  It will generate the lists and tuple so that you can use them in the exercises.  If you need to recreate the lists again (because you have changed them and need to work on the originals, just run this cell again).\n",
        "\n",
        "***Note:***  *a list variable contains a reference to the start of the list in memory, rather than storing the list itself.  This means that if you assign the list to another variable (to make a copy), it will only copy across the reference.  If you change the copy, you change the original list.*\n",
        "\n",
        "*If you need to make a copy of the list you will need to use a loop to create a new list and copy all items across.*"
      ]
    },
    {
      "cell_type": "code",
      "metadata": {
        "id": "BDRckXeQXFMT",
        "colab": {
          "base_uri": "https://localhost:8080/"
        },
        "outputId": "3cd3d524-acbf-4bf6-ddc5-6be3f873865e"
      },
      "source": [
        "from random import randint, choice\n",
        "\n",
        "def get_num_list():\n",
        "  num_list = [randint(1,100) for n in range(1000)]\n",
        "  return num_list\n",
        "\n",
        "def get_protected_characteristics():\n",
        "  characteristics_tuple = ('age','disability','gender reassignment','marriage and civil partnership','pregnancy and maternity','race','religion or belief','sex','sexual orientation')\n",
        "  return characteristics_tuple\n",
        "\n",
        "def get_protected_characteristic_list(protected_characteristics):\n",
        "  char_list = [choice(protected_characteristics) for ch in range(randint(1,5000))]\n",
        "  return char_list\n",
        "\n",
        "nums = get_num_list()\n",
        "protected_characteristics = get_protected_characteristics()\n",
        "characteristics = get_protected_characteristic_list(protected_characteristics)\n",
        "\n",
        "print(nums)\n",
        "print(protected_characteristics)\n",
        "print(characteristics)"
      ],
      "execution_count": null,
      "outputs": [
        {
          "output_type": "stream",
          "name": "stdout",
          "text": [
            "[29, 31, 85, 78, 100, 77, 64, 43, 94, 31, 68, 15, 87, 5, 86, 64, 73, 13, 83, 29, 18, 46, 43, 57, 30, 86, 65, 62, 92, 26, 21, 28, 52, 20, 88, 28, 64, 39, 82, 15, 72, 87, 29, 23, 78, 18, 11, 60, 99, 41, 25, 66, 95, 26, 63, 82, 57, 55, 9, 79, 65, 4, 30, 39, 70, 19, 14, 19, 32, 15, 5, 4, 98, 82, 1, 12, 25, 23, 96, 28, 31, 34, 81, 40, 91, 74, 30, 27, 72, 36, 40, 26, 99, 95, 97, 53, 76, 15, 47, 33, 80, 33, 59, 40, 27, 98, 64, 45, 65, 76, 27, 46, 17, 40, 74, 16, 66, 28, 86, 74, 80, 87, 74, 37, 20, 4, 57, 99, 96, 72, 10, 28, 78, 93, 95, 63, 34, 19, 82, 57, 10, 3, 71, 39, 95, 11, 46, 13, 91, 56, 58, 9, 51, 40, 92, 43, 70, 12, 21, 6, 77, 48, 53, 30, 75, 27, 8, 76, 20, 84, 89, 8, 81, 80, 46, 85, 34, 90, 43, 69, 64, 74, 4, 60, 82, 96, 62, 98, 36, 39, 5, 51, 77, 1, 11, 89, 79, 85, 63, 7, 5, 55, 46, 23, 44, 20, 56, 95, 69, 58, 8, 51, 53, 51, 3, 29, 90, 37, 2, 55, 77, 41, 24, 93, 22, 60, 51, 8, 8, 41, 19, 57, 27, 74, 91, 90, 66, 71, 44, 87, 67, 43, 86, 84, 1, 54, 81, 35, 71, 24, 12, 94, 69, 94, 24, 1, 60, 98, 72, 92, 1, 53, 7, 55, 63, 49, 4, 11, 54, 8, 76, 10, 64, 4, 78, 10, 39, 87, 78, 55, 69, 56, 31, 70, 81, 87, 79, 99, 79, 34, 30, 94, 15, 3, 1, 21, 30, 48, 29, 23, 65, 99, 51, 15, 63, 82, 75, 79, 25, 99, 61, 76, 22, 86, 40, 97, 11, 97, 5, 75, 12, 12, 67, 50, 96, 47, 79, 71, 96, 72, 3, 13, 86, 16, 62, 2, 90, 9, 47, 35, 89, 6, 38, 43, 63, 60, 91, 19, 63, 30, 82, 14, 95, 38, 99, 27, 67, 47, 57, 43, 47, 79, 90, 6, 6, 100, 83, 39, 54, 56, 63, 43, 66, 48, 49, 5, 42, 92, 58, 8, 39, 47, 43, 92, 94, 100, 76, 17, 70, 46, 1, 95, 4, 13, 27, 94, 56, 19, 26, 32, 82, 2, 6, 13, 75, 1, 21, 3, 71, 69, 86, 8, 73, 83, 42, 57, 76, 98, 36, 32, 72, 42, 68, 51, 37, 39, 69, 80, 20, 50, 97, 38, 98, 76, 21, 66, 86, 16, 67, 91, 8, 5, 28, 16, 8, 30, 14, 90, 86, 95, 22, 28, 3, 66, 97, 4, 34, 56, 42, 15, 5, 58, 93, 91, 82, 42, 32, 70, 40, 58, 84, 1, 12, 64, 37, 74, 95, 68, 50, 19, 66, 40, 3, 8, 52, 86, 86, 64, 7, 68, 63, 67, 30, 34, 81, 82, 59, 38, 95, 42, 95, 99, 94, 53, 6, 91, 15, 76, 31, 43, 32, 7, 80, 74, 68, 59, 94, 78, 80, 48, 12, 64, 36, 59, 21, 35, 61, 36, 4, 25, 5, 67, 32, 53, 48, 52, 48, 71, 92, 37, 1, 5, 74, 43, 69, 75, 13, 50, 70, 82, 5, 51, 78, 96, 48, 97, 32, 11, 54, 36, 8, 43, 93, 71, 18, 84, 18, 66, 2, 25, 78, 13, 98, 54, 35, 97, 82, 96, 23, 50, 78, 62, 74, 2, 74, 83, 11, 59, 76, 12, 29, 80, 93, 59, 70, 45, 57, 22, 2, 13, 10, 51, 3, 54, 64, 40, 51, 40, 83, 94, 35, 2, 17, 57, 76, 91, 62, 32, 76, 43, 83, 34, 34, 94, 72, 70, 68, 41, 51, 39, 85, 7, 26, 33, 15, 86, 35, 53, 16, 95, 47, 99, 93, 79, 23, 16, 84, 2, 44, 25, 88, 12, 74, 65, 19, 70, 100, 21, 15, 78, 1, 76, 34, 89, 51, 41, 78, 55, 52, 5, 50, 4, 3, 89, 63, 33, 4, 81, 44, 17, 2, 94, 37, 34, 53, 49, 23, 73, 52, 15, 42, 11, 11, 55, 25, 53, 82, 1, 19, 94, 13, 30, 17, 97, 30, 44, 84, 10, 67, 11, 64, 58, 19, 18, 82, 24, 53, 78, 19, 94, 75, 22, 49, 27, 46, 24, 78, 82, 1, 81, 21, 17, 76, 57, 42, 57, 29, 63, 75, 10, 78, 89, 10, 22, 24, 24, 4, 37, 32, 53, 33, 30, 42, 50, 45, 62, 65, 73, 47, 76, 9, 96, 4, 48, 77, 81, 65, 84, 92, 5, 94, 100, 8, 28, 66, 74, 89, 17, 48, 53, 4, 31, 96, 15, 62, 98, 61, 7, 36, 7, 59, 21, 32, 24, 76, 56, 58, 62, 61, 100, 94, 47, 83, 77, 28, 48, 2, 35, 74, 42, 9, 80, 92, 37, 58, 14, 63, 84, 23, 34, 33, 22, 78, 76, 66, 96, 69, 49, 45, 41, 40, 74, 44, 86, 91, 12, 27, 33, 42, 41, 97, 61, 34, 67, 17, 6, 12, 80, 86, 76, 85, 73, 33, 84, 21, 41, 16, 95, 48, 34, 31, 51, 66, 83, 6, 25, 94, 94, 1, 71, 21, 15, 71, 48, 67, 28, 43, 70, 44, 26, 60, 99, 76, 42, 61, 67, 16, 97, 14, 9, 86, 85, 14, 1, 16, 91, 14, 77, 9, 34, 91, 21, 15, 65, 90, 79, 73, 54, 24, 90, 51, 36, 21, 99, 15, 42, 62, 98, 11, 62, 11, 57, 27, 16, 68, 86, 6, 46, 13, 78, 76, 27, 7, 36, 75, 47, 74, 97, 16, 45, 24, 97, 10, 96, 86, 94, 21, 94, 11, 77, 60, 62, 99, 15, 10, 91, 74, 81, 76, 95, 49, 11, 69, 38, 50, 51, 18, 26, 39, 61, 46, 14, 65, 25, 45, 17, 3, 50, 51, 54, 16, 19, 76, 70, 86, 52, 68, 54, 26, 87, 2, 87, 70, 64, 60, 49, 17, 9, 40, 94]\n",
            "('age', 'disability', 'gender reassignment', 'marriage and civil partnership', 'pregnancy and maternity', 'race', 'religion or belief', 'sex', 'sexual orientation')\n",
            "['sexual orientation', 'religion or belief', 'pregnancy and maternity', 'disability', 'sex', 'race', 'age', 'race', 'pregnancy and maternity', 'marriage and civil partnership', 'sexual orientation', 'religion or belief', 'sex', 'disability', 'gender reassignment', 'marriage and civil partnership', 'pregnancy and maternity', 'race', 'age', 'race', 'gender reassignment', 'sex', 'disability', 'age', 'disability', 'sex', 'age', 'religion or belief', 'sexual orientation', 'sex', 'race', 'pregnancy and maternity', 'pregnancy and maternity', 'marriage and civil partnership', 'sex', 'sexual orientation', 'disability', 'marriage and civil partnership', 'sexual orientation', 'marriage and civil partnership', 'gender reassignment', 'gender reassignment', 'sexual orientation', 'sex', 'marriage and civil partnership', 'gender reassignment', 'age', 'religion or belief', 'gender reassignment', 'race', 'marriage and civil partnership', 'pregnancy and maternity', 'sex', 'race', 'gender reassignment', 'disability', 'pregnancy and maternity', 'age', 'disability', 'age', 'race', 'race', 'disability', 'pregnancy and maternity', 'pregnancy and maternity', 'sex', 'disability', 'age', 'religion or belief', 'sexual orientation', 'marriage and civil partnership', 'sex', 'age', 'gender reassignment', 'marriage and civil partnership', 'sexual orientation', 'disability', 'marriage and civil partnership', 'sex', 'sexual orientation', 'sexual orientation', 'age', 'race', 'age', 'marriage and civil partnership', 'sex', 'race', 'gender reassignment', 'sexual orientation', 'sex', 'sexual orientation', 'sex', 'religion or belief', 'age', 'religion or belief', 'age', 'gender reassignment', 'race', 'age', 'religion or belief', 'marriage and civil partnership', 'religion or belief', 'gender reassignment', 'marriage and civil partnership', 'race', 'race', 'sexual orientation', 'race', 'pregnancy and maternity', 'sex', 'religion or belief', 'sexual orientation', 'religion or belief', 'sexual orientation', 'marriage and civil partnership', 'sexual orientation', 'disability', 'age', 'pregnancy and maternity', 'age', 'pregnancy and maternity', 'gender reassignment', 'race', 'pregnancy and maternity', 'marriage and civil partnership', 'marriage and civil partnership', 'religion or belief', 'disability', 'sex', 'race', 'disability', 'sexual orientation', 'religion or belief', 'race', 'sexual orientation', 'gender reassignment', 'race', 'sex', 'marriage and civil partnership', 'race', 'religion or belief', 'sex', 'gender reassignment', 'gender reassignment', 'pregnancy and maternity', 'sex', 'age', 'race', 'pregnancy and maternity', 'marriage and civil partnership', 'marriage and civil partnership', 'disability', 'sex', 'marriage and civil partnership', 'religion or belief', 'age', 'pregnancy and maternity', 'sex', 'religion or belief', 'sex', 'sex', 'marriage and civil partnership', 'marriage and civil partnership', 'disability', 'pregnancy and maternity', 'gender reassignment', 'pregnancy and maternity', 'religion or belief', 'marriage and civil partnership', 'religion or belief', 'sexual orientation', 'race', 'pregnancy and maternity', 'disability', 'sex', 'pregnancy and maternity', 'age', 'race', 'religion or belief', 'sex', 'disability', 'religion or belief', 'sex', 'marriage and civil partnership', 'sexual orientation', 'pregnancy and maternity', 'sexual orientation', 'sexual orientation', 'marriage and civil partnership', 'sexual orientation', 'race', 'age', 'gender reassignment', 'race', 'age', 'age', 'disability', 'disability', 'sexual orientation', 'sex', 'marriage and civil partnership', 'disability', 'race', 'pregnancy and maternity', 'marriage and civil partnership', 'disability', 'sexual orientation', 'age', 'disability', 'disability', 'religion or belief', 'religion or belief', 'gender reassignment', 'disability', 'gender reassignment', 'disability', 'disability', 'race', 'age', 'gender reassignment', 'religion or belief', 'marriage and civil partnership', 'race', 'disability', 'pregnancy and maternity', 'sex', 'gender reassignment', 'sex', 'race', 'marriage and civil partnership', 'disability', 'marriage and civil partnership', 'sex', 'age', 'gender reassignment', 'age', 'sex', 'gender reassignment', 'disability', 'race', 'sex', 'age', 'gender reassignment', 'race', 'gender reassignment', 'race', 'race', 'sex', 'gender reassignment', 'age', 'marriage and civil partnership', 'race', 'marriage and civil partnership', 'age', 'marriage and civil partnership', 'religion or belief', 'disability', 'age', 'pregnancy and maternity', 'pregnancy and maternity', 'race', 'pregnancy and maternity', 'age', 'race', 'pregnancy and maternity', 'sexual orientation', 'age', 'marriage and civil partnership', 'pregnancy and maternity', 'sexual orientation', 'race', 'pregnancy and maternity', 'sexual orientation', 'sex', 'race', 'gender reassignment', 'age', 'sex', 'race', 'gender reassignment', 'age', 'gender reassignment', 'religion or belief', 'religion or belief', 'pregnancy and maternity', 'pregnancy and maternity', 'sex', 'sex', 'sex', 'age', 'pregnancy and maternity', 'sex', 'disability', 'sexual orientation', 'sex', 'gender reassignment', 'religion or belief', 'disability', 'disability', 'sex', 'age', 'pregnancy and maternity', 'sexual orientation', 'age', 'age', 'marriage and civil partnership', 'religion or belief', 'pregnancy and maternity', 'gender reassignment', 'pregnancy and maternity', 'gender reassignment', 'pregnancy and maternity', 'sex', 'age', 'religion or belief', 'sex', 'sex', 'age', 'sex', 'sexual orientation', 'pregnancy and maternity', 'age', 'race', 'gender reassignment', 'disability', 'gender reassignment', 'gender reassignment', 'religion or belief', 'disability', 'religion or belief', 'religion or belief', 'sex', 'gender reassignment', 'pregnancy and maternity', 'age', 'race', 'sexual orientation', 'marriage and civil partnership', 'sex', 'marriage and civil partnership', 'religion or belief', 'sexual orientation', 'age', 'sex', 'disability', 'race', 'race', 'marriage and civil partnership', 'sex', 'age', 'sex', 'marriage and civil partnership', 'pregnancy and maternity', 'disability', 'race', 'disability', 'age', 'religion or belief', 'race', 'religion or belief', 'religion or belief', 'age', 'gender reassignment', 'disability', 'marriage and civil partnership', 'pregnancy and maternity', 'race', 'pregnancy and maternity', 'gender reassignment', 'marriage and civil partnership', 'marriage and civil partnership', 'sexual orientation', 'race', 'age', 'sexual orientation', 'pregnancy and maternity', 'pregnancy and maternity', 'race', 'disability', 'race', 'sex', 'sexual orientation', 'disability', 'race', 'disability', 'age', 'sex', 'gender reassignment', 'sex', 'sexual orientation', 'sexual orientation', 'marriage and civil partnership', 'sexual orientation', 'disability', 'disability', 'age', 'sex', 'pregnancy and maternity', 'gender reassignment', 'sexual orientation', 'marriage and civil partnership', 'age', 'race', 'sexual orientation', 'marriage and civil partnership', 'marriage and civil partnership', 'age', 'marriage and civil partnership', 'religion or belief', 'sexual orientation', 'race', 'disability', 'religion or belief', 'pregnancy and maternity', 'sex', 'disability', 'race', 'age', 'religion or belief', 'marriage and civil partnership', 'pregnancy and maternity', 'pregnancy and maternity', 'sex', 'age', 'disability', 'pregnancy and maternity', 'marriage and civil partnership', 'race', 'age', 'religion or belief', 'marriage and civil partnership', 'marriage and civil partnership', 'disability', 'race', 'pregnancy and maternity', 'pregnancy and maternity', 'disability', 'disability', 'religion or belief', 'disability', 'marriage and civil partnership', 'race', 'gender reassignment', 'age', 'disability', 'sex', 'age', 'disability', 'age', 'sexual orientation', 'gender reassignment', 'age', 'gender reassignment', 'race', 'gender reassignment', 'sexual orientation', 'sex', 'religion or belief', 'disability', 'disability', 'sex', 'gender reassignment', 'disability', 'race', 'sex', 'sexual orientation', 'marriage and civil partnership', 'sex', 'race', 'race', 'disability', 'sexual orientation', 'race', 'disability', 'marriage and civil partnership', 'sex', 'age', 'pregnancy and maternity', 'pregnancy and maternity', 'religion or belief', 'pregnancy and maternity', 'sex', 'race', 'religion or belief', 'disability', 'sexual orientation', 'sex', 'age', 'gender reassignment', 'race', 'pregnancy and maternity', 'race', 'gender reassignment', 'race', 'disability', 'marriage and civil partnership', 'sex', 'sex', 'gender reassignment', 'gender reassignment', 'marriage and civil partnership', 'marriage and civil partnership', 'age', 'religion or belief', 'race', 'age', 'sexual orientation', 'gender reassignment', 'religion or belief', 'religion or belief', 'pregnancy and maternity', 'race', 'age', 'sex', 'pregnancy and maternity', 'disability', 'pregnancy and maternity', 'race', 'gender reassignment', 'race', 'gender reassignment', 'marriage and civil partnership', 'sexual orientation', 'sex', 'pregnancy and maternity', 'religion or belief', 'religion or belief', 'sexual orientation', 'sexual orientation', 'marriage and civil partnership', 'religion or belief', 'pregnancy and maternity', 'marriage and civil partnership', 'pregnancy and maternity', 'disability', 'disability', 'disability', 'age', 'race', 'religion or belief', 'pregnancy and maternity', 'marriage and civil partnership', 'race', 'gender reassignment', 'race', 'age', 'marriage and civil partnership', 'disability', 'religion or belief', 'disability', 'pregnancy and maternity', 'race', 'pregnancy and maternity', 'religion or belief', 'marriage and civil partnership', 'sex', 'gender reassignment', 'marriage and civil partnership', 'sex', 'disability', 'age', 'pregnancy and maternity', 'religion or belief', 'age', 'marriage and civil partnership', 'religion or belief', 'marriage and civil partnership', 'pregnancy and maternity', 'sex', 'race', 'disability', 'pregnancy and maternity', 'religion or belief', 'gender reassignment', 'disability', 'sexual orientation', 'race', 'pregnancy and maternity', 'pregnancy and maternity', 'sex', 'sex', 'race', 'age', 'pregnancy and maternity', 'marriage and civil partnership', 'age', 'religion or belief', 'marriage and civil partnership', 'disability', 'race', 'age', 'sexual orientation', 'pregnancy and maternity', 'age', 'gender reassignment', 'sex', 'disability', 'sex', 'race', 'religion or belief', 'disability', 'race', 'religion or belief', 'sexual orientation', 'sexual orientation', 'gender reassignment', 'disability', 'race', 'gender reassignment', 'age', 'gender reassignment', 'pregnancy and maternity', 'marriage and civil partnership', 'marriage and civil partnership', 'age', 'race', 'gender reassignment', 'gender reassignment', 'sex', 'pregnancy and maternity', 'marriage and civil partnership', 'gender reassignment', 'marriage and civil partnership', 'sexual orientation', 'race', 'sex', 'disability', 'religion or belief', 'marriage and civil partnership', 'gender reassignment', 'sex', 'gender reassignment', 'marriage and civil partnership', 'marriage and civil partnership', 'sexual orientation', 'race', 'disability', 'gender reassignment', 'race', 'sex', 'marriage and civil partnership', 'age', 'disability', 'gender reassignment', 'sexual orientation', 'sex', 'sex', 'disability', 'age', 'sexual orientation', 'gender reassignment', 'race', 'race', 'sexual orientation', 'marriage and civil partnership', 'sexual orientation', 'disability', 'religion or belief', 'religion or belief', 'pregnancy and maternity', 'marriage and civil partnership', 'sex', 'sexual orientation', 'disability', 'race', 'marriage and civil partnership', 'marriage and civil partnership', 'marriage and civil partnership', 'sexual orientation', 'gender reassignment', 'race', 'disability', 'age', 'disability', 'disability', 'disability', 'sex', 'sex', 'sexual orientation', 'gender reassignment', 'age', 'race', 'disability', 'sexual orientation', 'age', 'race', 'pregnancy and maternity', 'sexual orientation', 'sex', 'religion or belief', 'race', 'marriage and civil partnership', 'pregnancy and maternity', 'race', 'gender reassignment', 'sexual orientation', 'sexual orientation', 'religion or belief', 'gender reassignment', 'pregnancy and maternity', 'race', 'sex', 'pregnancy and maternity', 'marriage and civil partnership', 'sex', 'pregnancy and maternity', 'gender reassignment', 'race', 'disability', 'sexual orientation', 'race', 'sex', 'sex', 'race', 'marriage and civil partnership', 'sexual orientation', 'pregnancy and maternity', 'gender reassignment', 'sex', 'sex', 'marriage and civil partnership', 'age', 'marriage and civil partnership', 'marriage and civil partnership', 'gender reassignment', 'marriage and civil partnership', 'sex', 'race', 'sexual orientation', 'marriage and civil partnership', 'religion or belief', 'age', 'disability', 'disability', 'religion or belief', 'race', 'race', 'gender reassignment', 'religion or belief', 'age', 'sex', 'race', 'gender reassignment', 'marriage and civil partnership', 'sexual orientation', 'race', 'gender reassignment', 'sex', 'pregnancy and maternity', 'marriage and civil partnership', 'pregnancy and maternity', 'gender reassignment', 'gender reassignment', 'marriage and civil partnership', 'religion or belief', 'race', 'marriage and civil partnership', 'gender reassignment', 'pregnancy and maternity', 'age', 'sex', 'sexual orientation', 'age', 'marriage and civil partnership', 'disability', 'sex', 'marriage and civil partnership', 'race', 'sex', 'disability', 'sex', 'sex', 'religion or belief', 'sexual orientation', 'sex', 'race', 'disability', 'pregnancy and maternity', 'religion or belief', 'age', 'sex', 'gender reassignment', 'gender reassignment', 'gender reassignment', 'disability', 'disability', 'race', 'disability', 'sexual orientation', 'age', 'age', 'sex', 'sexual orientation', 'disability', 'race', 'disability', 'age', 'disability', 'gender reassignment', 'religion or belief', 'religion or belief', 'sexual orientation', 'disability', 'age', 'age', 'marriage and civil partnership', 'race', 'sex', 'race', 'race', 'disability', 'sex', 'sex', 'sex', 'disability', 'marriage and civil partnership', 'gender reassignment', 'age', 'sex', 'disability', 'marriage and civil partnership', 'religion or belief', 'sex', 'sexual orientation', 'gender reassignment', 'disability', 'marriage and civil partnership', 'religion or belief', 'religion or belief', 'sexual orientation', 'pregnancy and maternity', 'sex', 'age', 'sex', 'sex', 'gender reassignment', 'pregnancy and maternity', 'sexual orientation', 'marriage and civil partnership', 'age', 'disability', 'race', 'sexual orientation', 'sexual orientation', 'religion or belief', 'sex', 'gender reassignment', 'disability', 'sexual orientation', 'sexual orientation', 'sex', 'disability', 'sexual orientation', 'pregnancy and maternity', 'religion or belief', 'race', 'sexual orientation', 'sexual orientation', 'sexual orientation', 'gender reassignment', 'gender reassignment', 'marriage and civil partnership', 'pregnancy and maternity', 'race', 'gender reassignment', 'age', 'race', 'sex', 'race', 'religion or belief', 'sex', 'sex', 'marriage and civil partnership', 'race', 'sexual orientation', 'age', 'age', 'religion or belief', 'marriage and civil partnership', 'gender reassignment', 'marriage and civil partnership', 'religion or belief', 'marriage and civil partnership', 'disability', 'pregnancy and maternity', 'sex', 'sexual orientation', 'religion or belief', 'pregnancy and maternity', 'sex', 'pregnancy and maternity', 'marriage and civil partnership', 'religion or belief', 'pregnancy and maternity', 'race', 'pregnancy and maternity', 'sexual orientation', 'pregnancy and maternity', 'age', 'sex', 'religion or belief', 'sex', 'pregnancy and maternity', 'gender reassignment', 'religion or belief', 'age', 'race', 'pregnancy and maternity', 'marriage and civil partnership', 'race', 'sex', 'gender reassignment', 'disability', 'religion or belief', 'age', 'sexual orientation', 'religion or belief', 'age', 'disability', 'gender reassignment', 'race', 'pregnancy and maternity', 'disability', 'gender reassignment', 'race', 'disability', 'race', 'marriage and civil partnership', 'race', 'religion or belief', 'pregnancy and maternity', 'religion or belief', 'marriage and civil partnership', 'disability', 'gender reassignment', 'pregnancy and maternity', 'race', 'race', 'age', 'disability', 'sex', 'gender reassignment', 'marriage and civil partnership', 'sexual orientation', 'disability', 'age', 'sex', 'marriage and civil partnership', 'sex', 'sexual orientation', 'age', 'sexual orientation', 'sexual orientation', 'gender reassignment', 'religion or belief', 'pregnancy and maternity', 'sexual orientation', 'religion or belief', 'gender reassignment', 'sexual orientation', 'disability', 'sexual orientation', 'marriage and civil partnership', 'gender reassignment', 'sex', 'pregnancy and maternity', 'religion or belief', 'marriage and civil partnership', 'disability', 'sex', 'gender reassignment', 'disability', 'sex', 'marriage and civil partnership', 'pregnancy and maternity', 'race', 'marriage and civil partnership', 'sexual orientation', 'religion or belief', 'disability', 'age', 'religion or belief', 'pregnancy and maternity', 'sex', 'sex', 'gender reassignment', 'sex', 'disability', 'sexual orientation', 'pregnancy and maternity', 'religion or belief', 'disability', 'gender reassignment', 'disability', 'sex', 'sexual orientation', 'pregnancy and maternity', 'sexual orientation', 'religion or belief', 'race', 'religion or belief', 'marriage and civil partnership', 'age', 'religion or belief', 'sex', 'sex', 'disability', 'disability', 'age', 'marriage and civil partnership', 'age', 'sex', 'sexual orientation', 'race', 'age', 'pregnancy and maternity', 'pregnancy and maternity', 'sex', 'gender reassignment', 'race', 'race', 'age', 'age', 'sex', 'marriage and civil partnership', 'disability', 'gender reassignment', 'disability', 'race', 'gender reassignment', 'sexual orientation', 'gender reassignment', 'gender reassignment', 'sexual orientation', 'religion or belief', 'pregnancy and maternity', 'sexual orientation', 'sexual orientation', 'sexual orientation', 'marriage and civil partnership', 'gender reassignment', 'age', 'disability', 'marriage and civil partnership', 'religion or belief', 'sex', 'age', 'pregnancy and maternity', 'marriage and civil partnership', 'gender reassignment', 'sex', 'marriage and civil partnership', 'gender reassignment', 'race', 'pregnancy and maternity', 'gender reassignment', 'disability', 'marriage and civil partnership', 'sexual orientation', 'sex', 'age', 'race', 'pregnancy and maternity', 'marriage and civil partnership', 'sex', 'marriage and civil partnership', 'pregnancy and maternity', 'disability', 'pregnancy and maternity', 'pregnancy and maternity', 'pregnancy and maternity', 'disability', 'gender reassignment', 'disability', 'sex', 'religion or belief', 'gender reassignment', 'marriage and civil partnership', 'marriage and civil partnership', 'religion or belief', 'gender reassignment', 'disability', 'marriage and civil partnership', 'marriage and civil partnership', 'sexual orientation', 'religion or belief', 'race', 'age', 'religion or belief', 'sex', 'sex', 'disability', 'disability', 'sex', 'sexual orientation', 'marriage and civil partnership', 'race', 'sex', 'religion or belief', 'gender reassignment', 'race', 'pregnancy and maternity', 'marriage and civil partnership', 'gender reassignment', 'gender reassignment', 'disability', 'disability', 'sexual orientation', 'sexual orientation', 'sexual orientation', 'sexual orientation', 'gender reassignment', 'marriage and civil partnership', 'pregnancy and maternity', 'age', 'disability', 'marriage and civil partnership', 'sex', 'age', 'sex', 'sex', 'marriage and civil partnership', 'race', 'race', 'gender reassignment', 'religion or belief', 'marriage and civil partnership', 'sexual orientation', 'sexual orientation', 'marriage and civil partnership', 'religion or belief', 'age', 'sex', 'age', 'sex', 'religion or belief', 'sexual orientation', 'marriage and civil partnership', 'pregnancy and maternity', 'age', 'age', 'sexual orientation', 'religion or belief', 'race', 'race', 'sex', 'disability', 'pregnancy and maternity', 'race', 'sex', 'sexual orientation', 'disability', 'religion or belief', 'marriage and civil partnership', 'age', 'age', 'pregnancy and maternity', 'pregnancy and maternity', 'sex', 'religion or belief', 'race', 'sexual orientation', 'sex', 'sex', 'race', 'age', 'gender reassignment', 'pregnancy and maternity', 'disability', 'sexual orientation', 'sexual orientation', 'disability', 'sexual orientation', 'pregnancy and maternity', 'age', 'gender reassignment', 'gender reassignment', 'disability', 'sexual orientation', 'disability', 'gender reassignment', 'disability', 'pregnancy and maternity', 'religion or belief', 'disability', 'religion or belief', 'gender reassignment', 'religion or belief', 'gender reassignment', 'pregnancy and maternity', 'sexual orientation', 'pregnancy and maternity', 'sex', 'age', 'religion or belief', 'sex', 'pregnancy and maternity', 'sex', 'pregnancy and maternity', 'pregnancy and maternity', 'sex', 'marriage and civil partnership', 'marriage and civil partnership', 'pregnancy and maternity', 'sex', 'gender reassignment', 'disability', 'marriage and civil partnership', 'race', 'religion or belief', 'gender reassignment', 'pregnancy and maternity', 'age', 'religion or belief', 'marriage and civil partnership', 'sex', 'age', 'age', 'sexual orientation', 'pregnancy and maternity', 'sex', 'religion or belief', 'gender reassignment', 'sex', 'sexual orientation', 'disability', 'sexual orientation', 'marriage and civil partnership', 'gender reassignment', 'pregnancy and maternity', 'sex', 'pregnancy and maternity', 'religion or belief', 'sex', 'sexual orientation', 'marriage and civil partnership', 'religion or belief', 'religion or belief', 'marriage and civil partnership', 'marriage and civil partnership', 'disability', 'sex', 'marriage and civil partnership', 'age', 'pregnancy and maternity', 'religion or belief', 'disability', 'sex', 'disability', 'gender reassignment', 'race', 'race', 'disability', 'gender reassignment', 'disability', 'sex', 'gender reassignment', 'race', 'sexual orientation', 'sexual orientation', 'age', 'pregnancy and maternity', 'pregnancy and maternity', 'race', 'sex', 'religion or belief', 'race', 'religion or belief', 'sexual orientation', 'disability', 'pregnancy and maternity', 'religion or belief', 'gender reassignment', 'sexual orientation', 'gender reassignment', 'disability', 'age', 'marriage and civil partnership', 'marriage and civil partnership', 'race', 'sex', 'age', 'disability', 'religion or belief', 'sexual orientation', 'disability', 'gender reassignment', 'age', 'sexual orientation', 'marriage and civil partnership', 'disability', 'age', 'gender reassignment', 'pregnancy and maternity', 'disability', 'pregnancy and maternity', 'marriage and civil partnership', 'marriage and civil partnership', 'sex', 'sex', 'sexual orientation', 'sex', 'marriage and civil partnership', 'sexual orientation', 'marriage and civil partnership', 'age', 'sexual orientation', 'race', 'pregnancy and maternity', 'age', 'age', 'marriage and civil partnership', 'sex', 'sex', 'sexual orientation', 'disability', 'race', 'sex', 'gender reassignment', 'disability', 'religion or belief', 'marriage and civil partnership', 'sexual orientation', 'marriage and civil partnership', 'disability', 'sexual orientation', 'gender reassignment', 'marriage and civil partnership', 'sexual orientation', 'sex', 'gender reassignment', 'marriage and civil partnership', 'race', 'disability', 'religion or belief', 'race', 'disability', 'marriage and civil partnership', 'sex', 'marriage and civil partnership', 'marriage and civil partnership', 'disability', 'race', 'sexual orientation', 'race', 'race', 'religion or belief', 'sex', 'religion or belief', 'religion or belief', 'marriage and civil partnership', 'disability', 'sex', 'sex', 'age', 'pregnancy and maternity', 'sexual orientation', 'sex', 'gender reassignment', 'marriage and civil partnership', 'pregnancy and maternity', 'religion or belief', 'race', 'race', 'age', 'age', 'sexual orientation', 'marriage and civil partnership', 'sexual orientation', 'disability', 'gender reassignment', 'pregnancy and maternity', 'sex', 'marriage and civil partnership', 'race', 'sexual orientation', 'marriage and civil partnership', 'sex', 'marriage and civil partnership', 'disability', 'sex', 'race', 'sexual orientation', 'race', 'pregnancy and maternity', 'sexual orientation', 'age', 'pregnancy and maternity', 'disability', 'disability', 'religion or belief', 'religion or belief', 'pregnancy and maternity', 'sex', 'marriage and civil partnership', 'disability', 'gender reassignment', 'race', 'gender reassignment', 'marriage and civil partnership', 'race', 'sexual orientation', 'religion or belief', 'marriage and civil partnership', 'marriage and civil partnership', 'sex', 'religion or belief', 'religion or belief', 'sexual orientation', 'marriage and civil partnership', 'race', 'sexual orientation', 'sex', 'religion or belief', 'gender reassignment', 'marriage and civil partnership', 'disability', 'pregnancy and maternity', 'pregnancy and maternity', 'race', 'pregnancy and maternity', 'disability', 'gender reassignment', 'pregnancy and maternity', 'religion or belief', 'religion or belief', 'sexual orientation', 'marriage and civil partnership', 'gender reassignment', 'marriage and civil partnership', 'pregnancy and maternity', 'religion or belief', 'sex', 'marriage and civil partnership', 'disability', 'age', 'sexual orientation', 'sex', 'religion or belief', 'age', 'marriage and civil partnership', 'age', 'marriage and civil partnership', 'age', 'pregnancy and maternity', 'disability', 'age', 'age', 'gender reassignment', 'gender reassignment', 'marriage and civil partnership', 'sex', 'disability', 'sex', 'race', 'race', 'gender reassignment', 'age', 'pregnancy and maternity', 'disability', 'disability', 'disability', 'religion or belief', 'sex', 'religion or belief', 'sexual orientation', 'race', 'disability', 'pregnancy and maternity', 'pregnancy and maternity', 'disability', 'marriage and civil partnership', 'age', 'marriage and civil partnership', 'age', 'pregnancy and maternity', 'sex', 'age', 'pregnancy and maternity', 'sex', 'race', 'sexual orientation', 'gender reassignment', 'disability', 'religion or belief', 'pregnancy and maternity', 'pregnancy and maternity', 'pregnancy and maternity', 'age', 'gender reassignment', 'gender reassignment', 'sexual orientation', 'pregnancy and maternity', 'disability', 'sexual orientation', 'race', 'sexual orientation', 'gender reassignment', 'marriage and civil partnership', 'disability', 'sex', 'sex', 'sex', 'marriage and civil partnership', 'age', 'age', 'disability', 'sex', 'religion or belief', 'gender reassignment', 'sexual orientation', 'pregnancy and maternity', 'disability', 'religion or belief', 'sexual orientation', 'pregnancy and maternity', 'sex', 'gender reassignment', 'pregnancy and maternity', 'disability', 'sexual orientation', 'age', 'gender reassignment', 'age', 'pregnancy and maternity', 'age', 'age', 'race', 'pregnancy and maternity', 'race', 'age', 'disability', 'disability', 'pregnancy and maternity', 'race', 'gender reassignment', 'sexual orientation', 'pregnancy and maternity', 'marriage and civil partnership', 'age', 'sex', 'sexual orientation', 'age', 'sexual orientation', 'race', 'race', 'marriage and civil partnership', 'marriage and civil partnership', 'marriage and civil partnership', 'race', 'sexual orientation', 'pregnancy and maternity', 'age', 'race', 'age', 'sex', 'marriage and civil partnership', 'marriage and civil partnership', 'sexual orientation', 'age', 'pregnancy and maternity', 'age', 'sexual orientation', 'disability', 'disability', 'age', 'disability', 'age', 'sex', 'marriage and civil partnership', 'gender reassignment', 'pregnancy and maternity', 'sex', 'age', 'gender reassignment', 'pregnancy and maternity', 'marriage and civil partnership', 'religion or belief', 'marriage and civil partnership', 'marriage and civil partnership', 'race', 'pregnancy and maternity', 'pregnancy and maternity', 'sex', 'disability', 'religion or belief', 'gender reassignment', 'race', 'sex', 'age', 'age', 'religion or belief', 'sexual orientation', 'sexual orientation', 'gender reassignment', 'disability', 'sexual orientation', 'race', 'pregnancy and maternity', 'pregnancy and maternity', 'disability', 'gender reassignment', 'gender reassignment', 'sex', 'sex', 'sex', 'religion or belief', 'gender reassignment', 'sexual orientation', 'marriage and civil partnership', 'religion or belief', 'age', 'marriage and civil partnership', 'sex', 'age', 'disability', 'age', 'pregnancy and maternity', 'age', 'pregnancy and maternity', 'disability', 'age', 'religion or belief', 'sexual orientation', 'age', 'sexual orientation', 'pregnancy and maternity', 'marriage and civil partnership', 'religion or belief', 'sex', 'pregnancy and maternity', 'race', 'sex', 'race', 'marriage and civil partnership', 'disability', 'gender reassignment', 'sexual orientation', 'race', 'age', 'age', 'gender reassignment', 'age', 'sexual orientation', 'age', 'sex', 'gender reassignment', 'sex', 'pregnancy and maternity', 'marriage and civil partnership', 'pregnancy and maternity', 'sexual orientation', 'religion or belief', 'gender reassignment', 'sex', 'race', 'gender reassignment', 'marriage and civil partnership', 'marriage and civil partnership', 'gender reassignment', 'age', 'race', 'marriage and civil partnership', 'gender reassignment', 'sexual orientation', 'disability', 'marriage and civil partnership', 'race', 'sex', 'gender reassignment', 'religion or belief', 'pregnancy and maternity', 'disability', 'sex', 'disability', 'religion or belief', 'race', 'pregnancy and maternity', 'race', 'age', 'disability', 'religion or belief', 'marriage and civil partnership', 'sexual orientation', 'disability', 'disability', 'disability', 'sex', 'disability', 'disability', 'pregnancy and maternity', 'disability', 'race', 'age', 'sexual orientation', 'race', 'marriage and civil partnership', 'religion or belief', 'age', 'gender reassignment', 'race', 'race', 'marriage and civil partnership', 'age', 'race', 'marriage and civil partnership', 'marriage and civil partnership', 'sexual orientation', 'pregnancy and maternity', 'sex', 'pregnancy and maternity', 'disability', 'pregnancy and maternity', 'pregnancy and maternity', 'gender reassignment', 'race', 'disability', 'pregnancy and maternity', 'pregnancy and maternity', 'pregnancy and maternity', 'race', 'sex', 'religion or belief', 'age', 'gender reassignment', 'marriage and civil partnership', 'race', 'age', 'gender reassignment', 'pregnancy and maternity', 'religion or belief', 'sex', 'age', 'sexual orientation', 'sexual orientation', 'sexual orientation', 'sex', 'pregnancy and maternity', 'age', 'age', 'disability', 'sexual orientation', 'marriage and civil partnership', 'race', 'marriage and civil partnership', 'age', 'marriage and civil partnership', 'race', 'religion or belief', 'religion or belief', 'pregnancy and maternity', 'pregnancy and maternity', 'disability', 'age', 'sex', 'age', 'gender reassignment', 'disability', 'disability', 'sexual orientation', 'gender reassignment', 'disability', 'marriage and civil partnership', 'gender reassignment', 'disability', 'gender reassignment', 'gender reassignment', 'gender reassignment', 'race', 'sex', 'religion or belief', 'race', 'pregnancy and maternity', 'disability', 'age', 'sexual orientation', 'sex', 'age', 'sex', 'marriage and civil partnership', 'marriage and civil partnership', 'race', 'sexual orientation', 'pregnancy and maternity', 'marriage and civil partnership', 'gender reassignment', 'disability', 'sexual orientation', 'marriage and civil partnership', 'sex', 'disability', 'sex', 'marriage and civil partnership', 'race', 'religion or belief', 'sexual orientation', 'race', 'religion or belief', 'disability', 'pregnancy and maternity', 'disability', 'gender reassignment', 'disability', 'sexual orientation', 'pregnancy and maternity', 'disability', 'sexual orientation', 'sex', 'gender reassignment', 'disability', 'pregnancy and maternity', 'sexual orientation', 'pregnancy and maternity', 'gender reassignment', 'sexual orientation', 'race', 'gender reassignment', 'religion or belief', 'disability', 'disability', 'pregnancy and maternity', 'sexual orientation', 'age', 'age', 'sexual orientation', 'sexual orientation', 'marriage and civil partnership', 'sexual orientation', 'religion or belief', 'age', 'marriage and civil partnership', 'religion or belief', 'age', 'race', 'gender reassignment', 'pregnancy and maternity', 'race', 'sexual orientation', 'sex', 'sex', 'age', 'religion or belief', 'race', 'sexual orientation', 'gender reassignment', 'marriage and civil partnership', 'gender reassignment', 'age', 'race', 'age', 'religion or belief', 'race', 'sexual orientation', 'age', 'race', 'age', 'religion or belief', 'disability', 'marriage and civil partnership', 'disability', 'pregnancy and maternity', 'sex', 'race', 'pregnancy and maternity', 'pregnancy and maternity', 'pregnancy and maternity', 'age', 'religion or belief', 'disability', 'pregnancy and maternity', 'race', 'sex', 'age', 'sex', 'sex', 'marriage and civil partnership', 'sexual orientation', 'gender reassignment', 'pregnancy and maternity', 'gender reassignment', 'pregnancy and maternity', 'race', 'disability', 'marriage and civil partnership', 'race', 'sexual orientation', 'religion or belief', 'pregnancy and maternity', 'religion or belief', 'gender reassignment', 'sexual orientation', 'sexual orientation', 'pregnancy and maternity', 'sexual orientation', 'sex', 'disability', 'age', 'disability', 'sex', 'disability', 'marriage and civil partnership', 'disability', 'race', 'gender reassignment', 'sexual orientation', 'pregnancy and maternity', 'age', 'pregnancy and maternity', 'sex', 'religion or belief', 'gender reassignment', 'gender reassignment', 'marriage and civil partnership', 'race', 'race', 'age', 'disability', 'marriage and civil partnership', 'religion or belief', 'sex', 'race', 'pregnancy and maternity', 'marriage and civil partnership', 'sex', 'disability', 'sex', 'race', 'sex', 'disability', 'disability', 'sexual orientation', 'pregnancy and maternity', 'pregnancy and maternity', 'religion or belief', 'religion or belief', 'age', 'gender reassignment', 'sexual orientation', 'religion or belief', 'sex', 'disability', 'race', 'marriage and civil partnership', 'race', 'pregnancy and maternity', 'sexual orientation', 'age', 'sexual orientation', 'gender reassignment', 'disability', 'sexual orientation', 'race', 'race', 'sex', 'sex', 'disability', 'marriage and civil partnership', 'religion or belief', 'religion or belief', 'sex', 'pregnancy and maternity', 'gender reassignment', 'religion or belief', 'age', 'pregnancy and maternity', 'sexual orientation', 'pregnancy and maternity', 'sex', 'race', 'race', 'marriage and civil partnership', 'disability', 'religion or belief', 'marriage and civil partnership', 'gender reassignment', 'gender reassignment', 'marriage and civil partnership', 'religion or belief', 'sex', 'pregnancy and maternity', 'marriage and civil partnership', 'race', 'pregnancy and maternity', 'marriage and civil partnership', 'pregnancy and maternity', 'disability', 'marriage and civil partnership', 'disability', 'marriage and civil partnership', 'age', 'sex', 'sex', 'race', 'religion or belief', 'disability', 'gender reassignment', 'gender reassignment', 'religion or belief', 'pregnancy and maternity', 'sex', 'pregnancy and maternity', 'gender reassignment', 'disability', 'sex', 'race', 'sexual orientation', 'gender reassignment', 'gender reassignment', 'sex', 'religion or belief', 'gender reassignment', 'sexual orientation', 'marriage and civil partnership', 'pregnancy and maternity', 'age', 'disability', 'marriage and civil partnership', 'marriage and civil partnership', 'marriage and civil partnership', 'sexual orientation', 'disability', 'sexual orientation', 'age', 'disability', 'sex', 'sexual orientation', 'sex', 'gender reassignment', 'sexual orientation', 'race', 'disability', 'disability', 'sexual orientation', 'pregnancy and maternity', 'gender reassignment', 'marriage and civil partnership', 'sexual orientation', 'race', 'pregnancy and maternity', 'race', 'race', 'sex', 'marriage and civil partnership', 'gender reassignment', 'sex', 'disability', 'religion or belief', 'sex', 'sexual orientation', 'race', 'marriage and civil partnership', 'sex', 'religion or belief', 'sex', 'age', 'disability', 'race', 'disability', 'religion or belief', 'pregnancy and maternity', 'sexual orientation', 'pregnancy and maternity', 'race', 'sex', 'sex', 'pregnancy and maternity', 'pregnancy and maternity', 'sex', 'sex', 'sexual orientation', 'age', 'age', 'gender reassignment', 'religion or belief', 'age', 'marriage and civil partnership', 'race', 'marriage and civil partnership', 'disability', 'religion or belief', 'age', 'pregnancy and maternity', 'sex', 'marriage and civil partnership', 'gender reassignment', 'religion or belief', 'marriage and civil partnership', 'age', 'religion or belief', 'religion or belief', 'sex', 'pregnancy and maternity', 'gender reassignment', 'race', 'gender reassignment', 'sexual orientation', 'sexual orientation', 'gender reassignment', 'age', 'gender reassignment', 'race', 'race', 'disability', 'sexual orientation', 'marriage and civil partnership', 'religion or belief', 'pregnancy and maternity', 'sexual orientation', 'pregnancy and maternity', 'age', 'gender reassignment', 'disability', 'sex', 'pregnancy and maternity', 'age', 'sexual orientation', 'age', 'pregnancy and maternity', 'race', 'gender reassignment', 'pregnancy and maternity', 'sex', 'age', 'sexual orientation', 'sexual orientation', 'race', 'religion or belief', 'sex', 'race', 'religion or belief', 'gender reassignment', 'religion or belief', 'sex', 'marriage and civil partnership', 'age', 'religion or belief', 'pregnancy and maternity', 'disability', 'religion or belief', 'race', 'disability', 'race', 'sex', 'religion or belief', 'disability', 'sex', 'age', 'pregnancy and maternity', 'pregnancy and maternity', 'religion or belief', 'race', 'race', 'race', 'gender reassignment', 'pregnancy and maternity', 'race', 'pregnancy and maternity', 'sexual orientation', 'religion or belief', 'pregnancy and maternity', 'age', 'sex', 'sexual orientation', 'disability', 'race', 'sex', 'gender reassignment', 'sexual orientation', 'gender reassignment', 'religion or belief', 'age', 'marriage and civil partnership', 'age', 'sex', 'gender reassignment', 'religion or belief', 'gender reassignment', 'marriage and civil partnership', 'sex', 'pregnancy and maternity', 'sexual orientation', 'race', 'gender reassignment', 'marriage and civil partnership', 'sexual orientation', 'sex', 'religion or belief', 'sex', 'disability', 'disability', 'religion or belief', 'marriage and civil partnership', 'sex', 'race', 'gender reassignment', 'sexual orientation', 'disability', 'sex', 'religion or belief', 'gender reassignment', 'pregnancy and maternity', 'gender reassignment', 'sex', 'sex', 'sexual orientation', 'race', 'sex', 'disability', 'age', 'pregnancy and maternity', 'disability', 'gender reassignment', 'pregnancy and maternity', 'age', 'religion or belief', 'age', 'pregnancy and maternity', 'sexual orientation', 'age', 'sex', 'marriage and civil partnership', 'gender reassignment', 'sexual orientation', 'pregnancy and maternity', 'sex', 'age', 'marriage and civil partnership', 'pregnancy and maternity', 'age', 'race', 'sex', 'marriage and civil partnership', 'pregnancy and maternity', 'race', 'age', 'gender reassignment', 'religion or belief', 'religion or belief', 'gender reassignment', 'pregnancy and maternity', 'sex', 'sexual orientation', 'gender reassignment', 'race', 'gender reassignment', 'sex', 'race', 'disability', 'gender reassignment', 'age', 'sex', 'pregnancy and maternity', 'religion or belief', 'pregnancy and maternity', 'religion or belief', 'disability', 'sexual orientation', 'gender reassignment', 'pregnancy and maternity', 'gender reassignment', 'religion or belief', 'sex', 'disability', 'sexual orientation', 'disability', 'sexual orientation', 'sexual orientation', 'marriage and civil partnership', 'age', 'gender reassignment', 'age', 'disability', 'gender reassignment', 'gender reassignment', 'age', 'sex', 'pregnancy and maternity', 'age', 'pregnancy and maternity', 'marriage and civil partnership', 'race', 'sex', 'sexual orientation', 'religion or belief', 'pregnancy and maternity', 'gender reassignment', 'marriage and civil partnership', 'gender reassignment', 'sex', 'marriage and civil partnership', 'age', 'age', 'marriage and civil partnership', 'gender reassignment', 'sex', 'sex', 'race', 'marriage and civil partnership', 'sexual orientation', 'sexual orientation', 'disability', 'race', 'marriage and civil partnership', 'marriage and civil partnership', 'pregnancy and maternity', 'pregnancy and maternity', 'pregnancy and maternity', 'disability', 'sexual orientation', 'disability', 'race', 'gender reassignment', 'sexual orientation', 'religion or belief', 'religion or belief', 'gender reassignment', 'pregnancy and maternity', 'gender reassignment', 'gender reassignment', 'disability', 'sex', 'race', 'marriage and civil partnership', 'marriage and civil partnership', 'sexual orientation', 'gender reassignment', 'religion or belief', 'gender reassignment', 'disability', 'age', 'pregnancy and maternity', 'gender reassignment', 'pregnancy and maternity', 'sexual orientation', 'sexual orientation', 'religion or belief', 'pregnancy and maternity', 'gender reassignment', 'age', 'age', 'gender reassignment', 'religion or belief', 'age', 'marriage and civil partnership', 'sexual orientation', 'race', 'race', 'religion or belief', 'religion or belief', 'religion or belief', 'pregnancy and maternity', 'age', 'pregnancy and maternity', 'sex', 'pregnancy and maternity', 'disability', 'marriage and civil partnership', 'pregnancy and maternity', 'gender reassignment', 'gender reassignment', 'age', 'age', 'religion or belief', 'marriage and civil partnership', 'age', 'marriage and civil partnership', 'disability', 'religion or belief', 'age', 'disability', 'sex', 'pregnancy and maternity', 'race', 'marriage and civil partnership', 'race', 'race', 'age', 'race', 'sex', 'pregnancy and maternity', 'sex', 'pregnancy and maternity', 'gender reassignment', 'religion or belief', 'disability', 'marriage and civil partnership', 'sexual orientation', 'race', 'sexual orientation', 'race', 'gender reassignment', 'gender reassignment', 'marriage and civil partnership', 'marriage and civil partnership', 'sexual orientation', 'sex', 'age', 'race', 'religion or belief', 'pregnancy and maternity', 'age', 'sexual orientation', 'disability', 'gender reassignment', 'marriage and civil partnership', 'disability', 'religion or belief']\n"
          ]
        }
      ]
    },
    {
      "cell_type": "markdown",
      "metadata": {
        "id": "xXT38-4ZV45n"
      },
      "source": [
        "## The exercises below will use the lists:  \n",
        "*   **nums** (a list of between 1 and 1000 random numbers, each number is between 0 and 1000)\n",
        "*   **characteristics** (a list of 5000 random protected_characteristics)\n",
        "\n",
        "and the tuple:\n",
        "*  **protected_characteristics** (a set of the 9 protected characteristics identified in the Equality Act)\n",
        "\n",
        "## You can run the cell above any number of times to generate new lists."
      ]
    },
    {
      "cell_type": "markdown",
      "metadata": {
        "id": "Ft0dXl7fUuaK"
      },
      "source": [
        "---\n",
        "### Exercise 1 - list head, tail and shape\n",
        "\n",
        "Write a function, **describe_list()** which will:\n",
        "*  print the length of the list `nums`\n",
        "*  print the first 10 items in `nums`  \n",
        "*  print the last 5 items in `nums`"
      ]
    },
    {
      "cell_type": "code",
      "metadata": {
        "id": "jUcZD7mmTJdA",
        "colab": {
          "base_uri": "https://localhost:8080/"
        },
        "outputId": "1cb3fbb1-418f-49e9-fcf6-76d0295b9651"
      },
      "source": [
        "from random import randint\n",
        "\n",
        "def describe_list():\n",
        "  print(len(nums))\n",
        "  first_ten = [nums[i] for i in range(10)]\n",
        "  last_five = [nums[i] for i in range(len(nums) - 5, len(nums))]\n",
        "  print(first_ten)\n",
        "  print(last_five)\n",
        "\n",
        "describe_list()"
      ],
      "execution_count": null,
      "outputs": [
        {
          "output_type": "stream",
          "name": "stdout",
          "text": [
            "1000\n",
            "[29, 31, 85, 78, 100, 77, 64, 43, 94, 31]\n",
            "[49, 17, 9, 40, 94]\n"
          ]
        }
      ]
    },
    {
      "cell_type": "markdown",
      "metadata": {
        "id": "yNWg08k6bXv0"
      },
      "source": [
        "---\n",
        "### Exercise 2 - show tuple items\n",
        "\n",
        "Write a function which will:\n",
        "*   use a loop to print the list of protected characteristics from the `protected_characteristics` tuple.\n"
      ]
    },
    {
      "cell_type": "code",
      "metadata": {
        "id": "P2HnCG9pb1BS",
        "colab": {
          "base_uri": "https://localhost:8080/"
        },
        "outputId": "77fc71ca-0b6c-49de-a9ee-63da371d9d10"
      },
      "source": [
        "char_list = [ch for ch in protected_characteristics]\n",
        "print(char_list)"
      ],
      "execution_count": null,
      "outputs": [
        {
          "output_type": "stream",
          "name": "stdout",
          "text": [
            "['age', 'disability', 'gender reassignment', 'marriage and civil partnership', 'pregnancy and maternity', 'race', 'religion or belief', 'sex', 'sexual orientation']\n"
          ]
        }
      ]
    },
    {
      "cell_type": "markdown",
      "metadata": {
        "id": "RTSuQZs4b1JU"
      },
      "source": [
        "---\n",
        "### Exercise 3 - list a random subset\n",
        "\n",
        "Write a function which will:\n",
        "*  calculate the position of the middle item in the `characteristics` list   \n",
        "(*Hint: use len() to help with this*)\n",
        "*  calculate the position of the item that is 5 places before the middle item\n",
        "*  calculate the position of the item that is 5 places after the middle item\n",
        "*  print the part of the list that includes the items from 5 places before to 5 places after.  \n",
        "\n",
        "Expected output:  \n",
        "Your list will include 11 items."
      ]
    },
    {
      "cell_type": "code",
      "metadata": {
        "id": "OwhFnH2kdC11",
        "colab": {
          "base_uri": "https://localhost:8080/"
        },
        "outputId": "e14cfc17-7a7f-4442-c839-5a55f436f680"
      },
      "source": [
        "def get_new_list():\n",
        "  middle_item = (len(characteristics) // 2) + 1\n",
        "  before_middle = middle_item - 5\n",
        "  after_middle = middle_item + 5\n",
        "  list = []\n",
        "\n",
        "  for n in range (before_middle, after_middle + 1):\n",
        "    list.append(characteristics[n])\n",
        "\n",
        "  return list\n",
        "\n",
        "get_new_list()"
      ],
      "execution_count": null,
      "outputs": [
        {
          "output_type": "execute_result",
          "data": {
            "text/plain": [
              "['pregnancy and maternity',\n",
              " 'sex',\n",
              " 'marriage and civil partnership',\n",
              " 'marriage and civil partnership',\n",
              " 'pregnancy and maternity',\n",
              " 'sex',\n",
              " 'gender reassignment',\n",
              " 'disability',\n",
              " 'marriage and civil partnership',\n",
              " 'race',\n",
              " 'religion or belief']"
            ]
          },
          "metadata": {},
          "execution_count": 18
        }
      ]
    },
    {
      "cell_type": "markdown",
      "metadata": {
        "id": "KS0x3oFNePI9"
      },
      "source": [
        "---\n",
        "### Exercise 4 - create a copy\n",
        "\n",
        "Write a function which will: use a for loop to create a copy of the `nums` list:\n",
        "\n",
        "*   create a new, empty, list called **new_nums**  (*Hint: an empty list is [ ]*)\n",
        "*   use a for loop which uses the following syntax:  `for num in nums:`\n",
        "*   each time round the loop append `num` to `new_nums`  ( *`new_nums.append(num)`*)\n",
        "*   print the first 10 items of `new_nums`\n",
        "*   print the first 10 items of `nums`\n",
        "*   print the length of both lists"
      ]
    },
    {
      "cell_type": "code",
      "metadata": {
        "id": "mpK1Ip3we-uC",
        "colab": {
          "base_uri": "https://localhost:8080/"
        },
        "outputId": "2b378e8c-93cb-4e94-d093-97ccf3d4b3bf"
      },
      "source": [
        "def create_copy():\n",
        "  new_nums = []\n",
        "\n",
        "  for num in nums:\n",
        "    new_nums.append(num)\n",
        "\n",
        "  first_ten_new = [new_nums[i] for i in range(10)]\n",
        "  first_ten_old = [nums[i] for i in range(10)]\n",
        "  print(\"New nums list\", first_ten_new)\n",
        "  print(\"Nums list\", first_ten_old)\n",
        "  print(\"Length of new nums list\" ,len(new_nums))\n",
        "  print(\"Length of nums list\", len(nums))\n",
        "\n",
        "create_copy()\n",
        "\n"
      ],
      "execution_count": null,
      "outputs": [
        {
          "output_type": "stream",
          "name": "stdout",
          "text": [
            "New nums list [47, 95, 58, 15, 77, 1, 77, 26, 69, 46]\n",
            "Nums list [47, 95, 58, 15, 77, 1, 77, 26, 69, 46]\n",
            "Length of new nums list 1000\n",
            "Length of nums list 1000\n"
          ]
        }
      ]
    },
    {
      "cell_type": "markdown",
      "metadata": {
        "id": "deUIFWjRe-3G"
      },
      "source": [
        "\n",
        "\n",
        "```\n",
        "# This is formatted as code\n",
        "```\n",
        "\n",
        "---\n",
        "### Exercise 5 - count the occurrence of age in characteristics\n",
        "\n",
        "Write a function which will use the list method:\n",
        "\n",
        "`num_items = list_name.count(item)`\n",
        "\n",
        "to count the number of occurrences of 'age' in the `characteristics` list.  Print the result."
      ]
    },
    {
      "cell_type": "code",
      "metadata": {
        "id": "b9TrHQ9hfoIU",
        "colab": {
          "base_uri": "https://localhost:8080/"
        },
        "outputId": "fca4e3f2-b6c9-4899-eed4-ce03db1df832"
      },
      "source": [
        "def count_items():\n",
        "  return characteristics.count('age')\n",
        "\n",
        "count_items()"
      ],
      "execution_count": null,
      "outputs": [
        {
          "output_type": "execute_result",
          "data": {
            "text/plain": [
              "256"
            ]
          },
          "metadata": {},
          "execution_count": 12
        }
      ]
    },
    {
      "cell_type": "markdown",
      "metadata": {
        "id": "zm2VI5RmfoSy"
      },
      "source": [
        "---\n",
        "### Exercise 6 - sort the nums list\n",
        "\n",
        "Write a function which will:\n",
        "*   call the function `get_num_list()` and store the result in a new list called **sort_nums**\n",
        "*   print the first, and last, 20 items in the `sort_nums` list\n",
        "*   use the `list_name.sort()` method to sort the `sort_nums` list into ascending order\n",
        "*   print the first, and last, 20 items again  \n",
        "*   use the `list_name.sort()` method again to sort the `sort_nums` list into descending order\n",
        "*   print the first, and last, 20 items again"
      ]
    },
    {
      "cell_type": "code",
      "metadata": {
        "id": "Fksgpj9JgWDs",
        "colab": {
          "base_uri": "https://localhost:8080/"
        },
        "outputId": "04c9a463-a252-424c-81e0-9f5814247db3"
      },
      "source": [
        "sort_nums = get_num_list()\n",
        "print([sort_nums[i] for i in range(20)] + [sort_nums[i] for i in range(-21, -1)])\n",
        "sort_nums.sort()\n",
        "print([sort_nums[i] for i in range(20)] + [sort_nums[i] for i in range(-21, -1)])\n",
        "sort_nums.sort(reverse=True)\n",
        "print([sort_nums[i] for i in range(20)] + [sort_nums[i] for i in range(-21, -1)])"
      ],
      "execution_count": null,
      "outputs": [
        {
          "output_type": "stream",
          "name": "stdout",
          "text": [
            "[100, 100, 100, 100, 100, 100, 99, 99, 99, 99, 99, 99, 99, 99, 99, 99, 99, 99, 98, 98, 2, 2, 2, 2, 2, 2, 1, 1, 1, 1, 1, 1, 1, 1, 1, 1, 1, 1, 1, 1]\n",
            "[1, 1, 1, 1, 1, 1, 1, 1, 1, 1, 1, 1, 1, 1, 1, 2, 2, 2, 2, 2, 98, 98, 98, 99, 99, 99, 99, 99, 99, 99, 99, 99, 99, 99, 99, 100, 100, 100, 100, 100]\n",
            "[100, 100, 100, 100, 100, 100, 99, 99, 99, 99, 99, 99, 99, 99, 99, 99, 99, 99, 98, 98, 2, 2, 2, 2, 2, 2, 1, 1, 1, 1, 1, 1, 1, 1, 1, 1, 1, 1, 1, 1]\n"
          ]
        }
      ]
    },
    {
      "cell_type": "markdown",
      "metadata": {
        "id": "_OF-Xuj1UrW0"
      },
      "source": [
        "---\n",
        "### Exercise 7 - get statistics (max(), min(), sum() )\n",
        "\n",
        "Write a function which will:\n",
        "*   print the maximum and minimum numbers in the `nums` list  \n",
        "*   print the sum of the `nums` list\n",
        "*   calculate and print the average of the `nums` list (using `len()` to help)"
      ]
    },
    {
      "cell_type": "code",
      "metadata": {
        "id": "9YmYMenZVGod",
        "colab": {
          "base_uri": "https://localhost:8080/"
        },
        "outputId": "0740d0c6-3714-4d15-ef15-340245df203e"
      },
      "source": [
        "def print_info():\n",
        "  nums.sort()\n",
        "  print(nums[0])\n",
        "  print(nums[-1])\n",
        "  print(sum(nums))\n",
        "  print(sum(nums) // len(nums))\n",
        "\n",
        "print_info()"
      ],
      "execution_count": null,
      "outputs": [
        {
          "output_type": "stream",
          "name": "stdout",
          "text": [
            "1\n",
            "100\n",
            "50325\n",
            "50\n"
          ]
        }
      ]
    },
    {
      "cell_type": "markdown",
      "metadata": {
        "id": "Mn4tHQ_KVbHa"
      },
      "source": [
        "---\n",
        "### Exercise 8 - percentage difference\n",
        "\n",
        "Write a function which will:\n",
        "*   generate a new list called **ex8_nums** using `get_num_list()`\n",
        "*   calculate and print the percentage difference between the first number in each list (as a percentage of the number in the nums list) (Hint:  find the difference between the two numbers, divide the difference by the number in `nums` and multiply by 100)\n",
        "*   calculate and print the percentage difference between the last numbers in each list in the same way\n",
        "*   calculate and print the percentage difference between the middle numbers in each list in the same way.\n",
        "*   calculate and print the percentage difference between the sums of each list in the same way"
      ]
    },
    {
      "cell_type": "code",
      "metadata": {
        "id": "nJCQjZIeZL0e",
        "colab": {
          "base_uri": "https://localhost:8080/"
        },
        "outputId": "0a40a70f-1601-4f28-b942-9ae0bf967c36"
      },
      "source": [
        "def calc_data():\n",
        "  ex8_nums = get_num_list()\n",
        "  percentage_diff_first_nums = ((nums[0] - ex8_nums[0]) / nums[0]) * 100\n",
        "  print(percentage_diff_first_nums)\n",
        "  percentage_diff_last_nums = ((nums[-1] - ex8_nums[-1]) / nums[-1]) * 100\n",
        "  print(percentage_diff_last_nums)\n",
        "\n",
        "\n",
        "calc_data()"
      ],
      "execution_count": null,
      "outputs": [
        {
          "output_type": "stream",
          "name": "stdout",
          "text": [
            "0.0\n",
            "0.0\n"
          ]
        }
      ]
    },
    {
      "cell_type": "markdown",
      "metadata": {
        "id": "HNs3lZmYawFO"
      },
      "source": [
        "---\n",
        "### Exercise 9 - characteristic counts\n",
        "\n",
        "Write a function which will:\n",
        "*  iterate through the `protected_characteristics` tuple and for each **characteristic**:\n",
        "*   *   count the number of occurrences of that `characteristic` in the `characteristics` list\n",
        "*   *   print the `protected_characteristic` and the **count**  \n",
        "\n",
        "Example expected output:\n",
        "\n",
        "age 100  \n",
        "disability 120  \n",
        "gender reassignment 120  \n",
        "marriage and civil partnership 111  \n",
        "pregnancy and maternity 103  \n",
        "race 106  \n",
        "religion or belief 95  \n",
        "sex 110  \n",
        "sexual orientation 113  \n",
        "\n",
        "Extra learning:  you can read [here](https://thispointer.com/python-how-to-pad-strings-with-zero-space-or-some-other-character/) how to justify the printed characteristic so that the output is organised into two columns as shown below:  \n",
        "![tabulated output](https://drive.google.com/uc?id=1CCXfX6K5ZeDefnq7vUsqxCDmqvcfY8Mz)\n",
        "\n",
        "\n",
        "\n"
      ]
    },
    {
      "cell_type": "code",
      "metadata": {
        "id": "GURT11albqUs",
        "colab": {
          "base_uri": "https://localhost:8080/"
        },
        "outputId": "c8530182-011c-471c-906a-94b1b22c26a7"
      },
      "source": [
        "def count_characteristics():\n",
        "  print(\"Protected characteristic\".ljust(35), \"Frequency\")\n",
        "  for item in protected_characteristics:\n",
        "    print(item.ljust(35), characteristics.count(item))\n",
        "\n",
        "count_characteristics()\n",
        "\n"
      ],
      "execution_count": null,
      "outputs": [
        {
          "output_type": "stream",
          "name": "stdout",
          "text": [
            "Protected characteristic            Frequency\n",
            "age                                 256\n",
            "disability                          278\n",
            "gender reassignment                 260\n",
            "marriage and civil partnership      276\n",
            "pregnancy and maternity             277\n",
            "race                                270\n",
            "religion or belief                  229\n",
            "sex                                 301\n",
            "sexual orientation                  260\n"
          ]
        }
      ]
    },
    {
      "cell_type": "markdown",
      "metadata": {
        "id": "9Po7yQj-ds38"
      },
      "source": [
        "---\n",
        "### Exercise 10 - characteristics statistics\n",
        "\n",
        "Assuming that the `characteristics` list may have been taken from a study of cases that have been taken to court in relation to the Equality Act.  \n",
        "\n",
        "Write a function which will:\n",
        "\n",
        "*   find the most common characteristic resulting in court action, from this population\n",
        "*   print this in a message, e.g. The characteristic with the highest number of court cases is:  *characteristic*\n",
        "*   print the list of `protected_characteristics`, on one line if possible - see [here](https://www.geeksforgeeks.org/g-fact-25-print-single-multiple-variable-python/)\n",
        "*   ask the user to enter a characteristic that they would like to see statistics on and use a while loop to continue until the user has entered a valid characteristic\n",
        "*   print the characteristic, its frequency and the percentage that this frequency is of the whole population."
      ]
    },
    {
      "cell_type": "code",
      "metadata": {
        "id": "uk_I5z7UgbDs",
        "colab": {
          "base_uri": "https://localhost:8080/"
        },
        "outputId": "1354c250-598d-4b62-e1d2-3d9011ad9ef1"
      },
      "source": [
        "def print_characteristic():\n",
        "  max = {'name': '', 'count': 0}\n",
        "\n",
        "  for item in protected_characteristics:\n",
        "    if characteristics.count(item) > max['count']:\n",
        "      max['name'] = item\n",
        "      max['count'] = characteristics.count(item)\n",
        "\n",
        "  print(\"The characteristic with the highest number of court cases is: \", max['name'])\n",
        "  print(protected_characteristics)\n",
        "\n",
        "  answer = False\n",
        "  user_choice = ''\n",
        "\n",
        "  while answer == False:\n",
        "    user_choice = input(\"Enter a characteristic you would like to see the statistics of: \")\n",
        "    if user_choice in protected_characteristics:\n",
        "      answer = True\n",
        "\n",
        "  frequency = characteristics.count(user_choice)\n",
        "  percentage_of_frequency = round((frequency / len(characteristics)) * 100, 2)\n",
        "\n",
        "  print(user_choice, frequency, \"{}%\".format(percentage_of_frequency))\n",
        "\n",
        "print_characteristic()\n",
        "\n"
      ],
      "execution_count": null,
      "outputs": [
        {
          "output_type": "stream",
          "name": "stdout",
          "text": [
            "The characteristic with the highest number of court cases is:  sex\n",
            "('age', 'disability', 'gender reassignment', 'marriage and civil partnership', 'pregnancy and maternity', 'race', 'religion or belief', 'sex', 'sexual orientation')\n",
            "Enter a characteristic you would like to see the statistics of: wrong\n",
            "Enter a characteristic you would like to see the statistics of: answer\n",
            "Enter a characteristic you would like to see the statistics of: age\n",
            "age 256 10.64%\n"
          ]
        }
      ]
    }
  ]
}