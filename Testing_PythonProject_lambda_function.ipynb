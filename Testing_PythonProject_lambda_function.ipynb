{
  "nbformat": 4,
  "nbformat_minor": 0,
  "metadata": {
    "colab": {
      "provenance": [],
      "include_colab_link": true
    },
    "kernelspec": {
      "name": "python3",
      "display_name": "Python 3"
    },
    "language_info": {
      "name": "python"
    }
  },
  "cells": [
    {
      "cell_type": "markdown",
      "metadata": {
        "id": "view-in-github",
        "colab_type": "text"
      },
      "source": [
        "<a href=\"https://colab.research.google.com/github/AlyonaSarapina/python-and-cyber/blob/main/Testing_PythonProject_lambda_function.ipynb\" target=\"_parent\"><img src=\"https://colab.research.google.com/assets/colab-badge.svg\" alt=\"Open In Colab\"/></a>"
      ]
    },
    {
      "cell_type": "markdown",
      "source": [
        "Testing the lambda function code locally as a part of the PythonProject\n",
        "\n",
        "# Connecting to AWS Simple Storage System (S3)\n"
      ],
      "metadata": {
        "id": "OLyJadlYUQ30"
      }
    },
    {
      "cell_type": "markdown",
      "source": [
        "### Installing boto3 for use in this worksheet"
      ],
      "metadata": {
        "id": "Msbx3QBoWEF8"
      }
    },
    {
      "cell_type": "code",
      "source": [
        "!pip install boto3"
      ],
      "metadata": {
        "id": "jHUliNAyWlej",
        "outputId": "c27bccd5-8969-4e06-8bd1-2be4fcb58168",
        "colab": {
          "base_uri": "https://localhost:8080/"
        }
      },
      "execution_count": 1,
      "outputs": [
        {
          "output_type": "stream",
          "name": "stdout",
          "text": [
            "Collecting boto3\n",
            "  Downloading boto3-1.34.64-py3-none-any.whl (139 kB)\n",
            "\u001b[2K     \u001b[90m━━━━━━━━━━━━━━━━━━━━━━━━━━━━━━━━━━━━━━━━\u001b[0m \u001b[32m139.3/139.3 kB\u001b[0m \u001b[31m1.4 MB/s\u001b[0m eta \u001b[36m0:00:00\u001b[0m\n",
            "\u001b[?25hCollecting botocore<1.35.0,>=1.34.64 (from boto3)\n",
            "  Downloading botocore-1.34.64-py3-none-any.whl (12.0 MB)\n",
            "\u001b[2K     \u001b[90m━━━━━━━━━━━━━━━━━━━━━━━━━━━━━━━━━━━━━━━━\u001b[0m \u001b[32m12.0/12.0 MB\u001b[0m \u001b[31m37.2 MB/s\u001b[0m eta \u001b[36m0:00:00\u001b[0m\n",
            "\u001b[?25hCollecting jmespath<2.0.0,>=0.7.1 (from boto3)\n",
            "  Downloading jmespath-1.0.1-py3-none-any.whl (20 kB)\n",
            "Collecting s3transfer<0.11.0,>=0.10.0 (from boto3)\n",
            "  Downloading s3transfer-0.10.1-py3-none-any.whl (82 kB)\n",
            "\u001b[2K     \u001b[90m━━━━━━━━━━━━━━━━━━━━━━━━━━━━━━━━━━━━━━━━\u001b[0m \u001b[32m82.2/82.2 kB\u001b[0m \u001b[31m4.8 MB/s\u001b[0m eta \u001b[36m0:00:00\u001b[0m\n",
            "\u001b[?25hRequirement already satisfied: python-dateutil<3.0.0,>=2.1 in /usr/local/lib/python3.10/dist-packages (from botocore<1.35.0,>=1.34.64->boto3) (2.8.2)\n",
            "Requirement already satisfied: urllib3!=2.2.0,<3,>=1.25.4 in /usr/local/lib/python3.10/dist-packages (from botocore<1.35.0,>=1.34.64->boto3) (2.0.7)\n",
            "Requirement already satisfied: six>=1.5 in /usr/local/lib/python3.10/dist-packages (from python-dateutil<3.0.0,>=2.1->botocore<1.35.0,>=1.34.64->boto3) (1.16.0)\n",
            "Installing collected packages: jmespath, botocore, s3transfer, boto3\n",
            "Successfully installed boto3-1.34.64 botocore-1.34.64 jmespath-1.0.1 s3transfer-0.10.1\n"
          ]
        }
      ]
    },
    {
      "cell_type": "markdown",
      "source": [
        "### Saving my access key, and secret key in an environment variable"
      ],
      "metadata": {
        "id": "EZhg5WXdW8na"
      }
    },
    {
      "cell_type": "code",
      "execution_count": 2,
      "metadata": {
        "id": "0V-74wDUUCiC"
      },
      "outputs": [],
      "source": [
        "import os\n",
        "from IPython.display import clear_output\n",
        "\n",
        "def set_environment_variable_values():\n",
        "  ACCESS_KEY = input(\"Please enter the AWS access key: \")\n",
        "  SECRET_ACCESS_KEY = input(\"Please enter the AWS secret access key: \")\n",
        "  BUCKET_NAME = input(\"Please enter the name of the bucket in S3: \")\n",
        "  os.environ['ACCESS_KEY'] = ACCESS_KEY\n",
        "  os.environ['SECRET_ACCESS_KEY'] = SECRET_ACCESS_KEY\n",
        "  os.environ['BUCKET_NAME'] = BUCKET_NAME\n",
        "  clear_output()\n",
        "  return None\n",
        "\n",
        "set_environment_variable_values()\n"
      ]
    },
    {
      "cell_type": "markdown",
      "source": [
        "### Creating a connection to the S3 bucket"
      ],
      "metadata": {
        "id": "EyLPbMMlTe63"
      }
    },
    {
      "cell_type": "code",
      "source": [
        "import boto3\n",
        "\n",
        "def get_S3_client():\n",
        "\tresource = boto3.client(\n",
        "     \"s3\",\n",
        "\t\taws_access_key_id = os.environ.get('ACCESS_KEY'),\n",
        "\t\taws_secret_access_key = os.environ.get('SECRET_ACCESS_KEY')\n",
        "\t)\n",
        "\treturn resource\n",
        "\n",
        "s3_client = get_S3_client()\n",
        "print(s3_client)"
      ],
      "metadata": {
        "colab": {
          "base_uri": "https://localhost:8080/"
        },
        "id": "xm0Hz9JEUwxE",
        "outputId": "ba75948e-570f-4c81-c0c5-7f1d75a7be92"
      },
      "execution_count": 3,
      "outputs": [
        {
          "output_type": "stream",
          "name": "stdout",
          "text": [
            "<botocore.client.S3 object at 0x7845b06b3ac0>\n"
          ]
        }
      ]
    },
    {
      "cell_type": "markdown",
      "source": [
        "### LAMBDA FUNCTIONS\n"
      ],
      "metadata": {
        "id": "qfwQ9T_ZV4oa"
      }
    },
    {
      "cell_type": "code",
      "source": [
        "import pandas as pd\n",
        "import io\n",
        "\n",
        "def add_school_data_to_bucket(filename, filedata):\n",
        "    try:\n",
        "      file_object = s3_client.get_object(Bucket=os.environ.get('BUCKET_NAME'), Key=filename)\n",
        "      data_file = io.BytesIO(file_object['Body'].read())\n",
        "      data = pd.read_csv(data_file)\n",
        "      data_list = data.values.tolist()\n",
        "      names_array = []\n",
        "      for row in data_list:\n",
        "        names_array.append(row[0])\n",
        "      new_data = []\n",
        "      for school in filedata:\n",
        "        if school[0] not in names_array:\n",
        "          new_data.append(school)\n",
        "      data_list = data_list.append(new_data)\n",
        "      if len(new_data) == 0:\n",
        "        return \"This schools already in a file\", []\n",
        "      else:\n",
        "        file_object =  io.StringIO()\n",
        "        pd.DataFrame(data_list).to_csv(file_object, index=False)\n",
        "        s3_client.put_object(Bucket=os.environ.get('BUCKET_NAME'), Body=file_object.getvalue(), Key=filename)\n",
        "      return \"New data successfully added\", new_data\n",
        "    except Exception as e:\n",
        "      if str(e) == \"An error occurred (NoSuchKey) when calling the GetObject operation: The specified key does not exist.\":\n",
        "        headers = [\"Name\", 'Latitude', 'Longitude']\n",
        "        file_object =  io.StringIO()\n",
        "        pd.DataFrame(filedata, columns=headers).to_csv(file_object, index=False)\n",
        "        s3_client.put_object(Bucket=os.environ.get('BUCKET_NAME'), Body=file_object.getvalue(), Key=filename)\n",
        "        return \"New file successfully created\", filedata\n",
        "      else:\n",
        "       return str(e), []\n",
        "\n",
        "def show_schools_data_in_bucket(filename):\n",
        "    try:\n",
        "        file_object = s3_client.get_object(Bucket=os.environ.get('BUCKET_NAME'), Key=filename)\n",
        "\n",
        "        data_file = io.BytesIO(file_object['Body'].read())\n",
        "        data = pd.read_csv(data_file)\n",
        "        data_list = data.values.tolist()\n",
        "        return \"The data has been found\", data_list\n",
        "    except Exception as e:\n",
        "        return \"There is no such file\", []\n",
        "\n",
        "\n"
      ],
      "metadata": {
        "id": "2o-HkfsuX26E"
      },
      "execution_count": 82,
      "outputs": []
    },
    {
      "cell_type": "code",
      "source": [
        "import json\n",
        "\n",
        "def lambda_handler(event, context):\n",
        "    global message, return_data, statuscode\n",
        "    filename = \"schools_list.csv\"\n",
        "    if event[\"httpMethod\"] == \"POST\":\n",
        "        if \"body\" in event.keys():\n",
        "            request = event[\"body\"]\n",
        "            if type(request) is not dict:\n",
        "                request = json.loads(request)\n",
        "            if request is not None and \"data\" in request.keys():\n",
        "                data = request[\"data\"]\n",
        "                if len(data) == 0:\n",
        "                    message, return_data = \"Please enter a valid data\", []\n",
        "                    statuscode = 404\n",
        "                else:\n",
        "                    message, return_data = add_school_data_to_bucket(filename, data)\n",
        "                    statuscode = 200\n",
        "            else:\n",
        "                message, return_data = \"Error in the POST request occured\", []\n",
        "                statuscode = 404\n",
        "    elif event[\"httpMethod\"] == \"GET\":\n",
        "       message, return_data = show_schools_data_in_bucket(filename)\n",
        "       statuscode = 200\n",
        "    else:\n",
        "        message, return_data = \"Error occured\", []\n",
        "        statuscode = 404\n",
        "    return {'statusCode': statuscode,\n",
        "            'headers': {'Content-Type': 'application/json',\n",
        "                        'Access-Control-Allow-Headers': 'Content-Type,X-Api-Key',\n",
        "                        'Access-Control-Allow-Methods': 'POST',\n",
        "                        'Access-Control-Allow-Origin': '*'},\n",
        "            'body': {\"message\": message, \"data\": []}\n",
        "            }\n"
      ],
      "metadata": {
        "id": "COYMBXPIR6X0"
      },
      "execution_count": 70,
      "outputs": []
    },
    {
      "cell_type": "markdown",
      "source": [
        "Test 1 - creating a new file"
      ],
      "metadata": {
        "id": "xeiXPBuURV4s"
      }
    },
    {
      "cell_type": "code",
      "source": [
        "event= {\n",
        "    \"httpMethod\": \"POST\",\n",
        "    \"body\": {\n",
        "    \"data\": [\n",
        "        [\n",
        "            \"Bannockburn Primary School\",\n",
        "            51.4869172,\n",
        "            0.1015561\n",
        "        ],\n",
        "        [\n",
        "            \"St Margaret Clitherow Primary School\",\n",
        "            51.50103289999999,\n",
        "            0.1132992\n",
        "        ]\n",
        "    ]\n",
        "}\n",
        "}\n",
        "\n",
        "test1 = lambda_handler(event, None)\n",
        "\n",
        "if test1['body']['message'] == \"New file successfully created\":\n",
        "  print(\"Test 1 passed\")\n",
        "else:\n",
        "  print(\"Test 1 failed\")"
      ],
      "metadata": {
        "id": "hMbmalEDzva8",
        "colab": {
          "base_uri": "https://localhost:8080/"
        },
        "outputId": "bd189333-f9e1-4ed7-cfdb-f4d029aa0e93"
      },
      "execution_count": 90,
      "outputs": [
        {
          "output_type": "stream",
          "name": "stdout",
          "text": [
            "Test 1 passed\n"
          ]
        }
      ]
    },
    {
      "cell_type": "markdown",
      "source": [
        "Test 2 - adding a new data in a new file"
      ],
      "metadata": {
        "id": "Wp-j9CIYa0BU"
      }
    },
    {
      "cell_type": "code",
      "source": [
        "event = {\n",
        "    \"httpMethod\": \"POST\",\n",
        "    \"body\": {\n",
        "    \"data\": [\n",
        "        [\n",
        "        'Jesmond Park Academy',\n",
        "         54.9939443,\n",
        "         -1.588097\n",
        "        ]\n",
        "    ]\n",
        "}\n",
        "}\n",
        "\n",
        "test2 = lambda_handler(event, None)\n",
        "\n",
        "if test2['body']['message'] == \"New data successfully added\":\n",
        "  print(\"Test 2 passed\")\n",
        "else:\n",
        "  print(\"Test 2 failed\")"
      ],
      "metadata": {
        "id": "tE6UGsBPazYK",
        "outputId": "7cad1183-cddd-4d17-c740-71245ec1f204",
        "colab": {
          "base_uri": "https://localhost:8080/"
        }
      },
      "execution_count": 87,
      "outputs": [
        {
          "output_type": "stream",
          "name": "stdout",
          "text": [
            "Test 2 passed\n"
          ]
        }
      ]
    },
    {
      "cell_type": "markdown",
      "source": [
        "Test 3 - GET request when file doesn't exists"
      ],
      "metadata": {
        "id": "n8VYdM85RhVT"
      }
    },
    {
      "cell_type": "code",
      "source": [
        "event= {\n",
        "    \"httpMethod\": \"GET\",\n",
        "}\n",
        "\n",
        "test3 = lambda_handler(event, None)\n",
        "\n",
        "if test3['body']['message'] == \"There is no such file\":\n",
        "  print(\"Test 3 passed\")\n",
        "else:\n",
        "  print(\"Test 3 failed\")\n",
        "\n",
        "\n"
      ],
      "metadata": {
        "colab": {
          "base_uri": "https://localhost:8080/"
        },
        "id": "QBbSsF8kRSFp",
        "outputId": "23b6ef94-affa-4875-cad7-82f42cf87e7b"
      },
      "execution_count": 85,
      "outputs": [
        {
          "output_type": "stream",
          "name": "stdout",
          "text": [
            "Test 3 passed\n"
          ]
        }
      ]
    },
    {
      "cell_type": "markdown",
      "source": [
        "Test 4 - GET request of file with data"
      ],
      "metadata": {
        "id": "k5vZplg3cXmR"
      }
    },
    {
      "cell_type": "code",
      "source": [
        "event= {\n",
        "    \"httpMethod\": \"GET\",\n",
        "}\n",
        "\n",
        "test4 = lambda_handler(event, None)\n",
        "\n",
        "if test4['body']['message'] == \"The data has been found\":\n",
        "  print(\"Test 4 passed\")\n",
        "else:\n",
        "  print(\"Test 4 failed\")"
      ],
      "metadata": {
        "id": "7QfDj5n7cXZy",
        "outputId": "ed767cfc-3b97-453e-bee1-5c469e5babf3",
        "colab": {
          "base_uri": "https://localhost:8080/"
        }
      },
      "execution_count": 91,
      "outputs": [
        {
          "output_type": "stream",
          "name": "stdout",
          "text": [
            "Test 4 passed\n"
          ]
        }
      ]
    }
  ]
}