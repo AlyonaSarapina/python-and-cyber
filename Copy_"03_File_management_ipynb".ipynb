{
  "cells": [
    {
      "cell_type": "markdown",
      "metadata": {
        "id": "view-in-github",
        "colab_type": "text"
      },
      "source": [
        "<a href=\"https://colab.research.google.com/github/AlyonaSarapina/python-and-cyber/blob/main/Copy_%2203_File_management_ipynb%22.ipynb\" target=\"_parent\"><img src=\"https://colab.research.google.com/assets/colab-badge.svg\" alt=\"Open In Colab\"/></a>"
      ]
    },
    {
      "cell_type": "markdown",
      "metadata": {
        "id": "RYkEMTM8Rirb"
      },
      "source": [
        "# Keep it clean, keep it safe\n",
        "---\n",
        "\n",
        "Effective digital file management might include:\n",
        "*  Avoid saving unnecessary documents.\n",
        "*  Follow a consistent method for naming your files and folders.\n",
        "*  Store related documents together, whatever their type.\n",
        "*  Separate ongoing work from completed work.\n",
        "*  Avoid overfilling folders.\n",
        "*  Organize documents by date.\n",
        "*  Keep back ups"
      ]
    },
    {
      "cell_type": "markdown",
      "metadata": {
        "id": "m5Y0v-lVXdy-"
      },
      "source": [
        "### Upload some files to work with\n",
        "---\n",
        "\n",
        "This notebook has its own filing system, which you can work with.  Any files used during a session are deleted when the notebook's runtime session stops (e.g. after a period of inactivity or when you close it).\n",
        "\n",
        "A set of files has been prepared for this exercise.  The zipped folder containing these can be downloaded from [here](https://drive.google.com/file/d/16YXn5XdbIA4rSoQhZQ4c20__z0C_lD3f/view?usp=sharing)  \n",
        "\n",
        "Watch this [video](https://vimeo.com/891330968/b7c8408947) to see how to upload the prepared set of files to the notebook."
      ]
    },
    {
      "cell_type": "markdown",
      "metadata": {
        "id": "arSH11Mqbpga"
      },
      "source": [
        "### Find help for file handling with python\n",
        "---\n",
        "\n",
        "You will need to be able to do the following:\n",
        "*  list the contents of a directory\n",
        "*  walk through directory contents (subdirectories)\n",
        "*  rename a file\n",
        "*  create a folder\n",
        "*  delete a file\n",
        "*  move a file\n",
        "*  change access settings for a file or folder\n",
        "\n",
        "This site has some guidance:  https://pynative.com/python/file-handling/\n",
        "\n",
        "The PATH to access files in the notebook file system is:\n",
        "\n",
        "/content/folder_name/file_name"
      ]
    },
    {
      "cell_type": "markdown",
      "metadata": {
        "id": "uWqUBJI8eNgD"
      },
      "source": [
        "### Exercise 1\n",
        "---\n",
        "\n",
        "Print a list of the files in the Acme File System directory"
      ]
    },
    {
      "cell_type": "code",
      "execution_count": 15,
      "metadata": {
        "id": "A5g5tz1sRbiP",
        "colab": {
          "base_uri": "https://localhost:8080/"
        },
        "outputId": "6a092db7-25b8-47f0-8cfb-25d1e2216548"
      },
      "outputs": [
        {
          "output_type": "execute_result",
          "data": {
            "text/plain": [
              "['Company Accounts - Copy.txt',\n",
              " 'June 2023 report.txt',\n",
              " 'June 2023 minutes - Copy.txt',\n",
              " 'February 2023 minutes.txt',\n",
              " 'June 2023 minutes.txt',\n",
              " 'September 2022 report.txt',\n",
              " 'Mar 2023 report.txt',\n",
              " 'May 2023 report.txt',\n",
              " 'September 2023 minutes.txt',\n",
              " 'Mar 2023 minutes.txt',\n",
              " 'Bank details.txt',\n",
              " 'July 2022 report.txt',\n",
              " 'May 2023 minutes.txt',\n",
              " 'August 2023 minutes.txt',\n",
              " 'November 2022 report.txt',\n",
              " 'February 2023 report - Copy.txt',\n",
              " 'Mar 2023 report - Copy.txt',\n",
              " 'Customer payments.txt',\n",
              " 'October 2022 report.txt',\n",
              " 'Bobs Diary.txt',\n",
              " 'Staff addresses.txt',\n",
              " 'May 2023 minutes - Copy.txt',\n",
              " 'July 2023 minutes.txt',\n",
              " 'April 2023 minutes.txt',\n",
              " 'February 2023 report.txt',\n",
              " 'October 2023 minutes.txt',\n",
              " 'Security Project.txt',\n",
              " 'Temp staff.txt',\n",
              " 'December  2023 minutes.txt',\n",
              " 'Company Accounts.txt',\n",
              " 'November 2022 report - Copy.txt',\n",
              " 'January 2023 report.txt',\n",
              " 'January 2023 minutes.txt',\n",
              " 'August 2023 minutes - Copy.txt',\n",
              " 'April 2023 report.txt',\n",
              " 'December  2022 report.txt',\n",
              " 'August 2022 report.txt',\n",
              " 'November 2023 minutes.txt']"
            ]
          },
          "metadata": {},
          "execution_count": 15
        }
      ],
      "source": [
        "import os\n",
        "\n",
        "os.listdir(\"/content/Acme File System\")"
      ]
    },
    {
      "cell_type": "markdown",
      "metadata": {
        "id": "sUhPT6OVe59J"
      },
      "source": [
        "### Exercise 2\n",
        "---\n",
        "Create TWO new folders:  \n",
        "*  Minutes\n",
        "*  Reports\n",
        "\n",
        "Move all files with names containing 'minutes' to the Minutes folder.  \n",
        "\n",
        "Move all files with names containing 'report' to the Reports folder."
      ]
    },
    {
      "cell_type": "code",
      "execution_count": 16,
      "metadata": {
        "id": "7ybpu_aOfZfY"
      },
      "outputs": [],
      "source": [
        "import os\n",
        "import shutil\n",
        "\n",
        "path1 = os.path.join(\"/content/\", \"Minutes\")\n",
        "path2 = os.path.join(\"/content/\", \"Reports\")\n",
        "\n",
        "os.mkdir(path1)\n",
        "os.mkdir(path2)\n",
        "\n",
        "list = os.listdir(\"/content/Acme File System\")\n",
        "\n",
        "for file in list:\n",
        "  if 'minutes' in file:\n",
        "    shutil.move(\"/content/Acme File System/\" + file, \"/content/Minutes\")\n",
        "  elif 'report' in file:\n",
        "    shutil.move(\"/content/Acme File System/\" + file, \"/content/Reports\")\n",
        "\n"
      ]
    },
    {
      "cell_type": "markdown",
      "metadata": {
        "id": "661xS_VafZrS"
      },
      "source": [
        "### Exercise 3\n",
        "---\n",
        "In the Reports folder, create TWO new folders:\n",
        "*  2022 reports\n",
        "*  2023 reports\n",
        "\n",
        "Move all files with 2022 in the name to the 2022 folder.  \n",
        "Move all files with 2023 in the name to the 2023 folder."
      ]
    },
    {
      "cell_type": "code",
      "execution_count": 17,
      "metadata": {
        "id": "bbPeHrUlftRw"
      },
      "outputs": [],
      "source": [
        "import os\n",
        "import shutil\n",
        "\n",
        "path1 = os.path.join(\"/content/Reports\", \"2022 reports\")\n",
        "path2 = os.path.join(\"/content/Reports\", \"2023 reports\")\n",
        "\n",
        "os.mkdir(path1)\n",
        "os.mkdir(path2)\n",
        "\n",
        "list = os.listdir(\"/content/Reports\")\n",
        "\n",
        "for file in list:\n",
        "  if '2022' in file:\n",
        "    shutil.move(\"/content/Reports/\" + file, \"/content/Reports/2022 reports\")\n",
        "  elif '2023' in file:\n",
        "    shutil.move(\"/content/Reports/\" + file, \"/content/Reports/2023 reports\")"
      ]
    },
    {
      "cell_type": "markdown",
      "metadata": {
        "id": "6qkW3JsZftcA"
      },
      "source": [
        "### Exercise 4\n",
        "---\n",
        "List the directory structure for Acme File System using os.walk()\n",
        "\n",
        "Help here: https://www.geeksforgeeks.org/os-walk-python/"
      ]
    },
    {
      "cell_type": "code",
      "execution_count": 18,
      "metadata": {
        "id": "JhsZwSpIiH2b",
        "colab": {
          "base_uri": "https://localhost:8080/"
        },
        "outputId": "72414324-3d5a-4b28-c841-1645ad219558"
      },
      "outputs": [
        {
          "output_type": "stream",
          "name": "stdout",
          "text": [
            "/content/Acme File System\n",
            "[]\n",
            "['Company Accounts - Copy.txt', 'Bank details.txt', 'Customer payments.txt', 'Bobs Diary.txt', 'Staff addresses.txt', 'Security Project.txt', 'Temp staff.txt', 'Company Accounts.txt']\n",
            "--------------------------------\n"
          ]
        }
      ],
      "source": [
        "import os\n",
        "\n",
        "for (root,dirs,files) in os.walk(\"/content/Acme File System\"):\n",
        "        print (root)\n",
        "        print (dirs)\n",
        "        print (files)\n",
        "        print ('--------------------------------')"
      ]
    },
    {
      "cell_type": "markdown",
      "metadata": {
        "id": "w3Fk4y9miI_R"
      },
      "source": [
        "### Exercise 5\n",
        "---\n",
        "There are some accidental copies of files in the directory.  \n",
        "\n",
        "Walk through the directory, find all files with 'copy' in the name and delete them.\n",
        "\n",
        "List all the files and folders in the directory and its sub-directories."
      ]
    },
    {
      "cell_type": "code",
      "execution_count": 19,
      "metadata": {
        "id": "2MccPkztimSS"
      },
      "outputs": [],
      "source": [
        "import os\n",
        "\n",
        "list = os.listdir('/content/Acme File System')\n",
        "\n",
        "for file in list:\n",
        "  if 'Copy' in file:\n",
        "    os.remove('/content/Acme File System/' + file)"
      ]
    },
    {
      "cell_type": "markdown",
      "metadata": {
        "id": "mjM-LkFZimoL"
      },
      "source": [
        "### Exercise 6\n",
        "---\n",
        "The files in the minutes and the reports directories are labelled by month.  Consequently, they are not stored in date order.  \n",
        "\n",
        "Rename all files with a month in the name to use the month number rather than the name (e.g. replace 'August' with '08', 'December' with '12, etc)\n",
        "\n",
        "List all the files and folders in the directory and its sub-directories."
      ]
    },
    {
      "cell_type": "code",
      "execution_count": 21,
      "metadata": {
        "id": "J-t0OgZljDPp",
        "colab": {
          "base_uri": "https://localhost:8080/"
        },
        "outputId": "59432a99-01bc-417c-b411-ed42403f59de"
      },
      "outputs": [
        {
          "output_type": "stream",
          "name": "stdout",
          "text": [
            "['04 2023 minutes.txt', '09 2023 minutes.txt', 'Mar 2023 minutes.txt', '06 2023 minutes.txt', '10 2023 minutes.txt', '01 2023 minutes.txt', '05 2023 minutes.txt', '06 2023 minutes - Copy.txt', '12  2023 minutes.txt', '08 2023 minutes - Copy.txt', '05 2023 minutes - Copy.txt', '11 2023 minutes.txt', '02 2023 minutes.txt', '08 2023 minutes.txt', '07 2023 minutes.txt']\n"
          ]
        }
      ],
      "source": [
        "import os\n",
        "\n",
        "def rename_file(file_name):\n",
        "  new_name = file_name\n",
        "  if \"January\" in new_name:\n",
        "    new_name = new_name.replace(\"January\", \"01\")\n",
        "  elif \"February\" in new_name:\n",
        "    new_name = new_name.replace(\"February\", \"02\")\n",
        "  elif \"Mar\" in new_name:\n",
        "    new_name = new_name.replace(\"Mar\", \"03\")\n",
        "  elif \"April\" in new_name:\n",
        "    new_name = new_name.replace(\"April\", \"04\")\n",
        "  elif \"May\" in new_name:\n",
        "    new_name = new_name.replace(\"May\", \"05\")\n",
        "  elif \"June\" in new_name:\n",
        "    new_name = new_name.replace(\"June\", \"06\")\n",
        "  elif \"July\" in new_name:\n",
        "    new_name = new_name.replace(\"July\", \"07\")\n",
        "  elif \"August\" in new_name:\n",
        "    new_name = new_name.replace(\"August\", \"08\")\n",
        "  elif \"September\" in new_name:\n",
        "    new_name = new_name.replace(\"September\", \"09\")\n",
        "  elif \"October\" in new_name:\n",
        "    new_name = new_name.replace(\"October\", \"10\")\n",
        "  elif \"November\" in new_name:\n",
        "    new_name = new_name.replace(\"November\", \"11\")\n",
        "  elif \"December\" in new_name:\n",
        "    new_name = new_name.replace(\"December\", \"12\")\n",
        "\n",
        "  return new_name\n",
        "\n",
        "minutes_list = os.listdir('/content/Minutes')\n",
        "reports_2022 = os.listdir('/content/Reports/2022 reports')\n",
        "reports_2023 = os.listdir('/content/Reports/2023 reports')\n",
        "\n",
        "for file in minutes_list:\n",
        "  new_name = rename_file(file)\n",
        "  os.rename('/content/Minutes/' + file, '/content/Minutes/' + new_name)\n",
        "\n",
        "for file in reports_2022:\n",
        "  new_name = rename_file(file)\n",
        "  os.rename('/content/Reports/2022 reports/' + file, '/content/Reports/2022 reports/' + new_name)\n",
        "\n",
        "for file in reports_2023:\n",
        "  new_name = rename_file(file)\n",
        "  os.rename('/content/Reports/2023 reports/' + file, '/content/Reports/2023 reports/' + new_name)\n",
        "\n",
        "print(minutes_list)\n"
      ]
    },
    {
      "cell_type": "markdown",
      "metadata": {
        "id": "FnEIwC1mjJlg"
      },
      "source": [
        "### Exercise 7\n",
        "---\n",
        "Some operating systems do not process files with spaces in their names.  \n",
        "\n",
        "Rename all files to replace spaces with underscores ( _ )  \n",
        "\n",
        "List all the files and folders in the directory and its sub-directories."
      ]
    },
    {
      "cell_type": "code",
      "execution_count": 23,
      "metadata": {
        "id": "8z3HLv0JjdZt"
      },
      "outputs": [],
      "source": [
        "root = \"/content/\"\n",
        "minutes = \"Minutes\"\n",
        "reports = \"Reports/\"\n",
        "old_reports = \"2022 reports\"\n",
        "new_reports = \"2023 reports\"\n",
        "acme = \"Acme File System\"\n",
        "\n",
        "list1_path = root + minutes\n",
        "list2_path = root + reports + old_reports\n",
        "list3_path = root + reports + new_reports\n",
        "list4_path = root + acme\n",
        "\n",
        "def rename(name, path):\n",
        "  new_name = name.replace(\" \", \"_\")\n",
        "  os.rename(path + file, path + new_name)\n",
        "\n",
        "\n",
        "list1 = os.listdir(list1_path)\n",
        "list2 = os.listdir(list2_path)\n",
        "list3 = os.listdir(list3_path)\n",
        "list4 = os.listdir(list4_path)\n",
        "\n",
        "paths = [list1_path, list2_path, list3_path, list4_path]\n",
        "lists = [list1, list2, list3, list4]\n",
        "\n",
        "for list in lists:\n",
        "  for file in list:\n",
        "    if \" \" in file:\n",
        "      index = lists.index(list)\n",
        "      rename(file, paths[index] + '/')\n",
        "\n",
        "\n",
        "\n"
      ]
    },
    {
      "cell_type": "markdown",
      "metadata": {
        "id": "_AEY2vKnjduc"
      },
      "source": [
        "### Exercise 8\n",
        "---\n",
        "Make a back up copy of the whole folder"
      ]
    },
    {
      "cell_type": "code",
      "execution_count": 45,
      "metadata": {
        "id": "9e_k072QkfPi",
        "colab": {
          "base_uri": "https://localhost:8080/",
          "height": 35
        },
        "outputId": "164c51ee-0a73-443c-a86a-a1d1ee59a4c2"
      },
      "outputs": [
        {
          "output_type": "execute_result",
          "data": {
            "text/plain": [
              "'../content_copy'"
            ],
            "application/vnd.google.colaboratory.intrinsic+json": {
              "type": "string"
            }
          },
          "metadata": {},
          "execution_count": 45
        }
      ],
      "source": [
        "import shutil\n",
        "\n",
        "shutil.copytree('../content', '../content_copy')\n"
      ]
    },
    {
      "cell_type": "markdown",
      "metadata": {
        "id": "t1jql1Hln75D"
      },
      "source": [
        "### Exercise 9\n",
        "---\n",
        "Zip the back up folder (use the shutil or zipfile library - help here: https://www.guru99.com/python-zip-file.html.\n",
        "\n",
        "Download the zipped file.  You can use:   \n",
        "```\n",
        "from google.colab import files\n",
        "files.download('example.txt')\n",
        "```\n",
        "\n"
      ]
    },
    {
      "cell_type": "code",
      "execution_count": 46,
      "metadata": {
        "id": "07TF6NbsoVKh",
        "colab": {
          "base_uri": "https://localhost:8080/",
          "height": 17
        },
        "outputId": "836bea72-8faf-4467-e5a8-c12a75b0a8fe"
      },
      "outputs": [
        {
          "output_type": "display_data",
          "data": {
            "text/plain": [
              "<IPython.core.display.Javascript object>"
            ],
            "application/javascript": [
              "\n",
              "    async function download(id, filename, size) {\n",
              "      if (!google.colab.kernel.accessAllowed) {\n",
              "        return;\n",
              "      }\n",
              "      const div = document.createElement('div');\n",
              "      const label = document.createElement('label');\n",
              "      label.textContent = `Downloading \"${filename}\": `;\n",
              "      div.appendChild(label);\n",
              "      const progress = document.createElement('progress');\n",
              "      progress.max = size;\n",
              "      div.appendChild(progress);\n",
              "      document.body.appendChild(div);\n",
              "\n",
              "      const buffers = [];\n",
              "      let downloaded = 0;\n",
              "\n",
              "      const channel = await google.colab.kernel.comms.open(id);\n",
              "      // Send a message to notify the kernel that we're ready.\n",
              "      channel.send({})\n",
              "\n",
              "      for await (const message of channel.messages) {\n",
              "        // Send a message to notify the kernel that we're ready.\n",
              "        channel.send({})\n",
              "        if (message.buffers) {\n",
              "          for (const buffer of message.buffers) {\n",
              "            buffers.push(buffer);\n",
              "            downloaded += buffer.byteLength;\n",
              "            progress.value = downloaded;\n",
              "          }\n",
              "        }\n",
              "      }\n",
              "      const blob = new Blob(buffers, {type: 'application/binary'});\n",
              "      const a = document.createElement('a');\n",
              "      a.href = window.URL.createObjectURL(blob);\n",
              "      a.download = filename;\n",
              "      div.appendChild(a);\n",
              "      a.click();\n",
              "      div.remove();\n",
              "    }\n",
              "  "
            ]
          },
          "metadata": {}
        },
        {
          "output_type": "display_data",
          "data": {
            "text/plain": [
              "<IPython.core.display.Javascript object>"
            ],
            "application/javascript": [
              "download(\"download_d2bcb83a-1fcc-47fa-84dd-c285aff8765a\", \"content_copy_zip.zip\", 7081829)"
            ]
          },
          "metadata": {}
        }
      ],
      "source": [
        "import shutil\n",
        "from google.colab import files\n",
        "\n",
        "shutil.make_archive(\"../content_copy_zip\", 'zip', '../content_copy/')\n",
        "files.download('../content_copy_zip.zip')"
      ]
    },
    {
      "cell_type": "markdown",
      "source": [
        "### Final challenge\n",
        "---\n",
        "\n",
        "Create a new Colab notebook. Write a clean up program that will:\n",
        "\n",
        "Allow the user to specify the name of a zipped folder to upload  \n",
        "Allow the zipped folder to be uploaded  \n",
        "Unzip the folder    \n",
        "Clean up the folder in a similar way to all the things done in the exercises  \n",
        "Back up  \n",
        "Zip and download  \n",
        "\n"
      ],
      "metadata": {
        "id": "qUP8HvMLq-Il"
      }
    }
  ],
  "metadata": {
    "colab": {
      "provenance": [],
      "include_colab_link": true
    },
    "kernelspec": {
      "display_name": "Python 3",
      "name": "python3"
    },
    "language_info": {
      "name": "python"
    }
  },
  "nbformat": 4,
  "nbformat_minor": 0
}