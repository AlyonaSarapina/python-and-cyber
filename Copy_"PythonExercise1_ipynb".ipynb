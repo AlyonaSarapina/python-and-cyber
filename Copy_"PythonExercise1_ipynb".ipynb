{
  "nbformat": 4,
  "nbformat_minor": 0,
  "metadata": {
    "colab": {
      "provenance": [],
      "include_colab_link": true
    },
    "kernelspec": {
      "name": "python3",
      "display_name": "Python 3"
    },
    "language_info": {
      "name": "python"
    }
  },
  "cells": [
    {
      "cell_type": "markdown",
      "metadata": {
        "id": "view-in-github",
        "colab_type": "text"
      },
      "source": [
        "<a href=\"https://colab.research.google.com/github/AlyonaSarapina/python-and-cyber/blob/main/Copy_%22PythonExercise1_ipynb%22.ipynb\" target=\"_parent\"><img src=\"https://colab.research.google.com/assets/colab-badge.svg\" alt=\"Open In Colab\"/></a>"
      ]
    },
    {
      "cell_type": "markdown",
      "source": [
        "1A. Write a program to add the two numbers 9 and 13."
      ],
      "metadata": {
        "id": "Y9kDXsgJh-Xk"
      }
    },
    {
      "cell_type": "code",
      "execution_count": 1,
      "metadata": {
        "id": "9YN0LOPvhNSI",
        "colab": {
          "base_uri": "https://localhost:8080/"
        },
        "outputId": "23ce7b7f-2f88-438f-a7df-063c06193ae0"
      },
      "outputs": [
        {
          "output_type": "stream",
          "name": "stdout",
          "text": [
            "22\n"
          ]
        }
      ],
      "source": [
        "def add_numbers(num1, num2):\n",
        "  return num1 + num2\n",
        "\n",
        "print(add_numbers(9, 13))"
      ]
    },
    {
      "cell_type": "markdown",
      "source": [
        "1B. Write a python program to multiply the two numbers 4 and 5."
      ],
      "metadata": {
        "id": "7WS5GzyIiXO8"
      }
    },
    {
      "cell_type": "code",
      "source": [
        "def multiply_numbers(num1, num2):\n",
        "  return num1 * num2\n",
        "\n",
        "print(multiply_numbers(4, 5))"
      ],
      "metadata": {
        "id": "a4vrN63kich6",
        "colab": {
          "base_uri": "https://localhost:8080/"
        },
        "outputId": "92ae7907-6a2c-43ba-c4a4-6aca8d37090f"
      },
      "execution_count": 2,
      "outputs": [
        {
          "output_type": "stream",
          "name": "stdout",
          "text": [
            "20\n"
          ]
        }
      ]
    },
    {
      "cell_type": "markdown",
      "source": [
        "1C. Write a program that calculates the annual salary of an employee after it increases by 10%. (Initial annual salary £42,000)"
      ],
      "metadata": {
        "id": "X61a4vTIi3oz"
      }
    },
    {
      "cell_type": "code",
      "source": [
        "def salary_calculator(initial_amount):\n",
        "  return int(initial_amount * 1.1)\n",
        "\n",
        "print(salary_calculator(42000))"
      ],
      "metadata": {
        "id": "Ipi3jrRGi8Yj",
        "colab": {
          "base_uri": "https://localhost:8080/"
        },
        "outputId": "28c3c8e9-b5a4-4c21-8cba-3e3be3c7b1cb"
      },
      "execution_count": 4,
      "outputs": [
        {
          "output_type": "stream",
          "name": "stdout",
          "text": [
            "46200\n"
          ]
        }
      ]
    },
    {
      "cell_type": "markdown",
      "source": [
        "2A. Write a python program that finds the volume of a cuboid with length 2m, width 3m and height 5m."
      ],
      "metadata": {
        "id": "E8ZB8jBSi8nb"
      }
    },
    {
      "cell_type": "code",
      "source": [
        "def volume_calculator(length, width, height):\n",
        "  return int(height * width * length)\n",
        "\n",
        "print(volume_calculator(2, 3, 5))"
      ],
      "metadata": {
        "id": "IZ5ro6s9jCx8",
        "colab": {
          "base_uri": "https://localhost:8080/"
        },
        "outputId": "c894d366-5b72-45e5-fcd4-b5ea79b5a9ec"
      },
      "execution_count": 6,
      "outputs": [
        {
          "output_type": "stream",
          "name": "stdout",
          "text": [
            "30\n"
          ]
        }
      ]
    },
    {
      "cell_type": "markdown",
      "source": [
        "2B. Write a program that finds the area of a circle that has a radius of 4m. (You can take pi as being 3.14)"
      ],
      "metadata": {
        "id": "mgfDFNxBjC78"
      }
    },
    {
      "cell_type": "code",
      "source": [
        "def area_calculator(radius):\n",
        "  pi = 3.14\n",
        "  return round(radius ** 2 * pi, 2)\n",
        "\n",
        "print(area_calculator(4))"
      ],
      "metadata": {
        "id": "YMRx47ktjDD7",
        "colab": {
          "base_uri": "https://localhost:8080/"
        },
        "outputId": "bada3235-2ef4-4950-8a02-f360973a8228"
      },
      "execution_count": 8,
      "outputs": [
        {
          "output_type": "stream",
          "name": "stdout",
          "text": [
            "50.24\n"
          ]
        }
      ]
    },
    {
      "cell_type": "markdown",
      "source": [
        "2C. Write a program that finds the volume of a cone of radius 2m and height 5m. (You can take pi as being 3.14)"
      ],
      "metadata": {
        "id": "6lMyZAmzjDLN"
      }
    },
    {
      "cell_type": "code",
      "source": [
        "def cone_volume(radius, height):\n",
        "  pi = 3.14\n",
        "  return round(radius ** 2 * pi * (height / 3), 2)\n",
        "\n",
        "print(cone_volume(2, 5))"
      ],
      "metadata": {
        "id": "AX52qgBzjDTr",
        "colab": {
          "base_uri": "https://localhost:8080/"
        },
        "outputId": "66489640-15e3-486e-84bc-d8fa05cbc17a"
      },
      "execution_count": 9,
      "outputs": [
        {
          "output_type": "stream",
          "name": "stdout",
          "text": [
            "20.93\n"
          ]
        }
      ]
    },
    {
      "cell_type": "markdown",
      "source": [
        "2D. Write a python program that uses a loop to find the factorial of 5."
      ],
      "metadata": {
        "id": "iSdhsrKLjMIb"
      }
    },
    {
      "cell_type": "code",
      "source": [
        "def factorial_calculator(number):\n",
        "  factorial = 1\n",
        "\n",
        "  if (number == 0):\n",
        "    return 1\n",
        "  for i in range(1, number + 1):\n",
        "    factorial *= i\n",
        "  return factorial\n",
        "\n",
        "print(factorial_calculator(5))"
      ],
      "metadata": {
        "id": "AAD9R7cfjKb0",
        "colab": {
          "base_uri": "https://localhost:8080/"
        },
        "outputId": "638faed5-a4bd-427a-85fe-a725588b4fcc"
      },
      "execution_count": 17,
      "outputs": [
        {
          "output_type": "stream",
          "name": "stdout",
          "text": [
            "120\n"
          ]
        }
      ]
    }
  ]
}